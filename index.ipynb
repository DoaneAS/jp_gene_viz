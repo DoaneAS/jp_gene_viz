{
 "cells": [
  {
   "cell_type": "markdown",
   "metadata": {},
   "source": [
    "# Index and overview of `jp_gene_viz`\n",
    "\n",
    "This \"index\" notebook outlines the structure and purpose of the `jp_gene_viz` repository and points out some\n",
    "components and demonstrations of special interest.  Please follow links from this notebook to find example visualizations,\n",
    "folders containing visualizations, and code source files.\n",
    "\n",
    "# What is `jp_gene_viz`?\n",
    "\n",
    "The `jp_gene_viz` package contains modules to implement\n",
    "visualizations intended to\n",
    "be useful in system biology and genetic data analysis.\n",
    "These visualizattions are primarily designed for use in Jupyter/IPython notebooks\n",
    "but some components (like Javascript plugins) provided here can also be used in\n",
    "other contexts.\n",
    "It includes visualization tools\n",
    "for gene expression data, transcriptional regulatory networks, binding motif logos, and other\n",
    "components including generic library support.\n",
    "\n",
    "## The folders\n",
    "\n",
    "- The [`doc`](./doc) folder contains user documentation as notebooks.\n",
    "\n",
    "- The [`examples`](./examples) folder contains basic demonstrations and proofs of concept as notebooks.\n",
    "\n",
    "- The [`experiments`](./experiments) folder contains experimental notebooks with some support modules.\n",
    "\n",
    "- The [`jp_gene_viz`](./jp_gene_viz) folder contains the modularized library code for the package.\n",
    "\n"
   ]
  },
  {
   "cell_type": "code",
   "execution_count": null,
   "metadata": {
    "collapsed": true
   },
   "outputs": [],
   "source": []
  }
 ],
 "metadata": {
  "kernelspec": {
   "display_name": "Python 2",
   "language": "python",
   "name": "python2"
  },
  "language_info": {
   "codemirror_mode": {
    "name": "ipython",
    "version": 2
   },
   "file_extension": ".py",
   "mimetype": "text/x-python",
   "name": "python",
   "nbconvert_exporter": "python",
   "pygments_lexer": "ipython2",
   "version": "2.7.10"
  }
 },
 "nbformat": 4,
 "nbformat_minor": 0
}
