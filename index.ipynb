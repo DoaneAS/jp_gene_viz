{
 "cells": [
  {
   "cell_type": "markdown",
   "metadata": {},
   "source": [
    "# Index and overview of `jp_gene_viz`\n",
    "\n",
    "This \"index\" notebook outlines the structure and purpose of the `jp_gene_viz` repository and points out some\n",
    "components and demonstrations of special interest.  Please follow links from this notebook to find example visualizations,\n",
    "folders containing visualizations, and code source files.\n",
    "\n",
    "# What is `jp_gene_viz`?\n",
    "\n",
    "The `jp_gene_viz` package contains modules to implement\n",
    "visualizations intended to\n",
    "be useful in system biology and genetic data analysis.\n",
    "These visualizattions are primarily designed for use in Jupyter/IPython notebooks\n",
    "but some components (like Javascript plugins) provided here can also be used in\n",
    "other contexts.\n",
    "It includes visualization tools\n",
    "for gene expression data, transcriptional regulatory networks, binding motif logos, and other\n",
    "components including generic library support.\n",
    "\n",
    "## The folders\n",
    "\n",
    "- The [`doc`](./doc) folder contains user documentation as notebooks.\n",
    "\n",
    "- The [`examples`](./examples) folder contains basic demonstrations and proofs of concept as notebooks.\n",
    "\n",
    "- The [`experiments`](./experiments) folder contains experimental notebooks with some support modules.\n",
    "\n",
    "- The [`jp_gene_viz`](./jp_gene_viz) folder contains the modularized library code for the package.\n",
    "\n"
   ]
  },
  {
   "cell_type": "markdown",
   "metadata": {
    "collapsed": true
   },
   "source": [
    "## The data visualization examples\n",
    "\n",
    "The following example notebooks are designed to introduce and illustrate the use of\n",
    "IPython widget implementations provided in the `jp_gene_viz` package.\n",
    "\n",
    "- The [`examples/Network.ipynb`](./examples/Network.ipynb) notebook displays a single regulatory network widget.\n",
    "\n",
    "- The [`examples/Motif widget usage.ipynb`](./examples/Motif widget usage.ipynb) notebook shows how to display binding motif\n",
    "logos and how to associate logos to edges in a network widget.\n",
    "\n",
    "- The [`examples/Linked Heatmap and Network.ipynb`](./examples/Linked Heatmap and Network.ipynb) notebook shows a regulatory\n",
    "network widget linked to a heatmap of gene expression data.\n",
    "\n",
    "- The [`examples/Multiple Coordinated Networks.ipynb`](./examples/Multiple Coordinated Networks.ipynb) notebook\n",
    "shows how to group any number of network widgets in a coordinated rectangular array.\n",
    "\n",
    "There are also a number other notebooks which show how to use lower level or\n",
    "experimental components of the package.\n",
    "\n",
    "Notebooks in this package may be run live over the web without installing software\n",
    "using the Binder service.  To launch a remote binder container for the package click\n",
    "the image link below.\n",
    "\n",
    "[![Binder](http://mybinder.org/badge.svg)](http://mybinder.org/repo/simonsfoundation/jp_gene_viz)"
   ]
  },
  {
   "cell_type": "code",
   "execution_count": null,
   "metadata": {
    "collapsed": true
   },
   "outputs": [],
   "source": []
  }
 ],
 "metadata": {
  "kernelspec": {
   "display_name": "Python 2",
   "language": "python",
   "name": "python2"
  },
  "language_info": {
   "codemirror_mode": {
    "name": "ipython",
    "version": 2
   },
   "file_extension": ".py",
   "mimetype": "text/x-python",
   "name": "python",
   "nbconvert_exporter": "python",
   "pygments_lexer": "ipython2",
   "version": "2.7.10"
  }
 },
 "nbformat": 4,
 "nbformat_minor": 0
}
