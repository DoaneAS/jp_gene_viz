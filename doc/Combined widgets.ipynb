{
 "cells": [
  {
   "cell_type": "markdown",
   "metadata": {},
   "source": [
    "# Widgets for combining network data views\n",
    "\n",
    "This notebook describes how to combine gene expression networks widgets\n",
    "together and how to combine gene expression networks with heatmaps in coordinated\n",
    "widget displays.\n",
    "\n",
    "# Network with heatmap `LExpression.LinkedExpressionNetwork`\n",
    "\n",
    "The `LExpression.LinkedExpressionNetwork` widget allows the investigator to\n",
    "compare a gene expression network representation with a matrix of gene expression\n",
    "values.\n",
    "\n",
    "The following commands create a linked network/heatmap widget, displays the widget\n",
    "and loads data into the widget.\n",
    "\n",
    "```\n",
    "from jp_gene_viz import LExpression\n",
    "LExpression.load_javascript_support()\n",
    "\n",
    "L = LExpression.LinkedExpressionNetwork()\n",
    "L.show()\n",
    "L.load_network(\"network.tsv\")\n",
    "L.load_heatmap(\"expr.tsv\")\n",
    "```\n",
    "\n",
    "The data file for the heatmap (`expr.tsv` in this example)\n",
    "represents a matrix where rows correspond to genes,\n",
    "columns correspond experimental conditions, and each row/column entry represents an\n",
    "expression level for a given gene in a given experimental condition.\n",
    "The first column in the file provides the names of the genes and the \n",
    "first row provides names for the experimental conditions.  Rows\n",
    "in the file are tab separated.\n",
    "\n",
    "For example in `examples/expr.tsv` row number 901 represents expression levels\n",
    "for the gene `Sytl3`, column number 3 represents the experimental condition labeled\n",
    "`Th0_16h_7_1`, and in the reading `Th0_16h_7_1` the expression level for `Sytl3\n",
    "is reported as `1.5573`.  Note that expression values may be negative if they\n",
    "have been normalized or transformed in other ways.\n",
    "\n",
    "The linked network/heatmap widget shows the network above the heatmap.\n",
    "The following screenshot illustrates the bottom portion of the widget\n",
    "with the heatmap appended below the network controls."
   ]
  },
  {
   "cell_type": "markdown",
   "metadata": {},
   "source": [
    "![Heatmap below network display](heat_map_widget.png)"
   ]
  },
  {
   "cell_type": "markdown",
   "metadata": {},
   "source": [
    "Heatmap values are represented as colored rectangles using a color scale.\n",
    "Gene names are listed along the left side, and experimental condition names\n",
    "are listed along the bottom.\n",
    "\n",
    "The screenshot shows the following components appended to the network display:\n",
    "\n",
    "- The \"Genes\" button is used to restrict the heatmap display to genes visible\n",
    "in the network.\n",
    "\n",
    "- The \"Conditions\" button used to apply the heatmap coloration to the genes\n",
    "shown in the network.\n",
    "\n",
    "- The row and column displays used to identify the currently selected row\n",
    "and column.\n",
    "\n",
    "- A size slider which controls the width and height of the heatmap.\n",
    "\n",
    "- The heatmap display which permits selection of a row and column.\n",
    "\n",
    "- A \"match\" button paired with a pattern text area used to restrict\n",
    "the columns of the heatmap to experimental conditions matching a number of patterns.\n",
    "\n",
    "- A \"colors\" checkbox which makes a color mapping widget visible and\n",
    "a \"draw\" button which redraws the heatmap using the color mapping.\n",
    "\n",
    "- A \"status\" text area which provides general information on the activity of\n",
    "the widget.\n",
    "\n",
    "The following sections provide more detailed discussion of these components\n",
    "with illustrative use cases."
   ]
  },
  {
   "cell_type": "code",
   "execution_count": null,
   "metadata": {
    "collapsed": true
   },
   "outputs": [],
   "source": []
  }
 ],
 "metadata": {
  "kernelspec": {
   "display_name": "Python 2",
   "language": "python",
   "name": "python2"
  },
  "language_info": {
   "codemirror_mode": {
    "name": "ipython",
    "version": 2
   },
   "file_extension": ".py",
   "mimetype": "text/x-python",
   "name": "python",
   "nbconvert_exporter": "python",
   "pygments_lexer": "ipython2",
   "version": "2.7.10"
  }
 },
 "nbformat": 4,
 "nbformat_minor": 0
}
