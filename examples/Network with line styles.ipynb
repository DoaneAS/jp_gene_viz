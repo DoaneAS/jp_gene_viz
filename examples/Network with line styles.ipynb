{
 "cells": [
  {
   "cell_type": "markdown",
   "metadata": {},
   "source": [
    "\n",
    "# The Network Widget with line styles\n",
    "\n",
    "The following cells illustrate how to create a visualization for a\n",
    "transcriptional regulatory network using a data file in tab separated values\n",
    "format.  Line styles have been added to the data file\n",
    "\n",
    "Please see [the network overview documentation notebook](../doc/dNetwork%20widget%20overview.ipynb)\n",
    "for a description of the features of this widget."
   ]
  },
  {
   "cell_type": "code",
   "execution_count": null,
   "metadata": {
    "collapsed": true
   },
   "outputs": [],
   "source": [
    "# Uncomment to run without install in the Binder service.\n",
    "import sys\n",
    "if \"..\" not in sys.path:\n",
    "    sys.path.append(\"..\")"
   ]
  },
  {
   "cell_type": "code",
   "execution_count": null,
   "metadata": {
    "collapsed": false
   },
   "outputs": [],
   "source": [
    "# Import the python implementation.\n",
    "from jp_gene_viz import dNetwork"
   ]
  },
  {
   "cell_type": "code",
   "execution_count": null,
   "metadata": {
    "collapsed": false
   },
   "outputs": [],
   "source": [
    "# Load the javascript \"client side\" support logic.\n",
    "dNetwork.load_javascript_support()"
   ]
  },
  {
   "cell_type": "code",
   "execution_count": null,
   "metadata": {
    "collapsed": false
   },
   "outputs": [],
   "source": [
    "# Load and display the network.\n",
    "N = dNetwork.display_network(\"network_styled.tsv\")\n",
    "N.title_html.value = \"An example regulatory network\""
   ]
  },
  {
   "cell_type": "code",
   "execution_count": null,
   "metadata": {
    "collapsed": true
   },
   "outputs": [],
   "source": []
  }
 ],
 "metadata": {
  "kernelspec": {
   "display_name": "Python 2",
   "language": "python",
   "name": "python2"
  },
  "language_info": {
   "codemirror_mode": {
    "name": "ipython",
    "version": 2
   },
   "file_extension": ".py",
   "mimetype": "text/x-python",
   "name": "python",
   "nbconvert_exporter": "python",
   "pygments_lexer": "ipython2",
   "version": "2.7.13"
  },
  "widgets": {
   "state": {
    "0145013f148d4877b6ef0bc4bac783c1": {
     "views": []
    },
    "02fa38bc94fc4041812d657a2459aabc": {
     "views": []
    },
    "04b54110a77e4c7a9afcaed2b8969fc2": {
     "views": []
    },
    "057e2ec3aea541709d7f1701fb170328": {
     "views": []
    },
    "071b0aa63daf49e0acadba61c124470a": {
     "views": []
    },
    "07f486e32aaf467fac5eb1b9ef651764": {
     "views": []
    },
    "080d7a6de3514937828bc1a07e40dd86": {
     "views": []
    },
    "08ffab385bf843b9a1587a9be9758254": {
     "views": []
    },
    "09504766d44c41de9df336e2abd79a4f": {
     "views": []
    },
    "0990ece98be842fc96ee785bcb37ed56": {
     "views": []
    },
    "0b443d6fe9274b3781ce55083d737e1d": {
     "views": []
    },
    "0dd688ca2077433da68cf6dede3fb5f3": {
     "views": []
    },
    "11fcd51c5d824361a3247d40dad3763f": {
     "views": []
    },
    "121adc4320b146ea9f60fbb9ff0610e5": {
     "views": []
    },
    "123511ad7af44afe97e3e92e2b53f30e": {
     "views": []
    },
    "12703ab10f474ff5912448fa7d765ad0": {
     "views": []
    },
    "1283e4773cd24951b0c6983e04475da1": {
     "views": []
    },
    "163a4dfb0acf4b8a8a3c47e1ded78895": {
     "views": []
    },
    "173c27d6e15944c4a21b23f698a8b9a7": {
     "views": []
    },
    "18ddc146acb54f84ac50daf05a5f8301": {
     "views": []
    },
    "1d33a7052c9348b2a480c597dc0c21e8": {
     "views": []
    },
    "232b59cd617049be88348def5ea86f0d": {
     "views": []
    },
    "236a94c7fa62438a918af811e265a646": {
     "views": []
    },
    "252ad4d73821497d8f1e2d0c8fdc5263": {
     "views": []
    },
    "2f991f35c4654fb0894c398c21610a59": {
     "views": []
    },
    "305e031bb3c8479ca3a206c511f25043": {
     "views": []
    },
    "31b0deb371f64a77b2fae724353c5fb0": {
     "views": []
    },
    "32c14dc9ae5047698e01e7d56f1dd4ed": {
     "views": []
    },
    "3350493269ab4c9a827cfd54136ded29": {
     "views": []
    },
    "34a3e212fdc84a62bbc8282d71ca5821": {
     "views": []
    },
    "3787114e3aa2496589073bcfe16358d4": {
     "views": []
    },
    "399751c02b374f8bb02bfac50d1744f6": {
     "views": []
    },
    "3af65227ac964e7fa7516922c21d47b3": {
     "views": []
    },
    "3e95d42fb044482fa5262c0f038871ed": {
     "views": []
    },
    "3fcf5f5ba4fa4e14927d0bd3aa30ce89": {
     "views": []
    },
    "4238ad5f4f31419383b8ad9f69b41bae": {
     "views": []
    },
    "426d26bc114a4982aeb6f135c3274dc9": {
     "views": []
    },
    "42e430200fd947abb087050164de6ad8": {
     "views": []
    },
    "4484d0f1371641d9945cb56cd75eebb6": {
     "views": []
    },
    "471361ae373b4496b61230354e29b195": {
     "views": []
    },
    "478a1de7cb1341888245c3e7e97aafc7": {
     "views": []
    },
    "4937c6aa8f384e29bb018ad9ce726134": {
     "views": []
    },
    "496c55a11f234ace959d08ee8057c7b5": {
     "views": []
    },
    "4cf2698844284354bbe6cf53711a2d4b": {
     "views": []
    },
    "4e4f01e27114453c9772509cf46110f6": {
     "views": []
    },
    "4f9a12942c184514898de4e9301c10af": {
     "views": []
    },
    "4fa5792865354708bf4ca02bb7ac7ec3": {
     "views": []
    },
    "4fe76370bacc449cbef4d48ef7d1c0f4": {
     "views": []
    },
    "4ff7538063cf4ed4a01a24661652ef57": {
     "views": []
    },
    "505e9a1cd01d4b059145592b8df6eb25": {
     "views": []
    },
    "5379015fb71146928cf2de3745ed30e3": {
     "views": []
    },
    "538bc6f6f1524f8d96ffa928bb6e3d1a": {
     "views": []
    },
    "567cf6a4a73341aea3087d68ca9825f8": {
     "views": []
    },
    "56f784f22e3841058c5e17fa7789813d": {
     "views": []
    },
    "5733e933f5ae43ddaab2806a3b14c93e": {
     "views": []
    },
    "575c3c48a70f42cab4f435b2f82975ae": {
     "views": []
    },
    "5a5741eaadde4d53aa98ae87dada15a2": {
     "views": []
    },
    "5c5ff91eecfb434c9bb3159516f0f369": {
     "views": []
    },
    "5ca47061a8bc40f78f2a02810683e3a9": {
     "views": []
    },
    "5e1e4d638d2148f5a1300f5fcc868529": {
     "views": []
    },
    "607e74b156704d9bb4080a919892b116": {
     "views": []
    },
    "634f5cc34bae4682a5431e54227cb417": {
     "views": []
    },
    "6365faca891843bb90da491030271326": {
     "views": []
    },
    "647e38d5780140d3974abda894f82326": {
     "views": []
    },
    "65bbd83756e84826bf8daca9486de949": {
     "views": []
    },
    "69abeccc8fe14f7abfa32bfd8fabd25a": {
     "views": []
    },
    "6a8a096535ca4d03a8ab42ba3147c49e": {
     "views": []
    },
    "6d489413ebbd450e8f9312d28a7c5881": {
     "views": []
    },
    "6e046f8411a94023a5b588b6eccb46ea": {
     "views": []
    },
    "7551a5f74fe447e8ad51038a108c81a0": {
     "views": []
    },
    "760e2737807040148e95aac581f89e64": {
     "views": []
    },
    "7687c17fceb24b978e08d72ded665eb0": {
     "views": []
    },
    "7707dee356f54dada7d5bd9febfea6d6": {
     "views": []
    },
    "79600bf6ec584a6a9428dc6cb12376b3": {
     "views": []
    },
    "7966e068e1a44e2181e8dc4481df0e45": {
     "views": []
    },
    "7a75c12d3d0342e3a89afc846c556666": {
     "views": []
    },
    "7c4a0654bb4b4c0e95cb687fce8daf87": {
     "views": []
    },
    "7e1d6767df9b483bbf52f2f0d3283245": {
     "views": []
    },
    "7e21797d87ac4db0a06c7f41b1c7da0c": {
     "views": []
    },
    "7e5802839ac84e728146a11638b27e19": {
     "views": []
    },
    "7fbc8eab91e541818888bf1e1e3b8da8": {
     "views": []
    },
    "81b54e6ff86a40689c19b12704c72c72": {
     "views": []
    },
    "833fd000cd6e4b3fa5ae35bb37d5f914": {
     "views": []
    },
    "86b620fb021d43d3b1d092d844daf5ae": {
     "views": []
    },
    "8738db3f92954025a1c8d571c53d932a": {
     "views": []
    },
    "88734ea59d344a3c95a9db8fca061517": {
     "views": []
    },
    "8b5250869e084bcdbaff43c045ea3c8d": {
     "views": []
    },
    "8c264e72ea3a4230b66db329b0ec697d": {
     "views": []
    },
    "8d08fd60820b4844a3cc7feacffa7af3": {
     "views": []
    },
    "8d56aaf43c164b6f843df910ace91094": {
     "views": []
    },
    "8e5c3cc491d54c70ab8fffeb0ee2bab9": {
     "views": []
    },
    "8fc5e52cb8bc454bab77cb5d3e0da6af": {
     "views": []
    },
    "900c94c1b7434dbc9d14ada91bc73b28": {
     "views": []
    },
    "929acf8c4a8c4364b455afddd504ce1a": {
     "views": []
    },
    "92f8ff8ab753488a9da1e0a31e63ae52": {
     "views": []
    },
    "93177b1bdc404b79819c32735c4df34a": {
     "views": []
    },
    "93ac7ac6530a415d9a69ec7efd014ff8": {
     "views": []
    },
    "93bfe39d7a7d4f7c8d420c2e369aba26": {
     "views": []
    },
    "970b3c39733e45788ec7cd07ad92fa7e": {
     "views": []
    },
    "98c1fa5ce45b462a8e61c9488794baa9": {
     "views": []
    },
    "9912766a01434e15b6e8c1d3e3bc456e": {
     "views": []
    },
    "9acc622acf4549dd83bdc288673a6dba": {
     "views": []
    },
    "9fcdcf038e074b68a5bdd67ad7188228": {
     "views": []
    },
    "a05a6cf967474d29bbe399083bd87823": {
     "views": []
    },
    "a29aaedff0dc4fd48d9e0820a39728ad": {
     "views": [
      {
       "cell_index": 4
      }
     ]
    },
    "a6f7918f75a94111943947acf4fec810": {
     "views": []
    },
    "a92c82b7844442288ba51841375b9eb7": {
     "views": []
    },
    "a97753bc110b4551938c1ef9c8a48d82": {
     "views": []
    },
    "aad5248d5902468ba65001d882b6b12a": {
     "views": []
    },
    "ab0b8de81a9648eabcf740b85d17a0ad": {
     "views": []
    },
    "ac61dca29d944a09afc9e4aeb03959b8": {
     "views": []
    },
    "ada172548a4f41a99aaa4b510aa93991": {
     "views": []
    },
    "b0b99317964845dcb5254282775a1696": {
     "views": []
    },
    "b42c030b0d2e45ffb03996b7d3105210": {
     "views": []
    },
    "b4fe4dcae7774384899d08250258c507": {
     "views": []
    },
    "b5ffb9dbaf6c4b59b7ca2c57f16be698": {
     "views": []
    },
    "bd54d3fb8bdf431d94613b0fe4649c40": {
     "views": []
    },
    "c24e1dc99d294eeb9aa99adff043a867": {
     "views": []
    },
    "c4742e742b3c40df8fd7f5c934bedd99": {
     "views": []
    },
    "cbb5db5f69ef4b4cb21bbeab41fa735b": {
     "views": []
    },
    "d194e8d22cbe456a9f992ff053c5f1a5": {
     "views": []
    },
    "d2f1003b1f7240b49b200b5529517f9d": {
     "views": []
    },
    "d635dca02a914186a11efee11c86f656": {
     "views": []
    },
    "d6482d0490c845029597f017d529752f": {
     "views": []
    },
    "d95370fde8014167a5ff536ee8692f7f": {
     "views": []
    },
    "da25f58cbb6543b9b123ef167c9928b7": {
     "views": []
    },
    "de2698e1fb6f4177bd4e900a5710181b": {
     "views": []
    },
    "e03298ab4a734225856c622ab235f08b": {
     "views": []
    },
    "e4b2ec024da6496e84b978b10ee00342": {
     "views": []
    },
    "ea38b61e67e3461387d7c3baccacab7a": {
     "views": []
    },
    "ea5c1929070942b0931c7446d921dbfe": {
     "views": []
    },
    "ec4bf31b84f0481b9406d478dc5e176b": {
     "views": []
    },
    "ec8f8bf2e2ae42d7b48912e7cc1a8b1c": {
     "views": []
    },
    "edc6a536585446b2983e25e48076e41c": {
     "views": []
    },
    "f162e48f8b354102abcf2b3430972162": {
     "views": []
    },
    "f6f2f84fb7b3449aa220340fa43b1235": {
     "views": []
    },
    "f7b4d1570a42468c94db2fef49854d74": {
     "views": []
    },
    "fd80142f46814f5492f3b04950143bf3": {
     "views": []
    }
   },
   "version": "1.1.1"
  }
 },
 "nbformat": 4,
 "nbformat_minor": 0
}
