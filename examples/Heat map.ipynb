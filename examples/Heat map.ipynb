{
 "cells": [
  {
   "cell_type": "markdown",
   "metadata": {},
   "source": [
    "# Stand alone heatmap\n",
    "\n",
    "The interaction below loads and initializes a stand alone\n",
    "heatmap widget for exploring gene expression data.  The widget supports\n",
    "selection of genes and conditions using space separated lists of\n",
    "names or \"glob\" patterns.\n",
    "\n",
    "For example to select all `th0` conditions add `th0*` in the conditions\n",
    "text area and click the conditions button.\n",
    "\n",
    "To select `nsf`, `nme4`, and `nudt4` genes add `nsf nme4 nudt4` in the\n",
    "genes text area and click the genes button."
   ]
  },
  {
   "cell_type": "code",
   "execution_count": null,
   "metadata": {
    "collapsed": true
   },
   "outputs": [],
   "source": [
    "from jp_gene_viz import dExpression"
   ]
  },
  {
   "cell_type": "code",
   "execution_count": null,
   "metadata": {
    "collapsed": false
   },
   "outputs": [],
   "source": [
    "dExpression.load_javascript_support()"
   ]
  },
  {
   "cell_type": "code",
   "execution_count": null,
   "metadata": {
    "collapsed": false
   },
   "outputs": [],
   "source": [
    "E = dExpression.display_heat_map(\"expr.tsv\", show=True)"
   ]
  },
  {
   "cell_type": "code",
   "execution_count": null,
   "metadata": {
    "collapsed": false
   },
   "outputs": [],
   "source": [
    "E.match_text.value = \"th0*\"\n",
    "E.match_click()\n",
    "E.genes_text.value = \"nsf nme4 nudt4\"\n",
    "E.genes_click()\n",
    "E.title_html.value = \"experiment th0 values for ssf, nme4, and nudt4\"\n",
    "E.transform_dropdown.value = dExpression.LOG2_TRANSFORM"
   ]
  },
  {
   "cell_type": "code",
   "execution_count": null,
   "metadata": {
    "collapsed": true
   },
   "outputs": [],
   "source": []
  }
 ],
 "metadata": {
  "kernelspec": {
   "display_name": "Python 2",
   "language": "python",
   "name": "python2"
  },
  "language_info": {
   "codemirror_mode": {
    "name": "ipython",
    "version": 2
   },
   "file_extension": ".py",
   "mimetype": "text/x-python",
   "name": "python",
   "nbconvert_exporter": "python",
   "pygments_lexer": "ipython2",
   "version": "2.7.11"
  },
  "widgets": {
   "state": {
    "0388eb8cc0794925ac4bb68d89f39449": {
     "views": []
    },
    "0caa665a64e64db1bb520f51e60216cf": {
     "views": []
    },
    "0d203d89500a40b4b3a82eb9c9563538": {
     "views": []
    },
    "0d98a08cfda84087aaf55411acb63046": {
     "views": []
    },
    "1069c18a94fb4897925a5731e88e3162": {
     "views": []
    },
    "1109b0686324407483d069c97374b401": {
     "views": []
    },
    "12ba2f600281403fb4f910cc3cdf7137": {
     "views": []
    },
    "13b440a25fdc43199e73a51fc8fe4e1b": {
     "views": []
    },
    "1446c4f9cce042199548a8e11ae60aed": {
     "views": []
    },
    "1cf22c61525d404686bc6f4e599f9372": {
     "views": []
    },
    "1ee9d0218ccc49dc988ae9ed37ae532d": {
     "views": []
    },
    "1f33d86142714ad39d3abfcf20befd8d": {
     "views": []
    },
    "1f9838752f664032b8a97da0cb897802": {
     "views": []
    },
    "2c5465dd8d224c3a95842ad8ccafc464": {
     "views": []
    },
    "344acba8a5a64b5ca19da5054192c2b8": {
     "views": []
    },
    "3886d0aa7a9b4e56a63f1f5bf3b56d25": {
     "views": []
    },
    "3a2c787b7be44b8799fdfca10f3c53f5": {
     "views": []
    },
    "3a7f04d0f26448618476bff7131cdb38": {
     "views": []
    },
    "3e5de92084da4449a87176e3e09beb93": {
     "views": []
    },
    "41fca9452b5741849b063851143419cc": {
     "views": []
    },
    "429825633a0b4d9ca9b200d926ec0f67": {
     "views": []
    },
    "430d143ec6514db7b2eeb8d87bf8221b": {
     "views": []
    },
    "45d9a777bdb04e2b9144e4649183d7c3": {
     "views": []
    },
    "478b6946cf1c419191612d9c5fb0e54f": {
     "views": []
    },
    "4d57fd36dbf04b31b44892257f19c68e": {
     "views": []
    },
    "4e15c701f4014845a7596104d31c5702": {
     "views": []
    },
    "4f7bbc85a20245ceba82218fced9cc91": {
     "views": []
    },
    "5056169a6e834abda10758997238c3ff": {
     "views": []
    },
    "52332bf9f7614b779b546fb8aaf5ec55": {
     "views": []
    },
    "542b24f576024a3eb75d06525e857071": {
     "views": []
    },
    "555b355ec10e4ef6877173257c97d089": {
     "views": []
    },
    "561e7ca07b8246f1bab23f0d0f06054b": {
     "views": []
    },
    "5fa9d571e93e46c7be77eca48066ef8a": {
     "views": []
    },
    "68ac2e6f367242ee92eb633c3596855a": {
     "views": []
    },
    "6c7fbdca93c64959b612223efa21e014": {
     "views": []
    },
    "707fff0ca9564804a3c08f55c6abf9f3": {
     "views": []
    },
    "730d9a1afb494bc39fd966c6eca6f686": {
     "views": []
    },
    "748988a7627d4381bf45a7d683946818": {
     "views": []
    },
    "7644919516fd47f0901fd19c54082100": {
     "views": []
    },
    "790ce5c0a8364455a893c8dd8cd41672": {
     "views": []
    },
    "7abca584bf4b441cb5d91f8b46e49683": {
     "views": []
    },
    "7b8d482c2f5a48babad0e39eb38f8b4f": {
     "views": []
    },
    "7fac13cad8874994b9423687b395ece8": {
     "views": []
    },
    "7fc957101dcd4a8aafc0db663249426e": {
     "views": []
    },
    "86e8295101454b03b15ed7095a1f610e": {
     "views": []
    },
    "8745d2b331fe40518e9dcbdbb14535a2": {
     "views": []
    },
    "89268c8dc7614b979212eb62380ce1ac": {
     "views": []
    },
    "8a950dae7f8f4ab38fda44ee9520ab36": {
     "views": []
    },
    "979156dbfeab4b5b9fd8d0601eab551d": {
     "views": []
    },
    "98836f21b60748dfa238c119ad26fee3": {
     "views": []
    },
    "98eb9487eac54998a8f0154e465a021d": {
     "views": []
    },
    "991506ff7c1c4557b9265666f2a4bf24": {
     "views": []
    },
    "9a725adf637b486baaf40fb4f21e4d3e": {
     "views": []
    },
    "a4b3e9eca7774aed93141dcb0c6f7229": {
     "views": [
      {
       "cell_index": 3
      }
     ]
    },
    "a6ffb11d51a243d19c7600ab88b034b1": {
     "views": []
    },
    "a7f04bca0feb45b582729c85e3b1ddc9": {
     "views": []
    },
    "a872b2c469034222ba2d18287dc22987": {
     "views": []
    },
    "aab6b59da96640fa9fd917f9023b9620": {
     "views": []
    },
    "ad6fa7c3f1a34f97ab084fd27e102bf6": {
     "views": []
    },
    "b1fcf79a793a49c3916d4adf4155d095": {
     "views": []
    },
    "b769f804caf9430694d82cd12790d0b3": {
     "views": []
    },
    "bd60437549014373a81c987f4418331c": {
     "views": []
    },
    "c1a3334ae259441bae4d5f920db340b2": {
     "views": []
    },
    "cef68fe9a2bf4df889ba9f0cc5c373f1": {
     "views": []
    },
    "d129545bb5b94e9dbb072a2205791246": {
     "views": []
    },
    "d34dbc70e26248dbbfd2f2dad17e936f": {
     "views": []
    },
    "d6882de9d1174739a1f2d1f80b183592": {
     "views": []
    },
    "d90a5ff65fba451a8362c51c214d1a1d": {
     "views": []
    },
    "dc0d54aa885d491ba7fa3930dad1ede0": {
     "views": []
    },
    "dfe1d441a1ff47deae7b02879f032245": {
     "views": []
    },
    "e8d121aebd43499d817a49430d244fec": {
     "views": []
    },
    "ed2d2343158b4cd8a56296394f3c6001": {
     "views": []
    },
    "f0606f631853461f9e7326a2b77a724b": {
     "views": []
    },
    "fcf41abe90304db39a2c09d8c5f4f105": {
     "views": []
    }
   },
   "version": "1.1.1"
  }
 },
 "nbformat": 4,
 "nbformat_minor": 0
}
