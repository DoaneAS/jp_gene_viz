{
 "cells": [
  {
   "cell_type": "markdown",
   "metadata": {},
   "source": [
    "# Stand alone heatmap\n",
    "\n",
    "The interaction below loads and initializes a stand alone\n",
    "heatmap widget for exploring gene expression data.  The widget supports\n",
    "selection of genes and conditions using space separated lists of\n",
    "names or \"glob\" patterns.\n",
    "\n",
    "For example to select all `th0` conditions add `th0*` in the conditions\n",
    "text area and click the conditions button.\n",
    "\n",
    "To select `nsf`, `nme4`, and `nudt4` genes add `nsf nme4 nudt4` in the\n",
    "genes text area and click the genes button."
   ]
  },
  {
   "cell_type": "code",
   "execution_count": 11,
   "metadata": {
    "collapsed": true
   },
   "outputs": [],
   "source": [
    "from jp_gene_viz import dExpression"
   ]
  },
  {
   "cell_type": "code",
   "execution_count": 12,
   "metadata": {
    "collapsed": false
   },
   "outputs": [],
   "source": [
    "dExpression.load_javascript_support()"
   ]
  },
  {
   "cell_type": "code",
   "execution_count": 13,
   "metadata": {
    "collapsed": false
   },
   "outputs": [],
   "source": [
    "E = dExpression.display_heat_map(\"expr.tsv\", show=True)"
   ]
  },
  {
   "cell_type": "code",
   "execution_count": 14,
   "metadata": {
    "collapsed": false
   },
   "outputs": [],
   "source": [
    "E.match_text.value = \"th0*\"\n",
    "E.match_click()\n",
    "E.genes_text.value = \"nsf nme4 nudt4\"\n",
    "E.genes_click()"
   ]
  },
  {
   "cell_type": "code",
   "execution_count": null,
   "metadata": {
    "collapsed": true
   },
   "outputs": [],
   "source": []
  }
 ],
 "metadata": {
  "kernelspec": {
   "display_name": "Python 2",
   "language": "python",
   "name": "python2"
  },
  "language_info": {
   "codemirror_mode": {
    "name": "ipython",
    "version": 2
   },
   "file_extension": ".py",
   "mimetype": "text/x-python",
   "name": "python",
   "nbconvert_exporter": "python",
   "pygments_lexer": "ipython2",
   "version": "2.7.11"
  },
  "widgets": {
   "state": {
    "01fedd80e96043aca2e9f50a2690c1dd": {
     "views": []
    },
    "029e7b1ce0ab466abb6772dae23f176d": {
     "views": []
    },
    "030611193a9f40ca9e95a0cbb5434ebc": {
     "views": []
    },
    "034675eeccbb4b9e949a65080fb837d3": {
     "views": []
    },
    "0491c108b247489092463fcdf38ac8a4": {
     "views": []
    },
    "04970bf5afdb437887783fc489f59a3c": {
     "views": []
    },
    "04a239f79a53430db272a0c4b77f451c": {
     "views": []
    },
    "05744f6062484ce3bb8c8ab66551d384": {
     "views": []
    },
    "0592031ee24249eba17c1b65aec6f085": {
     "views": []
    },
    "059bdfd94dbe49c89fdf2b3dee6b9471": {
     "views": []
    },
    "06ab3735d95a4920b9940ad7dfa2deaf": {
     "views": []
    },
    "07bb59850c2943ce806111c220d956f6": {
     "views": []
    },
    "08d31127110441a99df8f4bd6903f25f": {
     "views": []
    },
    "0902db90142d43589d32aabe581bdea1": {
     "views": []
    },
    "0a41618c04364634b2eb1fb48b85c264": {
     "views": []
    },
    "0a5d86448ed5427eba5a5d0255424eef": {
     "views": []
    },
    "0a71c9e0527146e58f3757d31fbf5bd8": {
     "views": []
    },
    "0bc99dce943940ff82d7e17a3c3e633e": {
     "views": []
    },
    "0c827242e89943b19f0f1cf9d96f3bd3": {
     "views": []
    },
    "0d42463297c64f49815b14a75d29d399": {
     "views": []
    },
    "0d43f91af8144f1d9dc8a13be1669681": {
     "views": []
    },
    "0e0aaffcbec64db19ccc6dc66b45ddc4": {
     "views": []
    },
    "0e9a7c150c5046ef96324500106423d0": {
     "views": []
    },
    "0ef4b17d1cfb40cda975b9a0c10c8e7c": {
     "views": []
    },
    "0f01717644a941dc8d3c521799d1d747": {
     "views": []
    },
    "104e7d1e4bb74987843e3744c82df5d9": {
     "views": []
    },
    "10c771e344d04b48a03838345f162499": {
     "views": []
    },
    "10e7e672e2a64e59a989188fad6c0038": {
     "views": []
    },
    "120aa00768154130ae40edb15bd9a9fd": {
     "views": []
    },
    "122b367021e141ea9b568ae4f1d6615c": {
     "views": []
    },
    "1274449e151e461a8f6acd91639a1412": {
     "views": []
    },
    "12e40b1745a84844a44f48c68b8d2940": {
     "views": []
    },
    "134656c87e284e11901fc0e48c7c536d": {
     "views": []
    },
    "14dc0738ad9a40b78985d2d97be11428": {
     "views": []
    },
    "152e72f303d04971a1f0e5a7db55e874": {
     "views": []
    },
    "168e3b36fda94da09982a5c8d15ec22b": {
     "views": []
    },
    "1726f2839ff846b0817ef219fe6e6d55": {
     "views": []
    },
    "177b96ec9e1242ee9c0b76b3bc762abe": {
     "views": []
    },
    "18806646351c4d6983806e22da0bad3b": {
     "views": []
    },
    "191a1119203c4329aae3047878da6762": {
     "views": []
    },
    "1a45a20a84fd4c0696e444bec2716ae1": {
     "views": []
    },
    "1b69d8a3eb8144c7a866a615f72975c0": {
     "views": []
    },
    "1bb4acaa50024365aaf979e56a2f8c09": {
     "views": []
    },
    "1da2d62f81f74220936b3249ec3d46e7": {
     "views": []
    },
    "1dd88f1a8cd44f0ca80940b40f16d634": {
     "views": []
    },
    "1e08882f3aaa43e5ae0f96380a07fb11": {
     "views": []
    },
    "1f31a9844c98412eadc36b157385a8bc": {
     "views": []
    },
    "20162b62cf5d4145bb011223edc0caeb": {
     "views": []
    },
    "20690785bfe74212872009535bf5f5f4": {
     "views": []
    },
    "2094a9c64c8b442a99c64182961f8b77": {
     "views": []
    },
    "21556918c2964d8088eb33b50bbedc33": {
     "views": []
    },
    "218a59c561e24a29bb041ecc291e51aa": {
     "views": []
    },
    "225c6b90d8764da894ba500428ac4bf2": {
     "views": []
    },
    "227107ac6c2a458e80735810a840d549": {
     "views": []
    },
    "25db2226c7f241bc8997c536a3cc9a90": {
     "views": []
    },
    "2693103c002f4e538e990c9a603e0ba3": {
     "views": []
    },
    "26cf3f6618eb42bead9f05e8b9863980": {
     "views": []
    },
    "27eb0f7493f842cd833cf6090d1d65ae": {
     "views": []
    },
    "29f55a11dd7d413e9dcce2a54a764a53": {
     "views": []
    },
    "2b0d14bb00594d89bf390bab1dfa380a": {
     "views": []
    },
    "2b7971c4d1704e84b0bb98dc051848e2": {
     "views": []
    },
    "2ba4338c076e49bca8006e54fcd07846": {
     "views": []
    },
    "2d2cb074629944e9ae0670a655667329": {
     "views": []
    },
    "2d4672dae6604cd688954b2e8fc31e10": {
     "views": []
    },
    "2f288138d3ad4b738f9d111191bab6dc": {
     "views": []
    },
    "2f4407c63f3b41b596fdcd1c14d5b9e0": {
     "views": []
    },
    "2f595cc7c5954a6ea09dd8d82ff48c0c": {
     "views": []
    },
    "2f90ac17256244e2bf54468d66b351e9": {
     "views": []
    },
    "2fff8aa035784605a19cb03717d1acfd": {
     "views": []
    },
    "30827224c4a14055aa508f4df692001d": {
     "views": []
    },
    "31dfc8c596ea4264a8e2a249748780e6": {
     "views": []
    },
    "33030fdbd4df47e296e8e74d56ba0020": {
     "views": []
    },
    "343133816554448d8a4605220ef43cf8": {
     "views": []
    },
    "34b6b15a49e344cc937795c535482360": {
     "views": []
    },
    "34dede8cee774cd4bf6a6bbbc45513d2": {
     "views": []
    },
    "358f16b03c0a4ae29930091773c38f6d": {
     "views": []
    },
    "35a52a91bca84e6694f5a814e94af890": {
     "views": []
    },
    "36235d1f47d249f8b881003d8d947ef6": {
     "views": []
    },
    "381d3374b5df4c4598e8e54983ae17f9": {
     "views": []
    },
    "384de05b8c2a4288ad2fcc77d8be7256": {
     "views": []
    },
    "39111de4b07f440eba23e4267109cb78": {
     "views": []
    },
    "391c758f32884b58bd734120e7ab1e3d": {
     "views": []
    },
    "39ffc4c0815b459b8d84ba69570915ee": {
     "views": []
    },
    "3aca48b6dca3411d9f508c6460a172ca": {
     "views": []
    },
    "3b4adc7686d4450b824f04ee4c3af593": {
     "views": []
    },
    "3bbcfb80eb114c4e88a99e6861ff05a8": {
     "views": []
    },
    "3db20869df8445cda19ebde49c1e1453": {
     "views": []
    },
    "41159b05a5234389b481e7569d318a4a": {
     "views": []
    },
    "42908d14ddfd4b1f95df9706eec71484": {
     "views": []
    },
    "4347eb63d52245d190cfb5f802450cdb": {
     "views": []
    },
    "434966a088f54a129b15c8c346fdc712": {
     "views": []
    },
    "4547e386d5774e43872d7cc271ca03b2": {
     "views": []
    },
    "45557b42bc094b6f973a0958176367e2": {
     "views": []
    },
    "456d79f53d0841448478304a56f3ade2": {
     "views": []
    },
    "478227e6eaf8412d95bb895fbe353d44": {
     "views": []
    },
    "481feee175104708831e3353a37712a3": {
     "views": []
    },
    "48e63f1fc4e54b12993194031c89b1ac": {
     "views": []
    },
    "48ef5fe0b5f8413d9ffe71fd5d1a2e1b": {
     "views": []
    },
    "4979565cc60940319c2276c491969727": {
     "views": []
    },
    "4a17b98bc25546e286fa754ce0d0254d": {
     "views": []
    },
    "4a2cf5dba21d49ab892bc87b3a64f2a4": {
     "views": []
    },
    "4ba8e1032c50414ba40181e3bf345369": {
     "views": []
    },
    "4dcfabf124494948b06a15a7d0e55a86": {
     "views": []
    },
    "4e9da24bfce34f9abf3429e82256ef8c": {
     "views": []
    },
    "4f1ddeae863e4b9cab2f3cee0e3f684c": {
     "views": []
    },
    "4f30e85024b4409aba722514c6109dd0": {
     "views": []
    },
    "4f6c45deb3d14f9c8ce9f03fc47cb212": {
     "views": []
    },
    "4fd2e5beac6f4194b12bd19dcc89e4e1": {
     "views": []
    },
    "50c338ef4173469e816daf5de6c37eab": {
     "views": []
    },
    "526a22b352bd4cd0a4b18ea601d297ba": {
     "views": []
    },
    "53eb07135ed14c43b9bb40039795d00c": {
     "views": []
    },
    "547c72b36c5a4b4ab1222a3e5136b34f": {
     "views": []
    },
    "55d3cce9f06446a4be26fbb7e8c17462": {
     "views": []
    },
    "5626482762f04d0ab8b3bfcb95f0fb6d": {
     "views": []
    },
    "56e8e1b278464a37b5cf620c4cb7f371": {
     "views": []
    },
    "56f73ca9f60c4f1ea80949634fbb6c11": {
     "views": []
    },
    "57e7178c486a472dad8aae5bd2b150d1": {
     "views": []
    },
    "58b18af2f1ee4acf82d650e73aaa4645": {
     "views": []
    },
    "592c9afb2a8a4cd28bde4c4a70c8b3ab": {
     "views": []
    },
    "59367f4a37314025bc380e3063317eb1": {
     "views": []
    },
    "593d63c4373d48a18ec6cc307d31881b": {
     "views": []
    },
    "5967ab3daf314f0688c529daee76eb21": {
     "views": []
    },
    "599ac4a3a1a9452f8aff94c9453969ee": {
     "views": []
    },
    "5b1641abfa8647db9825290df284dee2": {
     "views": []
    },
    "5cae965b71ea42d8badfeb9c8c4367b7": {
     "views": []
    },
    "5e5a41d6581745068eaa015ca8844ea4": {
     "views": []
    },
    "5eaa58048ebb4baa8f3a79762352cb09": {
     "views": []
    },
    "6007fb5934b64320a03f7d9ce38cf46e": {
     "views": []
    },
    "606e4732bbad4e45be003b44dd762e92": {
     "views": []
    },
    "632f3d6f7af942fb941e9c3fb05699bc": {
     "views": []
    },
    "634b37aaa1584fd680ea8e69fb4db024": {
     "views": []
    },
    "634d3870bdb944c28442e9b247f91c64": {
     "views": []
    },
    "64856f52082d40619216aacde647ba8a": {
     "views": []
    },
    "653ffc46549446d99fa00751656123ca": {
     "views": []
    },
    "656b8d59f8a5446390fc85167498dbe9": {
     "views": []
    },
    "65c59fa7127b4b68bdaa285f2df234ad": {
     "views": []
    },
    "66a1b04ba107451196add6c84e8ab4fa": {
     "views": []
    },
    "679d54bd24474e458aa93e8502ad7c5a": {
     "views": []
    },
    "685e33a02ea94ebf9d692c4187ef00c7": {
     "views": []
    },
    "68f2661d1a57479381ef6a9f29ed152e": {
     "views": []
    },
    "697febbee8b5444395c611ccc48cc6bb": {
     "views": []
    },
    "69c03f1f265c4585be5740ef10ab919a": {
     "views": []
    },
    "69d69f2c82c143229f21b0e9530ec29e": {
     "views": []
    },
    "6a0ed1f159be492d9b70deed4e23dc57": {
     "views": []
    },
    "6a52dbc50b814f4c98a912bed57deddf": {
     "views": []
    },
    "6c24d18348f5413892cdbf830a321d1b": {
     "views": []
    },
    "6ca288f6e0a8498bb6fef1d3e90563aa": {
     "views": [
      {
       "cell_index": 3
      }
     ]
    },
    "6d5849be43764128a7d2f0071fdb5e36": {
     "views": []
    },
    "6e6eb5370a3e4d85b5068df9d56d5f36": {
     "views": []
    },
    "6eb0f067a26a4c0ab9de0f98fd01de41": {
     "views": []
    },
    "70d6c0cce640445ba12a3f6e3705861d": {
     "views": []
    },
    "71399b5a76634d8082bb46f7a418ccdf": {
     "views": []
    },
    "71a2ecfbc23c4531be5318bbb089e1dd": {
     "views": []
    },
    "720b0d91994a4ec7861c9c51254c2d3b": {
     "views": []
    },
    "7251769f71774096a7161ae5a21593de": {
     "views": []
    },
    "738a2c0ff88646c480cba0a25e3d5989": {
     "views": []
    },
    "73c9d4fd18234c86a2d36d080b0fda83": {
     "views": []
    },
    "76245bf7a6af4aca949a6fcb9c20faec": {
     "views": []
    },
    "7742ab528f934467b24cbdd5b3167b4b": {
     "views": []
    },
    "798c5d50e3d54738a654352443ca232c": {
     "views": []
    },
    "7acc51e0095147ce9932d7cd77afbc09": {
     "views": []
    },
    "7af76318459048de987346fef09572e8": {
     "views": []
    },
    "7d5f8ad2ae64403fa4317e4ac7ddcea5": {
     "views": []
    },
    "7d816eb9dd0346e9972b62b3b07506a3": {
     "views": []
    },
    "7e13253e216243ae8c3c3010a38e51bc": {
     "views": []
    },
    "7ec161ce96b64bd588eafcdc47fa341d": {
     "views": []
    },
    "7f0d8864d8da4fe9a9b92ddbfee65346": {
     "views": []
    },
    "7fc434fccafc44e9babb0af4fca8f020": {
     "views": []
    },
    "815d2d80093840289f2bd39dd559898b": {
     "views": []
    },
    "821be006d6924bf7bf6f046c99316930": {
     "views": []
    },
    "825bfdc653be4b589bfa6b2574c5bbe4": {
     "views": []
    },
    "82f712d3a2af4263918b79bee59d64e7": {
     "views": []
    },
    "84379c2b15884f65b641f91e16608c44": {
     "views": []
    },
    "8446a9b367fd4717b83bc0231012282a": {
     "views": []
    },
    "844f043960d347298e48d1e9bb3bb837": {
     "views": []
    },
    "8452c04e70d6421a9acedffd156fbfe9": {
     "views": []
    },
    "846e3309fb924c049b0aa88c2a2f1476": {
     "views": []
    },
    "86e8e05cc74b4516993e966559362877": {
     "views": []
    },
    "8783527b9cc645278d8759e70903e3bc": {
     "views": []
    },
    "892969c8b9394732bfa7bec70c644ddc": {
     "views": []
    },
    "8a165b90fa35454aaf7af06c7a5f4145": {
     "views": []
    },
    "8a6ebbbad7534e0ab02aea29ae1715d5": {
     "views": []
    },
    "8a95b81f6d4d4b01b57dfd12737e665e": {
     "views": []
    },
    "8aa9db992aa34e36ab71ad5fd7630502": {
     "views": []
    },
    "8ac58f1b2b254b4e88db32413f68a625": {
     "views": []
    },
    "8b9bee263d2b446e81b4aee5b985edb6": {
     "views": []
    },
    "8dfcae03b7034460a98f54ba4524addc": {
     "views": []
    },
    "8dff559b94654c65990c24db57e6f628": {
     "views": []
    },
    "8ed87ad9156e4c61a8eaf43ced3d1c56": {
     "views": []
    },
    "90b04f4635fa460f868781c1e225c3ed": {
     "views": []
    },
    "90d78e7996254779ae7a1e9beed21eda": {
     "views": []
    },
    "9194e515c6be402fb36085c288036604": {
     "views": []
    },
    "91c321b131b34078838cfc18d3e7cdca": {
     "views": []
    },
    "91d0e35caa8d4c24b96e97e4793ee55b": {
     "views": []
    },
    "9373313c73f44f3f9326d96471353efc": {
     "views": []
    },
    "9494356573d4451ebc405920e5bff455": {
     "views": []
    },
    "94e076a4aa4449e499fab7d44ddbae2c": {
     "views": []
    },
    "95f8798c9b46443dbf50db695fe07668": {
     "views": []
    },
    "977e4e8d3d50499da13b05274244b8d6": {
     "views": []
    },
    "99349b7b4e8f43aaaf15ed6d723dbb6f": {
     "views": []
    },
    "9c0392c084884d22aeb083145eab9926": {
     "views": []
    },
    "9c7de787addd45f89d821ec1ec8eb2c7": {
     "views": []
    },
    "9c84d6460fe9480491f3753696f2e506": {
     "views": []
    },
    "9de0086de5ab4633aea1ca46e2d5362c": {
     "views": []
    },
    "9e250f58ec724fb3bf0487a238f4e726": {
     "views": []
    },
    "9e765c06d4d84c0d8175eff0171b56ee": {
     "views": []
    },
    "9ee716aca6c947d69b90697aca8191d4": {
     "views": []
    },
    "9f4967b2e665450faf01941b9fcfe449": {
     "views": []
    },
    "a19c871bd3c449cdadcf744d6c42eee5": {
     "views": []
    },
    "a2229dfd45414b4a9f34a57f498fb7f6": {
     "views": []
    },
    "a2ff19c0333d40cdbebae2416c7bd960": {
     "views": []
    },
    "a335dec9c85f404e99a0c651d1ed3a72": {
     "views": []
    },
    "a381e12743214343bee013a8ac794e5d": {
     "views": []
    },
    "a6bb72e7db8847dcb0e569c1f3aa1bae": {
     "views": []
    },
    "a6ea539842f74c679d7e13925264270f": {
     "views": []
    },
    "a948f52fe6864c3b89bdca9da9082bf0": {
     "views": []
    },
    "a96cd04fbc55419daffa6da69add45ec": {
     "views": []
    },
    "aaad05d687594064b5e14cffba03a1fd": {
     "views": []
    },
    "aab518d0726444fe8718af18d74f1b26": {
     "views": []
    },
    "ab5282d7d5c74db29c362b3ac7fc245a": {
     "views": []
    },
    "ab73be97a38d420ebde118dca40e2a7d": {
     "views": []
    },
    "ab91782a21e34bf282753794675a06f5": {
     "views": []
    },
    "adf12e9382a24311ba825ef6dc900678": {
     "views": []
    },
    "ae296c4ff5e54fbcad07765239def608": {
     "views": []
    },
    "ae325d0f5bb54ccfb0e08d9bf6482399": {
     "views": []
    },
    "aeeb451b4cdc4795ae88a547d95bad99": {
     "views": []
    },
    "af272b58cf3f4f96b37be70256677744": {
     "views": []
    },
    "b02cf51ce5a244acb8a6161770ab25bc": {
     "views": []
    },
    "b070f593a98b44e2be2901c4aac83ee8": {
     "views": []
    },
    "b163bc46ea1141b3af8cf53f2bb05783": {
     "views": []
    },
    "b18677d148884e91b5ab958ae9779604": {
     "views": []
    },
    "b1e84225047941a4a452c2180bab1d38": {
     "views": []
    },
    "b210c196ea124a2cbcd17f444f377878": {
     "views": []
    },
    "b296d753b53b4e48ba681faa506508da": {
     "views": []
    },
    "b30ccc373d67455d887254c38dd5d2e6": {
     "views": []
    },
    "b31866a85c9b4597a54ed35c4210d0bf": {
     "views": []
    },
    "b4488a00ed6040f5b1ee2f98d76addc4": {
     "views": []
    },
    "b48d53894601492cb1d19092bc495e1c": {
     "views": []
    },
    "b51805d225d24d5ea10324260b4477f0": {
     "views": []
    },
    "b52e0c1f081b451abf1949f1fede7682": {
     "views": []
    },
    "b6a246a1e91b4d70bb151904f6301d29": {
     "views": []
    },
    "b708a5a041744453ba870b8c21a3767f": {
     "views": []
    },
    "b8383427b05b4cdab64d7d0d88c269c9": {
     "views": []
    },
    "b8add754176244a3a40204647b580662": {
     "views": []
    },
    "b9a2d1cc1607454a84ef9b7c352f77fd": {
     "views": []
    },
    "ba6254b3f0e04a8eb837636cb8de0b46": {
     "views": []
    },
    "bb05b7425a244867bb707cdf6bffec5e": {
     "views": []
    },
    "bb63647589d74611851f476bd6bea860": {
     "views": []
    },
    "bd3b0352255545e1b9b7d502ec87c18b": {
     "views": []
    },
    "bd5e4049ba1b4657bb35f8ce54d7c53f": {
     "views": []
    },
    "be316c438b9842d686de6e98edf1dc76": {
     "views": []
    },
    "bec5f98412e4435198bf4e1aa275ce43": {
     "views": []
    },
    "bed20a54975d4059a745286a8dc41b1d": {
     "views": []
    },
    "bf5b48ea888e464386a184e0c360e7e0": {
     "views": []
    },
    "c3a836ff8e944e80afc855259d381f24": {
     "views": []
    },
    "c424849b719b4d3b805db1b5817a018e": {
     "views": []
    },
    "c47584d0af28490dbb283f2c7bf5d44e": {
     "views": []
    },
    "c4eff98ceec04921b4c2d1fd06f21b03": {
     "views": []
    },
    "c557fb8c6ac94d66904afc8aa4d693bd": {
     "views": []
    },
    "c761c530d0fd490ca03c446c60e4b882": {
     "views": []
    },
    "c850ba60eafd498b8de8b69f25339f23": {
     "views": []
    },
    "cb27bde532034fc2b1fef521024b4fc6": {
     "views": []
    },
    "cb3dd3414ec1483eabd8f883955b5305": {
     "views": []
    },
    "cb8b82e2c80f4ed59dd98dca1f1069c6": {
     "views": []
    },
    "cc734b4a0c454298b50a398f328d2278": {
     "views": []
    },
    "ccabbbc3f5324c0281b74940df01f5be": {
     "views": []
    },
    "ce83379968094d159fd521a23849fb7e": {
     "views": []
    },
    "cedd898bce4049df96aa25f0a414df84": {
     "views": []
    },
    "cf1e9fd92b884665989e37f0a5c0083c": {
     "views": []
    },
    "cfa6df76850c4c93bd177bc1d5e746e8": {
     "views": []
    },
    "cfd500db5d2d45e1818e9177cdd4274e": {
     "views": []
    },
    "d2ea590529414dd6aa97209d455f9023": {
     "views": []
    },
    "d319a40575964e38bbeac1aefa7eb1be": {
     "views": []
    },
    "d37f77ea17d14e4294472c7eeaed8c53": {
     "views": []
    },
    "d3abbd2400874bdcadf1fa4a5af85f2a": {
     "views": []
    },
    "d4303939548148c58d42c47aa6c620ce": {
     "views": []
    },
    "d5077378acfc48768a07c93620d02c80": {
     "views": []
    },
    "d5a8d4f9d2a04c72baa7b66ab97b1b12": {
     "views": []
    },
    "d6be2bb759a241ea93e483a89c58505d": {
     "views": []
    },
    "d9cd814795af49ac92372692f84561f2": {
     "views": []
    },
    "db2f61ee38184ac689efc3c233a4d153": {
     "views": []
    },
    "dbaf0eaf90184e4db1c67ea5c944df2a": {
     "views": []
    },
    "dce69bec69a849919f9d5cb809ddb6cc": {
     "views": []
    },
    "de69cdd01ee04386bcb416c5f2aae5c6": {
     "views": []
    },
    "e076f0b4ff8140e0b52a74139308f833": {
     "views": []
    },
    "e0b48be00c34427a84e7fd3c4e067236": {
     "views": []
    },
    "e119bf6bbbd644eaa37d2dec44b2940b": {
     "views": []
    },
    "e17843d6a940437dad985042269e08e7": {
     "views": []
    },
    "e24327d623c7449bb4b59c05407e04e8": {
     "views": []
    },
    "e2628815062547cda1659aa0e2d397ae": {
     "views": []
    },
    "e3cd2b9842524929a155bc37af8c0b71": {
     "views": []
    },
    "e3f3f1797cc74999b00d23d70fd646bd": {
     "views": []
    },
    "e3f86d7bf05e49948aebb721f0482568": {
     "views": []
    },
    "e3febaa160fe4b71a7929beaaf2bd951": {
     "views": []
    },
    "e42d9685a03c45f389079e68738b419a": {
     "views": []
    },
    "e48dbf04c92847d89cd1c88edc40c2ab": {
     "views": []
    },
    "e6b84bf437a94deabc389c899bf34c24": {
     "views": []
    },
    "e7334383c333451cbeb51d296c59ad26": {
     "views": []
    },
    "e949c3d27c044a849924836cf3ea85e4": {
     "views": []
    },
    "e96772f7154e41fc8691402a1b2826d6": {
     "views": []
    },
    "ea0a6a5298514c3abf404c0fac4a1fa9": {
     "views": []
    },
    "eaeb1a532ae844caa458b6bcb52c51a4": {
     "views": []
    },
    "eb4e235f8d8d418da68d156ba392b28f": {
     "views": []
    },
    "eb8a35e4641f460f8515342b6521b0f9": {
     "views": []
    },
    "ed8bac547cc74d7ca527a53507e8706e": {
     "views": []
    },
    "ee03453d7404451285a8dc492cc7f2b7": {
     "views": []
    },
    "ef49465aabfc4a32851060300d5a374a": {
     "views": []
    },
    "efc402f07d6c4fa7a54ce3b6a6d67468": {
     "views": []
    },
    "f046c9035222408bbefd0e906e0a6d2b": {
     "views": []
    },
    "f16bd6b1dd664ab48f06d9093cb882bc": {
     "views": []
    },
    "f1d4e3c4a192401d9e231960730e95cd": {
     "views": []
    },
    "f2ac8fc340004471bb96430e776b7c6e": {
     "views": []
    },
    "f2fa209ccc664bb3b5d680a6fc864819": {
     "views": []
    },
    "f37ac844bee046b8b63d5c877c1e6ae0": {
     "views": []
    },
    "f6762e1d45f648baa49306fe91f94422": {
     "views": []
    },
    "f7064d37b24940ee91a377949e517c9d": {
     "views": []
    },
    "f7495744abdd4d91bf89b2773036c4c9": {
     "views": []
    },
    "f770b20b3b644420a936020b540db0be": {
     "views": []
    },
    "f7712b9ac90646b283ed3103b7fddda2": {
     "views": []
    },
    "f77ae943e29c4b3bbef9ddb53528d379": {
     "views": []
    },
    "f78141937fbd4cd39ac9765653b8af46": {
     "views": []
    },
    "f7b0723afa2546ab9db7b58862c9113c": {
     "views": []
    },
    "f83d61b5acfe4d18bd1b4e14fc39c145": {
     "views": []
    },
    "f98367bc1f14448787876df15cfefc41": {
     "views": []
    },
    "f9a3d80d40394d25a1f1e4bc63ad154e": {
     "views": []
    },
    "f9fe2849258c47e7bd1d8cf422f1beb2": {
     "views": []
    },
    "fb3164a1e2804641bfadbddb27fc039b": {
     "views": []
    },
    "fbb1c75cc85f43d396e29b48695dc1f2": {
     "views": []
    },
    "fbc76c7f41b74192bef57f7aa63d925a": {
     "views": []
    },
    "fc7d1524504743f18ae49793163180a7": {
     "views": []
    },
    "fd679ab6a3214febb8fb567e9b541d78": {
     "views": []
    },
    "fda2686752164a31a38804c762feabbc": {
     "views": []
    },
    "fdca577eff654d7da3e4fdfc233d53b5": {
     "views": []
    },
    "fe25a55a196447a3b22575ac17e9c56b": {
     "views": []
    },
    "ff0ddc302ae5473899afc3dbd2b485a5": {
     "views": []
    },
    "ff89fc03c66b4690974fb1ed23387c02": {
     "views": []
    }
   },
   "version": "1.1.1"
  }
 },
 "nbformat": 4,
 "nbformat_minor": 0
}
