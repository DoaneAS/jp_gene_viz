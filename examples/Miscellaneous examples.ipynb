{
 "cells": [
  {
   "cell_type": "markdown",
   "metadata": {},
   "source": [
    "### Miscellaneous\n",
    "\n",
    "This notebook provides example usage demonstrations for\n",
    "small components that don't require lengthy explanations.\n",
    "\n",
    "First load some libraries needed for the demonstrations:"
   ]
  },
  {
   "cell_type": "code",
   "execution_count": null,
   "metadata": {
    "collapsed": false
   },
   "outputs": [],
   "source": [
    "# First import needed modules and javascript support\n",
    "# allow import without install\n",
    "import sys\n",
    "if \"..\" not in sys.path:\n",
    "    sys.path.append(\"..\")\n",
    "    \n",
    "# Load needed libraries\n",
    "from jp_gene_viz import js_proxy\n",
    "# this loads the proxy widget javascript \"view\" implementation\n",
    "js_proxy.load_javascript_support()\n",
    "from jp_gene_viz import js_context\n",
    "import ipywidgets as widgets\n",
    "from IPython.display import display"
   ]
  },
  {
   "cell_type": "markdown",
   "metadata": {},
   "source": [
    "### Simple upload button\n",
    "\n",
    "The `simple_upload_button` plugin\n",
    "allows the user to upload a file to the (remote?) notebook.\n",
    "It is implemented as a jQueryUI plugin.  The source file contains\n",
    "an example usage function from Javascript.  Here is an example usage\n",
    "using `js_proxy`.\n",
    "\n",
    "The following example allows the user to upload a file\n",
    "to the Python interpreter and displays the file content\n",
    "and metadata in a text box widget.\n",
    "\n",
    "This example also illustrates how to use a jQuery plugin\n",
    "with `js_proxy` without the need for any special supporting\n",
    "Javascript."
   ]
  },
  {
   "cell_type": "code",
   "execution_count": null,
   "metadata": {
    "collapsed": false
   },
   "outputs": [],
   "source": [
    "js_context.load_if_not_loaded([\"simple_upload_button.js\"])\n",
    "# To support binary data the internal unicode string passes\n",
    "# hexidecimal encoded bytes by default.\n",
    "from jp_gene_viz.file_chooser_widget import from_hex\n",
    "\n",
    "u = js_proxy.ProxyWidget()\n",
    "output = widgets.Textarea(description=\"output\")\n",
    "\n",
    "def upload_handler(dummy, args):\n",
    "    \"Do something with the uploaded metadata and content.\"\n",
    "    info = args[\"0\"]\n",
    "    # decode hexidecimal content\n",
    "    content = from_hex(info[\"hexcontent\"])\n",
    "    L = [info[\"name\"], info[\"type\"], str(info[\"size\"]), \"===\", content]\n",
    "    output.value = \"\\n\".join(L)\n",
    "\n",
    "# Need the callback to provide 2 levels when passing arguments back.\n",
    "upload_callback = u.callback(upload_handler, data=None, level=2)\n",
    "\n",
    "div = u.element()\n",
    "u(div.simple_upload_button(upload_callback).appendTo(div))\n",
    "u.flush()\n",
    "v = widgets.VBox(children=[u, output])\n",
    "display(v)"
   ]
  },
  {
   "cell_type": "markdown",
   "metadata": {},
   "source": [
    "### File chooser widget\n",
    "\n",
    "The `file_chooser_widget` implementation uses the\n",
    "jQuery plugin `server_file_chooser` (also included in `jp_gene_viz`)\n",
    "to allow the user to view files and folders in the Jupyter\n",
    "server environment and to optionally upload and download\n",
    "files to/from the environment.\n",
    "\n",
    "The following example usage allows the user to view\n",
    "file and folder names and upload or download files."
   ]
  },
  {
   "cell_type": "code",
   "execution_count": null,
   "metadata": {
    "collapsed": false
   },
   "outputs": [],
   "source": [
    "from jp_gene_viz.file_chooser_widget import FileChooser\n",
    "c = FileChooser(root=\".\", upload=True, message=\"upload or download\")\n",
    "c.enable_downloads()\n",
    "c.show()"
   ]
  },
  {
   "cell_type": "markdown",
   "metadata": {},
   "source": [
    "Please see the source code for `server_file_chooser` and `file_chooser_widget`\n",
    "for additional documentation and example usage."
   ]
  },
  {
   "cell_type": "code",
   "execution_count": null,
   "metadata": {
    "collapsed": true
   },
   "outputs": [],
   "source": []
  }
 ],
 "metadata": {
  "kernelspec": {
   "display_name": "Python 2",
   "language": "python",
   "name": "python2"
  },
  "language_info": {
   "codemirror_mode": {
    "name": "ipython",
    "version": 2
   },
   "file_extension": ".py",
   "mimetype": "text/x-python",
   "name": "python",
   "nbconvert_exporter": "python",
   "pygments_lexer": "ipython2",
   "version": "2.7.10"
  }
 },
 "nbformat": 4,
 "nbformat_minor": 0
}
