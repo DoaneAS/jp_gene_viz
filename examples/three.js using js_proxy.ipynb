{
 "cells": [
  {
   "cell_type": "markdown",
   "metadata": {},
   "source": [
    "# Using three.js with js_proxy\n",
    "\n",
    "This notebook transcribes the example from the \n",
    "[three.js README](https://github.com/mrdoob/three.js)\n",
    "into the equivalent incantations using the `js_proxy`\n",
    "proxy widget mechanism.\n",
    "\n",
    "This may not be the best way to use `three.js` inside\n",
    "Jupyter/IPython notebooks.  I recommend taking a look at\n",
    "[pythreejs](https://github.com/jovyan/pythreejs)\n",
    "for a sophisticated and tuned embedding of `three.js` functionality\n",
    "in a IPython widget implementation.\n",
    "\n",
    "However, this proof of concept demonstrates that `js_proxy`\n",
    "can be useful.\n",
    "\n",
    "To start, load the `three.js` minified javascript from\n",
    "a CDN location."
   ]
  },
  {
   "cell_type": "code",
   "execution_count": null,
   "metadata": {
    "collapsed": false
   },
   "outputs": [],
   "source": [
    "from IPython import display\n",
    "load_three = \"\"\"\n",
    "<script src=\"https://cdnjs.cloudflare.com/ajax/libs/three.js/r70/three.min.js\">\n",
    "</script>\n",
    "\"\"\"\n",
    "display.display(display.HTML(load_three))"
   ]
  },
  {
   "cell_type": "markdown",
   "metadata": {},
   "source": [
    "Then load the js_proxy Python and Javascript support and create a proxy widget\n",
    "to use as a communication link to the browser/Javascript context.\n",
    "\n",
    "Also add some convenience variables and functions."
   ]
  },
  {
   "cell_type": "code",
   "execution_count": null,
   "metadata": {
    "collapsed": false
   },
   "outputs": [],
   "source": [
    "# allow import without install\n",
    "import sys\n",
    "if \"..\" not in sys.path:\n",
    "    sys.path.append(\"..\")\n",
    "    \n",
    "from jp_gene_viz import js_proxy\n",
    "js_proxy.load_javascript_support()"
   ]
  },
  {
   "cell_type": "code",
   "execution_count": null,
   "metadata": {
    "collapsed": false
   },
   "outputs": [],
   "source": [
    "w = js_proxy.ProxyWidget()\n",
    "\n",
    "# Some shortcut names for proxy references for convenience:\n",
    "# The global window namespace:\n",
    "window = w.window()\n",
    "# The jQuery element for the widget:\n",
    "element = w.element()\n",
    "# The THREE module object:\n",
    "THREE = window.THREE\n",
    "# The emulation of the JS \"new\" keyword.\n",
    "new = w.save_new"
   ]
  },
  {
   "cell_type": "markdown",
   "metadata": {
    "collapsed": true
   },
   "source": [
    "Now we create \"proxy commands\" which emulate the actions of the `init` function of the README."
   ]
  },
  {
   "cell_type": "code",
   "execution_count": null,
   "metadata": {
    "collapsed": false
   },
   "outputs": [],
   "source": [
    "scene = new(\"scene\", THREE.Scene, [])\n",
    "camera = new(\"camera\", THREE.PerspectiveCamera, [75, 1.0, 1, 10000])\n",
    "w(camera.position._set(\"z\", 500))\n",
    "geometry = new(\"geometry\", THREE.BoxGeometry, [200, 200, 200])\n",
    "material = new(\"material\", THREE.MeshBasicMaterial, [{\"color\": 0xff0000, \"wireframe\": True } ])\n",
    "mesh = new(\"mesh\", THREE.Mesh, [geometry, material])\n",
    "w(scene.add(mesh))\n",
    "renderer = new(\"renderer\", THREE.WebGLRenderer, [])\n",
    "w(renderer.setSize(300, 300))\n",
    "w(element.append(renderer.domElement))\n",
    "do_render = w(renderer.render(scene, camera))\n",
    "\n",
    "# send the buffered commands\n",
    "json_sent = w.flush()"
   ]
  },
  {
   "cell_type": "code",
   "execution_count": null,
   "metadata": {
    "collapsed": false
   },
   "outputs": [],
   "source": [
    "# show the 3d scene.\n",
    "display.display(w)"
   ]
  },
  {
   "cell_type": "code",
   "execution_count": null,
   "metadata": {
    "collapsed": false
   },
   "outputs": [],
   "source": [
    "# rotate the cube using a busy-loop blocking the interpreter.\n",
    "import time\n",
    "\n",
    "def make_it_rotate():\n",
    "    for i in xrange(100):\n",
    "        time.sleep(0.1)\n",
    "        w(mesh.rotation._set(\"x\", i/10.0)._set(\"y\", i/5.0))\n",
    "        w(do_render)\n",
    "        w.flush()\n",
    "\n",
    "make_it_rotate()"
   ]
  },
  {
   "cell_type": "code",
   "execution_count": null,
   "metadata": {
    "collapsed": false
   },
   "outputs": [],
   "source": [
    "# rotate the cube using a requestAnimationFrame callback\n",
    "# this doesn't block the interpreter.\n",
    "requestAnimationFrame = window.requestAnimationFrame\n",
    "rotation = {\"x\": 1.1, \"y\": 2.2, \"count\": 0}\n",
    "\n",
    "def animation_frame(data=None, arguments=None):\n",
    "    rotation[\"count\"] += 1\n",
    "    if rotation[\"count\"] > 100000:\n",
    "        return # stop animation\n",
    "    rotation[\"x\"] += 0.01\n",
    "    rotation[\"y\"] += 0.02\n",
    "    w(mesh.rotation._set(\"x\", rotation[\"x\"])._set(\"y\", rotation[\"y\"]))\n",
    "    w(do_render)\n",
    "    w(requestAnimationFrame(animation_callback))\n",
    "    w.flush()\n",
    "\n",
    "# set up the js-->python callback interface\n",
    "animation_callback = w.callback(animation_frame, data=None)\n",
    "\n",
    "# start the animation sequence\n",
    "animation_frame()"
   ]
  },
  {
   "cell_type": "code",
   "execution_count": null,
   "metadata": {
    "collapsed": false
   },
   "outputs": [],
   "source": [
    "# do some calculation during the animation\n",
    "12 + 90"
   ]
  },
  {
   "cell_type": "code",
   "execution_count": null,
   "metadata": {
    "collapsed": true
   },
   "outputs": [],
   "source": []
  }
 ],
 "metadata": {
  "kernelspec": {
   "display_name": "Python 2",
   "language": "python",
   "name": "python2"
  },
  "language_info": {
   "codemirror_mode": {
    "name": "ipython",
    "version": 2
   },
   "file_extension": ".py",
   "mimetype": "text/x-python",
   "name": "python",
   "nbconvert_exporter": "python",
   "pygments_lexer": "ipython2",
   "version": "2.7.10"
  },
  "widgets": {
   "state": {
    "b0fb917caff14cc191a7ac8baa152a30": {
     "views": []
    },
    "ff49aa255b6c47e2ae061619b0354950": {
     "views": [
      {
       "cell_index": 7
      }
     ]
    }
   },
   "version": "1.1.1"
  }
 },
 "nbformat": 4,
 "nbformat_minor": 0
}
