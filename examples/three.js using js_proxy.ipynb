{
 "cells": [
  {
   "cell_type": "markdown",
   "metadata": {},
   "source": [
    "# Using three.js with js_proxy\n",
    "\n",
    "This notebook transcribes the example from the \n",
    "[three.js README](https://github.com/mrdoob/three.js)\n",
    "into the equivalent incantations using the `js_proxy`\n",
    "proxy widget mechanism.\n",
    "\n",
    "This may not be the best way to use `three.js` inside\n",
    "Jupyter/IPython notebooks.  I recommend taking a look at\n",
    "[pythreejs](https://github.com/jovyan/pythreejs)\n",
    "for a sophisticated and tuned embedding of `three.js` functionality\n",
    "in a IPython widget implementation.\n",
    "\n",
    "However, this proof of concept demonstrates that `js_proxy`\n",
    "can be useful.\n",
    "\n",
    "To start, load the `three.js` minified javascript from\n",
    "a CDN location."
   ]
  },
  {
   "cell_type": "code",
   "execution_count": 20,
   "metadata": {
    "collapsed": false
   },
   "outputs": [
    {
     "data": {
      "text/html": [
       "\n",
       "<script src=\"http://cdnjs.cloudflare.com/ajax/libs/three.js/r70/three.min.js\">\n",
       "</script>\n"
      ],
      "text/plain": [
       "<IPython.core.display.HTML object>"
      ]
     },
     "metadata": {},
     "output_type": "display_data"
    }
   ],
   "source": [
    "from IPython import display\n",
    "load_three = \"\"\"\n",
    "<script src=\"http://cdnjs.cloudflare.com/ajax/libs/three.js/r70/three.min.js\">\n",
    "</script>\n",
    "\"\"\"\n",
    "display.display(display.HTML(load_three))"
   ]
  },
  {
   "cell_type": "markdown",
   "metadata": {},
   "source": [
    "Then load the js_proxy Python and Javascript support and create a proxy widget\n",
    "to use as a communication link to the browser/Javascript context.\n",
    "\n",
    "Also add some convenience variables and functions."
   ]
  },
  {
   "cell_type": "code",
   "execution_count": 21,
   "metadata": {
    "collapsed": false
   },
   "outputs": [],
   "source": [
    "from jp_gene_viz import js_proxy\n",
    "js_proxy.load_javascript_support()"
   ]
  },
  {
   "cell_type": "code",
   "execution_count": 22,
   "metadata": {
    "collapsed": false
   },
   "outputs": [],
   "source": [
    "w = js_proxy.ProxyWidget()\n",
    "\n",
    "# Some shortcut names for proxy references for convenience:\n",
    "# The global window namespace:\n",
    "window = w.window()\n",
    "# The jQuery element for the widget:\n",
    "element = w.element()\n",
    "# The THREE module object:\n",
    "THREE = window.THREE\n",
    "# The \"set\" operation to store a JS value\n",
    "save_js = element._set\n",
    "# The emulation of the JS \"new\" keyword.\n",
    "new = element.New\n",
    "\n",
    "def save_new(name, constructor, arguments):\n",
    "    \"\"\"\n",
    "    Create an object and save it in the element namespace,\n",
    "    \"\"\"\n",
    "    new_reference = new(constructor, arguments)\n",
    "    return save_js(name, new_reference)"
   ]
  },
  {
   "cell_type": "markdown",
   "metadata": {
    "collapsed": true
   },
   "source": [
    "Now we create \"proxy commands\" which emulate the actions of the `init` function of the README."
   ]
  },
  {
   "cell_type": "code",
   "execution_count": 24,
   "metadata": {
    "collapsed": false
   },
   "outputs": [],
   "source": [
    "save_scene = save_new(\"scene\", THREE.Scene, [])\n",
    "save_camera = save_new(\"camera\", THREE.PerspectiveCamera, [75, 1.0, 1, 10000])\n",
    "set_position = element.camera.position._set(\"z\", 1000)\n",
    "save_geometry = save_new(\"geometry\", THREE.BoxGeometry, [200, 200, 200])\n",
    "save_material = save_new(\"material\", THREE.MeshBasicMaterial, [{\"color\": 0xff0000, \"wireframe\": True } ])\n",
    "save_mesh = save_new(\"mesh\", THREE.Mesh, [element.geometry, element.material])\n",
    "add_mesh = element.scene.add(element.mesh)\n",
    "save_renderer = save_new(\"renderer\", THREE.WebGLRenderer, [])\n",
    "set_sizes = element.renderer.setSize(300, 300)\n",
    "add_renderer = element.append(element.renderer.domElement)\n",
    "do_render = element.renderer.render(element.scene, element.camera)\n",
    "json_sent = w.send_commands([\n",
    "    save_scene,\n",
    "    save_camera,\n",
    "    set_position,\n",
    "    save_geometry,\n",
    "    save_material,\n",
    "    save_mesh,\n",
    "    add_mesh,\n",
    "    save_renderer,\n",
    "    set_sizes,\n",
    "    add_renderer,\n",
    "    do_render,\n",
    "])"
   ]
  },
  {
   "cell_type": "code",
   "execution_count": 25,
   "metadata": {
    "collapsed": false
   },
   "outputs": [],
   "source": [
    "# show the 3d scene.\n",
    "display.display(w)"
   ]
  },
  {
   "cell_type": "code",
   "execution_count": 34,
   "metadata": {
    "collapsed": false
   },
   "outputs": [],
   "source": [
    "# rotate the cube using a busy-loop blocking the interpreter.\n",
    "import time\n",
    "\n",
    "def make_it_rotate():\n",
    "    for i in xrange(500):\n",
    "        time.sleep(0.1)\n",
    "        rotate = element.mesh.rotation._set(\"x\", i/10.0)._set(\"y\", i/5.0)\n",
    "        w.send_commands([rotate, do_render])\n",
    "\n",
    "make_it_rotate()"
   ]
  },
  {
   "cell_type": "code",
   "execution_count": 35,
   "metadata": {
    "collapsed": false
   },
   "outputs": [],
   "source": [
    "# rotate the cube using a requestAnimationFrame callback\n",
    "# this doesn't block the interpreter.\n",
    "requestAnimationFrame = window.requestAnimationFrame\n",
    "rotation = {\"x\": 1.1, \"y\": 2.2, \"count\": 0}\n",
    "\n",
    "def animation_frame(data=None, arguments=None):\n",
    "    rotation[\"count\"] += 1\n",
    "    if rotation[\"count\"] > 100000:\n",
    "        return # stop animation\n",
    "    rotation[\"x\"] += 0.01\n",
    "    rotation[\"y\"] += 0.02\n",
    "    rotate = element.mesh.rotation._set(\"x\", rotation[\"x\"])._set(\"y\", rotation[\"y\"])\n",
    "    next_frame = requestAnimationFrame(animation_callback)\n",
    "    w.send_commands([rotate, do_render, next_frame])\n",
    "\n",
    "# set up the js-->python callback interface\n",
    "animation_callback = w.callback(animation_frame, data=None)\n",
    "\n",
    "# start the animation sequence\n",
    "animation_frame()"
   ]
  },
  {
   "cell_type": "code",
   "execution_count": 33,
   "metadata": {
    "collapsed": false
   },
   "outputs": [
    {
     "data": {
      "text/plain": [
       "102"
      ]
     },
     "execution_count": 33,
     "metadata": {},
     "output_type": "execute_result"
    }
   ],
   "source": [
    "# do some calculation during the animation\n",
    "12 + 90"
   ]
  },
  {
   "cell_type": "code",
   "execution_count": null,
   "metadata": {
    "collapsed": true
   },
   "outputs": [],
   "source": []
  }
 ],
 "metadata": {
  "kernelspec": {
   "display_name": "Python 2",
   "language": "python",
   "name": "python2"
  },
  "language_info": {
   "codemirror_mode": {
    "name": "ipython",
    "version": 2
   },
   "file_extension": ".py",
   "mimetype": "text/x-python",
   "name": "python",
   "nbconvert_exporter": "python",
   "pygments_lexer": "ipython2",
   "version": "2.7.10"
  }
 },
 "nbformat": 4,
 "nbformat_minor": 0
}
