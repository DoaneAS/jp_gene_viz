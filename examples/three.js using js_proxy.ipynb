{
 "cells": [
  {
   "cell_type": "markdown",
   "metadata": {},
   "source": [
    "# Using three.js with js_proxy\n",
    "\n",
    "This notebook transcribes the example from the \n",
    "[three.js README](https://github.com/mrdoob/three.js)\n",
    "into the equivalent incantations using the `js_proxy`\n",
    "proxy widget mechanism.\n",
    "\n",
    "This may not be the best way to use `three.js` inside\n",
    "Jupyter/IPython notebooks.  I recommend taking a look at\n",
    "[pythreejs](https://github.com/jovyan/pythreejs)\n",
    "for a sophisticated and tuned embedding of `three.js` functionality\n",
    "in a IPython widget implementation.\n",
    "\n",
    "However, this proof of concept demonstrates that `js_proxy`\n",
    "can be useful.\n",
    "\n",
    "To start, load the `three.js` minified javascript from\n",
    "a CDN location."
   ]
  },
  {
   "cell_type": "code",
   "execution_count": 1,
   "metadata": {
    "collapsed": false
   },
   "outputs": [
    {
     "data": {
      "text/html": [
       "\n",
       "<script src=\"http://cdnjs.cloudflare.com/ajax/libs/three.js/r70/three.min.js\">\n",
       "</script>\n"
      ],
      "text/plain": [
       "<IPython.core.display.HTML object>"
      ]
     },
     "metadata": {},
     "output_type": "display_data"
    }
   ],
   "source": [
    "from IPython import display\n",
    "load_three = \"\"\"\n",
    "<script src=\"http://cdnjs.cloudflare.com/ajax/libs/three.js/r70/three.min.js\">\n",
    "</script>\n",
    "\"\"\"\n",
    "display.display(display.HTML(load_three))"
   ]
  },
  {
   "cell_type": "markdown",
   "metadata": {},
   "source": [
    "Then load the js_proxy Python and Javascript support and create a proxy widget\n",
    "to use as a communication link to the browser/Javascript context.\n",
    "\n",
    "Also add some convenience variables and functions."
   ]
  },
  {
   "cell_type": "code",
   "execution_count": 2,
   "metadata": {
    "collapsed": false
   },
   "outputs": [
    {
     "data": {
      "application/javascript": [
       "\n",
       "// This is the javascript side to match js_proxy.py.\n",
       "// See js_proxy.py for an explanation of the command transfer\n",
       "// protocol.\n",
       "\n",
       "require([\"widgets/js/widget\", \"widgets/js/manager\", \"underscore\", \"jquery\"\n",
       "], function(widget, manager, _, $) {\n",
       "    //debugger;\n",
       "\n",
       "    var JSProxyView = widget.DOMWidgetView.extend({\n",
       "\n",
       "        render: function() {\n",
       "            var that = this;\n",
       "            that.on(\"displayed\", function() {\n",
       "                that.update();\n",
       "            });\n",
       "            // \"new\" keyword emulation\n",
       "            // http://stackoverflow.com/questions/17342497/dynamically-control-arguments-while-creating-objects-in-javascript\n",
       "            that.$el.New = function(klass, args) {\n",
       "                var obj = Object.create(klass.prototype);\n",
       "                return klass.apply(obj, args) || obj;\n",
       "            }\n",
       "        },\n",
       "\n",
       "        update: function(options) {\n",
       "            var that = this;\n",
       "            var commands = that.model.get(\"commands\");\n",
       "            if (commands.length >= 2) {\n",
       "                var command_counter = commands[0];\n",
       "                var command_list = commands[1];\n",
       "                var level = commands[2];\n",
       "                level = that.check_level(level);\n",
       "                var results = [];\n",
       "                _.each(command_list, function(command,i) {\n",
       "                    var result = that.execute_command(command);\n",
       "                    results[i] = that.json_safe(result, level);\n",
       "                });\n",
       "                that.model.set(\"commands\", []);\n",
       "                that.model.set(\"results\", [command_counter, results])\n",
       "                that.touch();\n",
       "            }\n",
       "        },\n",
       "\n",
       "        execute_command: function(command) {\n",
       "            var that = this;\n",
       "            var result = command;\n",
       "            if ($.isArray(command)) {\n",
       "                var indicator = command[0];\n",
       "                var remainder = command.slice();\n",
       "                remainder.shift();\n",
       "                if (indicator == \"element\") {\n",
       "                    result = that.$el;\n",
       "                } else if (indicator == \"window\") {\n",
       "                    result = window;\n",
       "                } else if (indicator == \"method\") {\n",
       "                    var target_desc = remainder.shift();\n",
       "                    var target = that.execute_command(target_desc);\n",
       "                    var name = remainder.shift();\n",
       "                    var args = remainder.map(that.execute_command, that);\n",
       "                    var method = target[name];\n",
       "                    if (method) {\n",
       "                        result = method.apply(target, args);\n",
       "                    } else {\n",
       "                        result = \"In \" + target + \" no such method \" + name;\n",
       "                    }\n",
       "                } else if (indicator == \"function\") {\n",
       "                    var function_desc = remainder.shift();\n",
       "                    var function_value = that.execute_command(function_desc);\n",
       "                    var args = remainder.map(that.execute_command, that);\n",
       "                    // Use \"that\" as the \"this\" value for function values?\n",
       "                    result = function_value.apply(that, args);\n",
       "                } else if (indicator == \"id\") {\n",
       "                    result = remainder[0];\n",
       "                } else if (indicator == \"list\") {\n",
       "                    result = remainder.map(that.execute_command, that);\n",
       "                } else if (indicator == \"dict\") {\n",
       "                    result = {}\n",
       "                    var desc = remainder[0];\n",
       "                    for (var key in desc) {\n",
       "                        var key_desc = desc[key];\n",
       "                        var val = that.execute_command(key_desc);\n",
       "                        result[key] = val;\n",
       "                    }\n",
       "                } else if (indicator == \"callback\") {\n",
       "                    var identifier = remainder.shift();\n",
       "                    var data = remainder.shift();\n",
       "                    var level = remainder.shift();\n",
       "                    // sanity check\n",
       "                    level = that.check_level(level);\n",
       "                    result = that.callback_factory(identifier, data, level);\n",
       "                } else if (indicator == \"get\") {\n",
       "                    var target_desc = remainder.shift();\n",
       "                    var target = that.execute_command(target_desc);\n",
       "                    var name = remainder.shift();\n",
       "                    result = target[name];\n",
       "                } else if (indicator == \"set\") {\n",
       "                    var target_desc = remainder.shift();\n",
       "                    var target = that.execute_command(target_desc);\n",
       "                    var name = remainder.shift();\n",
       "                    var value_desc = remainder.shift()\n",
       "                    var value = that.execute_command(value_desc);\n",
       "                    target[name] = value;\n",
       "                    result = target;\n",
       "                } else if (indicator == \"null\") {\n",
       "                    target_desc = remainder.shift();\n",
       "                    that.execute_command(target_desc);\n",
       "                    result = null;\n",
       "                } else {\n",
       "                    result = \"Unknown indicator \" + indicator;\n",
       "                }\n",
       "            }\n",
       "            return result;\n",
       "        },\n",
       "\n",
       "        check_level: function(level) {\n",
       "            if ((typeof level) != \"number\" || (level < 0)) {\n",
       "                level = 0;\n",
       "            } else if (level > 5) {\n",
       "                level = 5;\n",
       "            }\n",
       "            return level;\n",
       "        },\n",
       "\n",
       "        callback_factory: function(identifier, data, level) {\n",
       "            var that = this;\n",
       "            var handler = function () {\n",
       "                var payload = that.json_safe([identifier, data, arguments], level + 1);\n",
       "                that.model.set(\"callback_results\", payload);\n",
       "                that.touch();\n",
       "            };\n",
       "            return handler;\n",
       "        },\n",
       "\n",
       "        json_safe: function(val, depth) {\n",
       "            // maybe expand later as need arises\n",
       "            var that = this;\n",
       "            var ty = (typeof val);\n",
       "            if ((ty == \"number\") || (ty == \"string\") || (ty == \"boolean\")) {\n",
       "                return val;\n",
       "            }\n",
       "            if (!val) {\n",
       "                // translate all other falsies to None\n",
       "                return null;\n",
       "            }\n",
       "            if (((typeof depth) == \"number\") && (depth > 0)) {\n",
       "                if ($.isArray(val)) {\n",
       "                    var result = [];\n",
       "                    _.each(val, function(elt, i) {\n",
       "                        var r = that.json_safe(elt, depth-1);\n",
       "                        if (r != null) {\n",
       "                            result[i] = r;\n",
       "                        }\n",
       "                    });\n",
       "                    return result;\n",
       "                } else {\n",
       "                    var result = {};\n",
       "                    for (var key in val) {\n",
       "                        var jv = that.json_safe(val[key], depth-1);\n",
       "                        if (jv != null) {\n",
       "                            result[key] = jv;\n",
       "                        }\n",
       "                    }\n",
       "                    return result;\n",
       "                }\n",
       "            }\n",
       "            return null;\n",
       "        }\n",
       "\n",
       "    });\n",
       "\n",
       "    manager.WidgetManager.register_widget_view('JSProxyView', JSProxyView);\n",
       "});\n"
      ],
      "text/plain": [
       "<IPython.core.display.Javascript object>"
      ]
     },
     "metadata": {},
     "output_type": "display_data"
    }
   ],
   "source": [
    "# allow import without install\n",
    "import sys\n",
    "if \"..\" not in sys.path:\n",
    "    sys.path.append(\"..\")\n",
    "    \n",
    "from jp_gene_viz import js_proxy\n",
    "js_proxy.load_javascript_support()"
   ]
  },
  {
   "cell_type": "code",
   "execution_count": 3,
   "metadata": {
    "collapsed": false
   },
   "outputs": [],
   "source": [
    "w = js_proxy.ProxyWidget()\n",
    "\n",
    "# Some shortcut names for proxy references for convenience:\n",
    "# The global window namespace:\n",
    "window = w.window()\n",
    "# The jQuery element for the widget:\n",
    "element = w.element()\n",
    "# The THREE module object:\n",
    "THREE = window.THREE\n",
    "# The emulation of the JS \"new\" keyword.\n",
    "new = w.save_new"
   ]
  },
  {
   "cell_type": "markdown",
   "metadata": {
    "collapsed": true
   },
   "source": [
    "Now we create \"proxy commands\" which emulate the actions of the `init` function of the README."
   ]
  },
  {
   "cell_type": "code",
   "execution_count": 4,
   "metadata": {
    "collapsed": false
   },
   "outputs": [],
   "source": [
    "scene = new(\"scene\", THREE.Scene, [])\n",
    "camera = new(\"camera\", THREE.PerspectiveCamera, [75, 1.0, 1, 10000])\n",
    "w(camera.position._set(\"z\", 500))\n",
    "geometry = new(\"geometry\", THREE.BoxGeometry, [200, 200, 200])\n",
    "material = new(\"material\", THREE.MeshBasicMaterial, [{\"color\": 0xff0000, \"wireframe\": True } ])\n",
    "mesh = new(\"mesh\", THREE.Mesh, [geometry, material])\n",
    "w(scene.add(mesh))\n",
    "renderer = new(\"renderer\", THREE.WebGLRenderer, [])\n",
    "w(renderer.setSize(300, 300))\n",
    "w(element.append(renderer.domElement))\n",
    "do_render = w(renderer.render(scene, camera))\n",
    "\n",
    "# send the buffered commands\n",
    "json_sent = w.flush()"
   ]
  },
  {
   "cell_type": "code",
   "execution_count": 5,
   "metadata": {
    "collapsed": false
   },
   "outputs": [],
   "source": [
    "# show the 3d scene.\n",
    "display.display(w)"
   ]
  },
  {
   "cell_type": "code",
   "execution_count": 6,
   "metadata": {
    "collapsed": false
   },
   "outputs": [],
   "source": [
    "# rotate the cube using a busy-loop blocking the interpreter.\n",
    "import time\n",
    "\n",
    "def make_it_rotate():\n",
    "    for i in xrange(100):\n",
    "        time.sleep(0.1)\n",
    "        w(mesh.rotation._set(\"x\", i/10.0)._set(\"y\", i/5.0))\n",
    "        w(do_render)\n",
    "        w.flush()\n",
    "\n",
    "make_it_rotate()"
   ]
  },
  {
   "cell_type": "code",
   "execution_count": 7,
   "metadata": {
    "collapsed": false
   },
   "outputs": [],
   "source": [
    "# rotate the cube using a requestAnimationFrame callback\n",
    "# this doesn't block the interpreter.\n",
    "requestAnimationFrame = window.requestAnimationFrame\n",
    "rotation = {\"x\": 1.1, \"y\": 2.2, \"count\": 0}\n",
    "\n",
    "def animation_frame(data=None, arguments=None):\n",
    "    rotation[\"count\"] += 1\n",
    "    if rotation[\"count\"] > 100000:\n",
    "        return # stop animation\n",
    "    rotation[\"x\"] += 0.01\n",
    "    rotation[\"y\"] += 0.02\n",
    "    w(mesh.rotation._set(\"x\", rotation[\"x\"])._set(\"y\", rotation[\"y\"]))\n",
    "    w(do_render)\n",
    "    w(requestAnimationFrame(animation_callback))\n",
    "    w.flush()\n",
    "\n",
    "# set up the js-->python callback interface\n",
    "animation_callback = w.callback(animation_frame, data=None)\n",
    "\n",
    "# start the animation sequence\n",
    "animation_frame()"
   ]
  },
  {
   "cell_type": "code",
   "execution_count": 8,
   "metadata": {
    "collapsed": false
   },
   "outputs": [
    {
     "data": {
      "text/plain": [
       "102"
      ]
     },
     "execution_count": 8,
     "metadata": {},
     "output_type": "execute_result"
    }
   ],
   "source": [
    "# do some calculation during the animation\n",
    "12 + 90"
   ]
  },
  {
   "cell_type": "code",
   "execution_count": null,
   "metadata": {
    "collapsed": true
   },
   "outputs": [],
   "source": []
  }
 ],
 "metadata": {
  "kernelspec": {
   "display_name": "Python 2",
   "language": "python",
   "name": "python2"
  },
  "language_info": {
   "codemirror_mode": {
    "name": "ipython",
    "version": 2
   },
   "file_extension": ".py",
   "mimetype": "text/x-python",
   "name": "python",
   "nbconvert_exporter": "python",
   "pygments_lexer": "ipython2",
   "version": "2.7.10"
  }
 },
 "nbformat": 4,
 "nbformat_minor": 0
}
