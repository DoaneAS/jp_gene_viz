{
 "cells": [
  {
   "cell_type": "markdown",
   "metadata": {},
   "source": [
    "### Piechart drilldown to explore file system directory sizes\n",
    "\n",
    "This is an experimental proof of concept to illustrate the possible usage\n",
    "of `Highcharts` with `js_proxy` in Jupyter notebooks.\n",
    "\n",
    "The visualization displays the relative sizes of directories and files in directories\n",
    "for a target directory as a pie chart.  Clicking on a slice for a child directory will\n",
    "open a new pie chart below which displays the content of the child directory.\n",
    "\n",
    "- See the [js_proxy example](js_proxy%20example.ipynb) notebook for more information\n",
    "about the js_proxy widget proxy mechanism.\n",
    "\n",
    "- See the [Highcharts using jsproxy](HighCharts%20using%20js_proxy.ipynb) notebook\n",
    "for more information on using Highcharts with js_proxy.\n",
    "\n",
    "- See the [fs_chart source](../jp_gene_viz/fs_chart.py) for details of the pie\n",
    "chart widget showcased in this demo."
   ]
  },
  {
   "cell_type": "code",
   "execution_count": null,
   "metadata": {
    "collapsed": true
   },
   "outputs": [],
   "source": [
    "# allow import without install\n",
    "import sys\n",
    "if \"..\" not in sys.path:\n",
    "    sys.path.append(\"..\")\n",
    "\n",
    "from jp_gene_viz import fs_chart"
   ]
  },
  {
   "cell_type": "code",
   "execution_count": null,
   "metadata": {
    "collapsed": false
   },
   "outputs": [],
   "source": [
    "w = fs_chart.explore_directory(\"../..\")"
   ]
  },
  {
   "cell_type": "code",
   "execution_count": null,
   "metadata": {
    "collapsed": false
   },
   "outputs": [],
   "source": [
    "w.results"
   ]
  },
  {
   "cell_type": "code",
   "execution_count": null,
   "metadata": {
    "collapsed": true
   },
   "outputs": [],
   "source": []
  }
 ],
 "metadata": {
  "kernelspec": {
   "display_name": "Python 2",
   "language": "python",
   "name": "python2"
  },
  "language_info": {
   "codemirror_mode": {
    "name": "ipython",
    "version": 2
   },
   "file_extension": ".py",
   "mimetype": "text/x-python",
   "name": "python",
   "nbconvert_exporter": "python",
   "pygments_lexer": "ipython2",
   "version": "2.7.10"
  }
 },
 "nbformat": 4,
 "nbformat_minor": 0
}
