{
 "cells": [
  {
   "cell_type": "markdown",
   "metadata": {},
   "source": [
    " ## Demo of cytoscape.js embedded in Jupyter\n",
    " \n",
    " based on https://github.com/cytoscape/cytoscape.js/blob/master/documentation/demos/621d51ea7de19608127e/code.js"
   ]
  },
  {
   "cell_type": "code",
   "execution_count": 6,
   "metadata": {
    "collapsed": false
   },
   "outputs": [
    {
     "name": "stdout",
     "output_type": "stream",
     "text": [
      "not reloading javascript file ../jp_gene_viz/cytoscape.js\n",
      "not reloading javascript file ../jp_gene_viz/jp_cytoscape.js\n"
     ]
    }
   ],
   "source": [
    "# Add parent directory to the path so the imports will work without an install.\n",
    "import sys\n",
    "sys.path.append(\"..\")\n",
    "from jp_gene_viz import jp_cytoscape\n",
    "jp_cytoscape.load_javascript_support(True)"
   ]
  },
  {
   "cell_type": "code",
   "execution_count": 7,
   "metadata": {
    "collapsed": true
   },
   "outputs": [],
   "source": [
    "# Display a cytoscape widget.\n",
    "cy = jp_cytoscape.CytoscapeWidget()\n",
    "js = cy.js()\n",
    "cy"
   ]
  },
  {
   "cell_type": "code",
   "execution_count": 8,
   "metadata": {
    "collapsed": false
   },
   "outputs": [],
   "source": [
    "# remove the default node and make sure scrolling stays in sync\n",
    "cy.send(js.fix())\n",
    "\n",
    "# setup a fancy style\n",
    "stylecmd = (js.style()        \n",
    "    .selector('node')\n",
    "      .css({\n",
    "        'content': 'data(name)',\n",
    "        'text-valign': 'center',\n",
    "        'color': 'white',\n",
    "        'text-outline-width': 2,\n",
    "        'text-outline-color': '#888',\n",
    "            \"background-color\": \"cyan\"\n",
    "      })\n",
    "    .selector('edge')\n",
    "      .css({\n",
    "        'target-arrow-shape': 'triangle'\n",
    "      })\n",
    "    .selector(':selected')\n",
    "      .css({\n",
    "        'background-color': 'black',\n",
    "        'line-color': 'black',\n",
    "        'target-arrow-color': 'black',\n",
    "        'source-arrow-color': 'black'\n",
    "      })\n",
    "    .selector('.faded')\n",
    "      .css({\n",
    "        'opacity': 0.25,\n",
    "        'text-opacity': 0\n",
    "      }).update()\n",
    "           )\n",
    "cy.send(stylecmd)\n",
    "\n",
    "# Load a graph and adjust the sizes and layout\n",
    "people = [\"jerry\", \"elaine\", \"kramer\", \"george\"]\n",
    "#from string import capitalize\n",
    "js = cy.js()\n",
    "\n",
    "for person in people:\n",
    "    cmd = js.add({\"group\": \"nodes\", \"data\": {\"id\": person[0], \"name\": person.capitalize()}})\n",
    "    cy.send(cmd)\n",
    "for p1 in people:\n",
    "    for p2 in people:\n",
    "        cmd = js.add({\"group\": \"edges\", \"data\": { \"source\": p1[0], \"target\": p2[0]}})\n",
    "        cy.send(cmd)\n",
    "cy.width = \"500px\"\n",
    "cy.height = \"500px\"\n",
    "cy.send(js.resize())\n",
    "cy.send(js.makeLayout({\"name\": \"grid\", \"padding\": 10}).run())\n",
    "cy.send(js.forceRender())"
   ]
  },
  {
   "cell_type": "code",
   "execution_count": 9,
   "metadata": {
    "collapsed": false
   },
   "outputs": [],
   "source": [
    "# make elaine's node pink\n",
    "cy.send(js.DOLLAR(\"#e\").style(\"background-color\", \"pink\").style(\"color\", \"yellow\"))"
   ]
  },
  {
   "cell_type": "code",
   "execution_count": null,
   "metadata": {
    "collapsed": true
   },
   "outputs": [],
   "source": []
  }
 ],
 "metadata": {
  "kernelspec": {
   "display_name": "Python 3",
   "language": "python",
   "name": "python3"
  },
  "language_info": {
   "codemirror_mode": {
    "name": "ipython",
    "version": 3
   },
   "file_extension": ".py",
   "mimetype": "text/x-python",
   "name": "python",
   "nbconvert_exporter": "python",
   "pygments_lexer": "ipython3",
   "version": "3.5.1"
  }
 },
 "nbformat": 4,
 "nbformat_minor": 0
}
