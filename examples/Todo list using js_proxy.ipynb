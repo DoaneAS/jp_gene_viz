{
 "cells": [
  {
   "cell_type": "markdown",
   "metadata": {},
   "source": [
    "# Todo list mini app using js_proxy\n",
    "\n",
    "This notebook illustrates how to use `js_proxy` widgets in combination\n",
    "with standard `ipywidgets`.\n",
    "\n",
    "It features:\n",
    "\n",
    "- A modal dialog for error feedback.\n",
    "\n",
    "- A datepicker text area.\n",
    "\n",
    "- A general callback from jQuery to the Python process (used to implement the delete button).\n",
    "\n",
    "Please see the [js_proxy examples](js_proxy%20example.ipynb) notebook for more\n",
    "information about the js_proxy widget mechanism.\n",
    "\n",
    "For more sophisticated uses, please see\n",
    "\n",
    "- The [three.js using jsproxy](three.js%20using%20js_proxy.ipynb) notebook or\n",
    "\n",
    "- The [Highcharts using jsproxy](HighCharts%20using%20js_proxy.ipynb) notebook"
   ]
  },
  {
   "cell_type": "code",
   "execution_count": 1,
   "metadata": {
    "collapsed": false
   },
   "outputs": [
    {
     "data": {
      "application/javascript": [
       "\n",
       "// This is the javascript side to match js_proxy.py.\n",
       "// See js_proxy.py for an explanation of the command transfer\n",
       "// protocol\n",
       "\n",
       "// imitating ipywidgets/docs/source/examples/Custom Widget - Hello World.ipynb\n",
       "\n",
       "//require([\"widgets/js/widget\", \"widgets/js/manager\", \"underscore\", \"jquery\"\n",
       "//], function(widget, manager, _, $) {\n",
       "\n",
       "require.undef(\"JSProxy\");\n",
       "\n",
       "define(\"JSProxy\", [\"jupyter-js-widgets\"], function(widgets) {\n",
       "\n",
       "    var JSProxyView = widgets.DOMWidgetView.extend({\n",
       "\n",
       "        render: function() {\n",
       "            var that = this;\n",
       "            that.on(\"displayed\", function() {\n",
       "                that.update();\n",
       "            });\n",
       "            // Wrap $el as a proper jQuery object\n",
       "            that.$$el = $(that.$el);\n",
       "            // \"new\" keyword emulation\n",
       "            // http://stackoverflow.com/questions/17342497/dynamically-control-arguments-while-creating-objects-in-javascript\n",
       "            that.$$el.New = function(klass, args) {\n",
       "                var obj = Object.create(klass.prototype);\n",
       "                return klass.apply(obj, args) || obj;\n",
       "            };\n",
       "\n",
       "            // fix key bindings for wayward element.\n",
       "            // XXXX This is a bit of a hack that may not be needed in future\n",
       "            // Jupyter releases.\n",
       "            that.$$el.Fix = function(element) {\n",
       "                debugger;\n",
       "                that.model.widget_manager.keyboard_manager.register_events(element);\n",
       "            };\n",
       "        },\n",
       "\n",
       "        update: function(options) {\n",
       "            var that = this;\n",
       "            var commands = that.model.get(\"commands\");\n",
       "            if (commands.length >= 2) {\n",
       "                var command_counter = commands[0];\n",
       "                var command_list = commands[1];\n",
       "                var level = commands[2];\n",
       "                level = that.check_level(level);\n",
       "                var results = [];\n",
       "                _.each(command_list, function(command,i) {\n",
       "                    var result = that.execute_command(command);\n",
       "                    results[i] = that.json_safe(result, level);\n",
       "                });\n",
       "                that.model.set(\"commands\", []);\n",
       "                that.model.set(\"results\", [command_counter, results])\n",
       "                that.touch();\n",
       "            }\n",
       "        },\n",
       "\n",
       "        execute_command: function(command) {\n",
       "            var that = this;\n",
       "            var result = command;\n",
       "            if ($.isArray(command)) {\n",
       "                var indicator = command[0];\n",
       "                var remainder = command.slice();\n",
       "                remainder.shift();\n",
       "                if (indicator == \"element\") {\n",
       "                    // Make sure the element is wrapped as a proper JQuery(UI) object\n",
       "                    if (!that.$$el) {\n",
       "                        that.$$el = $(that.$el);\n",
       "                    }\n",
       "                    result = that.$$el;\n",
       "                } else if (indicator == \"window\") {\n",
       "                    result = window;\n",
       "                } else if (indicator == \"method\") {\n",
       "                    var target_desc = remainder.shift();\n",
       "                    var target = that.execute_command(target_desc);\n",
       "                    var name = remainder.shift();\n",
       "                    var args = remainder.map(that.execute_command, that);\n",
       "                    var method = target[name];\n",
       "                    if (method) {\n",
       "                        result = method.apply(target, args);\n",
       "                    } else {\n",
       "                        result = \"In \" + target + \" no such method \" + name;\n",
       "                    }\n",
       "                } else if (indicator == \"function\") {\n",
       "                    var function_desc = remainder.shift();\n",
       "                    var function_value = that.execute_command(function_desc);\n",
       "                    var args = remainder.map(that.execute_command, that);\n",
       "                    // Use \"that\" as the \"this\" value for function values?\n",
       "                    result = function_value.apply(that, args);\n",
       "                } else if (indicator == \"id\") {\n",
       "                    result = remainder[0];\n",
       "                } else if (indicator == \"list\") {\n",
       "                    result = remainder.map(that.execute_command, that);\n",
       "                } else if (indicator == \"dict\") {\n",
       "                    result = {}\n",
       "                    var desc = remainder[0];\n",
       "                    for (var key in desc) {\n",
       "                        var key_desc = desc[key];\n",
       "                        var val = that.execute_command(key_desc);\n",
       "                        result[key] = val;\n",
       "                    }\n",
       "                } else if (indicator == \"callback\") {\n",
       "                    var identifier = remainder.shift();\n",
       "                    var data = remainder.shift();\n",
       "                    var level = remainder.shift();\n",
       "                    // sanity check\n",
       "                    level = that.check_level(level);\n",
       "                    result = that.callback_factory(identifier, data, level);\n",
       "                } else if (indicator == \"get\") {\n",
       "                    var target_desc = remainder.shift();\n",
       "                    var target = that.execute_command(target_desc);\n",
       "                    var name = remainder.shift();\n",
       "                    try {\n",
       "                        result = target[name];\n",
       "                    } catch(err) {\n",
       "                        result = \"failed to get \"+name+\" from \"+target+\" :: \"+err;\n",
       "                    }\n",
       "                } else if (indicator == \"set\") {\n",
       "                    var target_desc = remainder.shift();\n",
       "                    var target = that.execute_command(target_desc);\n",
       "                    var name = remainder.shift();\n",
       "                    var value_desc = remainder.shift()\n",
       "                    var value = that.execute_command(value_desc);\n",
       "                    target[name] = value;\n",
       "                    result = target;\n",
       "                } else if (indicator == \"null\") {\n",
       "                    target_desc = remainder.shift();\n",
       "                    that.execute_command(target_desc);\n",
       "                    result = null;\n",
       "                } else {\n",
       "                    result = \"Unknown indicator \" + indicator;\n",
       "                }\n",
       "            }\n",
       "            return result;\n",
       "        },\n",
       "\n",
       "        check_level: function(level) {\n",
       "            if ((typeof level) != \"number\" || (level < 0)) {\n",
       "                level = 0;\n",
       "            } else if (level > 5) {\n",
       "                level = 5;\n",
       "            }\n",
       "            return level;\n",
       "        },\n",
       "\n",
       "        callback_factory: function(identifier, data, level) {\n",
       "            var that = this;\n",
       "            // Counter makes sure change is noticed even if other arguments don't change.\n",
       "            var counter = 0;\n",
       "            var handler = function () {\n",
       "                counter += 1;\n",
       "                var payload = that.json_safe([identifier, data, arguments, counter], level + 1);\n",
       "                that.model.set(\"callback_results\", payload);\n",
       "                that.touch();\n",
       "            };\n",
       "            return handler;\n",
       "        },\n",
       "\n",
       "        json_safe: function(val, depth) {\n",
       "            // maybe expand later as need arises\n",
       "            var that = this;\n",
       "            var ty = (typeof val);\n",
       "            if ((ty == \"number\") || (ty == \"string\") || (ty == \"boolean\")) {\n",
       "                return val;\n",
       "            }\n",
       "            if (!val) {\n",
       "                // translate all other falsies to None\n",
       "                return null;\n",
       "            }\n",
       "            if (((typeof depth) == \"number\") && (depth > 0)) {\n",
       "                if ($.isArray(val)) {\n",
       "                    var result = [];\n",
       "                    _.each(val, function(elt, i) {\n",
       "                        var r = that.json_safe(elt, depth-1);\n",
       "                        if (r != null) {\n",
       "                            result[i] = r;\n",
       "                        }\n",
       "                    });\n",
       "                    return result;\n",
       "                } else {\n",
       "                    var result = {};\n",
       "                    for (var key in val) {\n",
       "                        var jv = that.json_safe(val[key], depth-1);\n",
       "                        if (jv != null) {\n",
       "                            result[key] = jv;\n",
       "                        }\n",
       "                    }\n",
       "                    return result;\n",
       "                }\n",
       "            }\n",
       "            return null;\n",
       "        }\n",
       "\n",
       "    });\n",
       "\n",
       "    //manager.WidgetManager.register_widget_view('JSProxyView', JSProxyView);\n",
       "    return {\n",
       "        JSProxyView: JSProxyView\n",
       "    }\n",
       "});\n"
      ],
      "text/plain": [
       "<IPython.core.display.Javascript object>"
      ]
     },
     "metadata": {},
     "output_type": "display_data"
    }
   ],
   "source": [
    "# First import needed modules and javascript support\n",
    "# allow local import without install\n",
    "import sys\n",
    "if \"..\" not in sys.path:\n",
    "    sys.path.append(\"..\")\n",
    "\n",
    "from jp_gene_viz import js_proxy\n",
    "# this loads the proxy widget javascript \"view\" implementation\n",
    "js_proxy.load_javascript_support()\n",
    "from IPython.display import display\n",
    "import ipywidgets as widgets"
   ]
  },
  {
   "cell_type": "code",
   "execution_count": 14,
   "metadata": {
    "collapsed": true
   },
   "outputs": [],
   "source": [
    "class ToDoApp:\n",
    "    \n",
    "    \"\"\"\n",
    "    Framework for an IPython notebook todo list which allows\n",
    "    additions and deletions to a sorted list of things to do.\n",
    "    \"\"\"\n",
    "    \n",
    "    def __init__(self):\n",
    "        \"build the widgets and assemble them into a display.\"\n",
    "        self.description_to_time = {}\n",
    "        hd = self.hour_dropdown = widgets.Dropdown(\n",
    "            options=map(str, range(24)), width=\"20px\")\n",
    "        hd.layout.width = \"70px\"\n",
    "        md = self.minute_dropdown = widgets.Dropdown(\n",
    "            options=map(str, range(0, 60, 10)), width=\"20px\")\n",
    "        md.layout.width = \"70px\"\n",
    "        dp = self.date_picker = self.make_date_picker()\n",
    "        desc = self.description_text = widgets.Text()\n",
    "        dialog = self.dialog = self.make_modal_dialog()\n",
    "        b = self.add_button = widgets.Button(description=\"add\")\n",
    "        b.on_click(self.add_click)\n",
    "        td = self.todo_list_area = self.make_todo_list_area()\n",
    "        vih = self.vertical_input(\"hour\", hd)\n",
    "        vim = self.vertical_input(\"minute\", md)\n",
    "        vid = self.vertical_input(\"date\", dp)\n",
    "        videsc = self.vertical_input(\"description\", desc)\n",
    "        top = widgets.HBox(children=[vih, vim, vid, videsc, b])\n",
    "        self.assembly = widgets.VBox(children=[top, td, dialog])\n",
    "        \n",
    "    def add_click(self, b):\n",
    "        \"add a todo entry in response to a click on the 'add' button.\"\n",
    "        hour = int(self.hour_dropdown.value)\n",
    "        minute = int(self.minute_dropdown.value)\n",
    "        date = self.get_date()\n",
    "        try:\n",
    "            [dd, mm, yy] = map(int, date.split(\"/\"))\n",
    "        except Exception:\n",
    "            return self.warning(\"expect date format dd/mm/yyyy\")\n",
    "        description = self.description_text.value.strip()\n",
    "        if not description:\n",
    "            return self.warning(\"description must not be empty\")\n",
    "        timestamp = (yy, mm, dd, hour, minute)\n",
    "        self.description_to_time[description] = timestamp\n",
    "        self.format_todo_list()\n",
    "        \n",
    "    def format_todo_list(self):\n",
    "        \"Format the current list of todo items in order by timestamp.\"\n",
    "        d2t = self.description_to_time\n",
    "        list_area = self.todo_list_area\n",
    "        element = list_area.element()\n",
    "        jQuery = list_area.window().jQuery\n",
    "        list_area(element.empty())\n",
    "        if not d2t:\n",
    "            list_area(element.html(\"No todo entries remain.\"))\n",
    "        else:\n",
    "            L = sorted((d2t[d], d) for d in d2t)\n",
    "            for (t, description) in L:\n",
    "                (yy, mm, dd, hour, minute) = t\n",
    "                desc_text = \"<span>%s:%s %s/%s/%s %s &nbsp;</span>\" % (hour, minute, dd, mm, yy, description)\n",
    "                delete_callback = list_area.callback(self.delete_todo, data=description)\n",
    "                button = jQuery(\"<button>delete</button>\").click(delete_callback)\n",
    "                div = jQuery(\"<div/>\").append(desc_text).append(button)\n",
    "                list_area(element.append(div))\n",
    "        list_area.flush()\n",
    "        \n",
    "    def delete_todo(self, description, js_arguments):\n",
    "        \"handle a 'delete' callback: delete the item with the matching descriptoin and re-format.\"\n",
    "        del self.description_to_time[description]\n",
    "        self.format_todo_list()\n",
    "        \n",
    "    def vertical_input(self, label, widget):\n",
    "        \"label and input widget with label above and widget below.\"\n",
    "        h = widgets.HTML(label)\n",
    "        return widgets.VBox(children=[h, widget])\n",
    "        \n",
    "    def show(self):\n",
    "        \"Display the todo list mini-application.\"\n",
    "        display(self.assembly)\n",
    "        \n",
    "    def make_todo_list_area(self):\n",
    "        \"Make a js_proxy widget to contain the todo list.\"\n",
    "        list_area = js_proxy.ProxyWidget()\n",
    "        element = list_area.element()\n",
    "        list_area(element.html(\"No todos yet.\"))\n",
    "        list_area.flush()\n",
    "        return list_area\n",
    "        \n",
    "    def make_date_picker(self):\n",
    "        \"Make a js_proxy widget containing a date picker.\"\n",
    "        picker = js_proxy.ProxyWidget()\n",
    "        element = picker.element()\n",
    "        # use jQuery to a datepicker to the picker widget\n",
    "        # which sits on top of the notebook, in the right place.\n",
    "        jQuery = picker.window().jQuery\n",
    "        datepicker_input = (\n",
    "            jQuery('<input type=\"text\" size=20/>').\n",
    "            datepicker().\n",
    "            css(\"position\", \"relative\").\n",
    "            css(\"z-index\", \"1000\")\n",
    "        )\n",
    "        picker(element.append(datepicker_input))\n",
    "        picker.flush()\n",
    "        return picker\n",
    "    \n",
    "    def get_date(self):\n",
    "        \"Extract the date string from the date picker widget.\"\n",
    "        picker = self.date_picker\n",
    "        element = picker.element()\n",
    "        return picker.evaluate(element.children(\":first\").val())\n",
    "    \n",
    "    def make_modal_dialog(self):\n",
    "        \"Make a modal dialog as a js_proxy widget.\"\n",
    "        dialog = js_proxy.ProxyWidget()\n",
    "        element = dialog.element()\n",
    "        dialog(element.dialog({\"modal\": True}).html(\"No message yet.\").dialog(\"close\"))\n",
    "        dialog.flush()\n",
    "        return dialog\n",
    "    \n",
    "    def warning(self, message):\n",
    "        \"Warn the user of an error using the modal dialog.\"\n",
    "        dialog = self.dialog\n",
    "        element = dialog.element()\n",
    "        dialog(element.html(message).dialog(\"open\"))\n",
    "        dialog.flush()"
   ]
  },
  {
   "cell_type": "code",
   "execution_count": 15,
   "metadata": {
    "collapsed": false
   },
   "outputs": [],
   "source": [
    "# Create the application object.\n",
    "app = ToDoApp()"
   ]
  },
  {
   "cell_type": "code",
   "execution_count": 16,
   "metadata": {
    "collapsed": false
   },
   "outputs": [],
   "source": [
    "# Display the application interface.\n",
    "app.show()"
   ]
  },
  {
   "cell_type": "code",
   "execution_count": 17,
   "metadata": {
    "collapsed": true
   },
   "outputs": [],
   "source": [
    "# Explore the application state\n",
    "from jp_gene_viz.examine import examine\n",
    "examine(app)"
   ]
  },
  {
   "cell_type": "code",
   "execution_count": null,
   "metadata": {
    "collapsed": true
   },
   "outputs": [],
   "source": []
  }
 ],
 "metadata": {
  "kernelspec": {
   "display_name": "Python 2",
   "language": "python",
   "name": "python2"
  },
  "language_info": {
   "codemirror_mode": {
    "name": "ipython",
    "version": 2
   },
   "file_extension": ".py",
   "mimetype": "text/x-python",
   "name": "python",
   "nbconvert_exporter": "python",
   "pygments_lexer": "ipython2",
   "version": "2.7.10"
  },
  "widgets": {
   "state": {
    "019d74369a974d0896f9563ffb03d385": {
     "views": []
    },
    "02c5db2a80244609b6a4e720c3ace00e": {
     "views": []
    },
    "03399c68248643e9ba2f17254c68be71": {
     "views": []
    },
    "03418d8fcc27447981ec5a2f64ef270e": {
     "views": []
    },
    "035c2efdb21841fdbe69f620cf5cf2c9": {
     "views": []
    },
    "075c986693064d44ad8cdb02b6e0d137": {
     "views": []
    },
    "0974a792a71b463ca19e8003cbb14ef0": {
     "views": []
    },
    "0b28c431d96e4538ba9b74d65bc64905": {
     "views": []
    },
    "0c0e0d3883fb41278fb32e96c6c18d6d": {
     "views": []
    },
    "0c1a9c17b2da4bcb8bc2cd8279e4bf9d": {
     "views": []
    },
    "0e23c7519f4a44a3b331b4a29e47549c": {
     "views": []
    },
    "0e5b5ea18ec64301af51703ec7a9b357": {
     "views": [
      {
       "cell_index": 5
      }
     ]
    },
    "0eb6c46a64364777beb312bbdbe75ff1": {
     "views": []
    },
    "0fbd0ca10642425687ef43130a05a351": {
     "views": []
    },
    "100f234b1afe458297fe173b9a0d9114": {
     "views": []
    },
    "101e9f5adc924be19e983c2316c29a8c": {
     "views": []
    },
    "11143022a1914c4cbc5b42e6b9e35cfb": {
     "views": []
    },
    "1199473cb2374fefacea5f93eb7ca359": {
     "views": []
    },
    "127ca2501d65479f9d29fc274829a7f1": {
     "views": []
    },
    "12b5e09b423445e18baaf58bce7250aa": {
     "views": []
    },
    "152251ade5e44ade8d20f1749b2b24c2": {
     "views": []
    },
    "17566781b1e242938b02a661ef4344ba": {
     "views": []
    },
    "181815ac563d431ba503a72a8b2ff75a": {
     "views": []
    },
    "185ba02bc2d34638ab295efbeeb67d20": {
     "views": []
    },
    "18bb9ea9198b4507b4427c97b6ce6706": {
     "views": []
    },
    "19167cde10aa45e59469f54dd2e30483": {
     "views": []
    },
    "19b838873abd4ee6983c6b06bef1abc9": {
     "views": []
    },
    "19c60c59a7c54c1e8b7b36ef8bffe42e": {
     "views": []
    },
    "1a998343d2a8426e816b049fcd478963": {
     "views": []
    },
    "1af1423bf813495b954bc1a4bee875f1": {
     "views": []
    },
    "1af4a161beb348b0a9f4c1f378b5b801": {
     "views": []
    },
    "1d8023961fbc46ca91af13e1ca578690": {
     "views": []
    },
    "1e42d046eb904ae78b963bb7b3b20727": {
     "views": []
    },
    "2042261f087f4fb1be77026dd30b75ea": {
     "views": []
    },
    "2295077c20f94d829086c6a5d8910847": {
     "views": []
    },
    "22af144b6caa4d92bf08aa264786ec8c": {
     "views": []
    },
    "24717cdaec294f89a883709fc7518a42": {
     "views": []
    },
    "247c8b2a461047ee90210df76cc0955a": {
     "views": []
    },
    "25cbf18de6574b54a2e2646aade77dd3": {
     "views": []
    },
    "26e4b32e4a36451bbaa38e0b636c8ded": {
     "views": []
    },
    "272008779c3847daac38c5bb3eb969ee": {
     "views": []
    },
    "272c908fe36743d18735a86f0ffa3330": {
     "views": []
    },
    "279541515576426aa5fbe9fe4ecebca3": {
     "views": []
    },
    "2cccf54cf1cd4fc18c01cffbe1f79e41": {
     "views": []
    },
    "2e923996d6b34abab61d7fcbf7176bfe": {
     "views": []
    },
    "3127e0db4f7e4035bd6acf69e4535bb7": {
     "views": []
    },
    "326124b05e804d83bdf139bcf15899f1": {
     "views": []
    },
    "32edf253b97a40b5acf775e299aed873": {
     "views": []
    },
    "3380c2f19c044b3eb1cef729fa75faf6": {
     "views": []
    },
    "33b36597b8364da4a779395da4703145": {
     "views": []
    },
    "35eab87c50114a9f9d15a3245d359019": {
     "views": []
    },
    "37c6ee3e5c5b4a0e84994b279aa19578": {
     "views": []
    },
    "3a6ae93eadd44c1f85dae79bea46fdf0": {
     "views": []
    },
    "3afa09f658b745b7820af7ef4a32cdd7": {
     "views": []
    },
    "3b96fca75d254306a209c9e41a8ff63b": {
     "views": []
    },
    "3ba76f128a674b3a9d8d74e7c237063c": {
     "views": []
    },
    "3ca68875db444379a54109e1f955f27c": {
     "views": []
    },
    "3d3a5b565d4b4c00b074cf391ca818c5": {
     "views": []
    },
    "3dc973e27e484b709f12aee069d0939c": {
     "views": []
    },
    "3f3ddccffc8e446ab51a8da0d44c5894": {
     "views": []
    },
    "434c05ee02204d729d655ba77aa32955": {
     "views": []
    },
    "476bdd1875e74044a1b0eb2ba124233a": {
     "views": []
    },
    "4823a3af785b4f56a00c80ec451bf9e4": {
     "views": []
    },
    "48422bd527ba4a7e9a2cd910dd6eccd2": {
     "views": []
    },
    "4addc9fd2ed34d7eaeb995e55967dcf4": {
     "views": []
    },
    "4b2fddd9497d4b9586ba177e649594a2": {
     "views": []
    },
    "4bde472f758a43b788e5be29acb5c747": {
     "views": []
    },
    "4d666d97eca342dc8b0e5a505dab7fe0": {
     "views": []
    },
    "501445ee59e24dc2b9a8b1e93282ca8e": {
     "views": []
    },
    "54cea3bab6404126bb3100dcd30f96a3": {
     "views": []
    },
    "54eb2a5e39a9448f97737f98a345bdd8": {
     "views": []
    },
    "554ed09a868e4d8e846eb91c6b867ac9": {
     "views": []
    },
    "5631c96adeb041d6a2110ccf45250cff": {
     "views": []
    },
    "5c4e4fc0694b47c98c97b2003440cdc4": {
     "views": []
    },
    "5da104555b7245328eb7d85630dc356e": {
     "views": []
    },
    "5fb3696044e2490494d64c0f19b04938": {
     "views": []
    },
    "65533bb764d142248bfcc9e9f468d10d": {
     "views": []
    },
    "68d3d669d80d40d6b1454e2902bed949": {
     "views": []
    },
    "68ebed4a79344f86a117a0f31f7f0ffb": {
     "views": []
    },
    "69865abd0412480183129a98e6a6b516": {
     "views": []
    },
    "6c0abe76b7f34b2b83039efd81fbec13": {
     "views": [
      {
       "cell_index": 4
      }
     ]
    },
    "6ebb31e4adcc45c98a8ba634fa0f2b46": {
     "views": []
    },
    "6f00d8e83818431e9d620f074d3b8f52": {
     "views": []
    },
    "7425d031ac864fcd96e65ae66ec04fb5": {
     "views": []
    },
    "76da50a83c094d9a9971addccba78699": {
     "views": []
    },
    "7795539f5df04e5697c58fc8c4fbfe2d": {
     "views": []
    },
    "780d676fc2234b21a71690965518d5b2": {
     "views": []
    },
    "7855010bc17a405bac623e36a4b8699f": {
     "views": []
    },
    "7a28a73a767e42b7b30486a8912a1cc4": {
     "views": []
    },
    "7c2b683d98bd443f8a03bb1d409a5ff6": {
     "views": []
    },
    "7c50ecce18f74a768686da1dc6453a7b": {
     "views": []
    },
    "825cfade18a44178b7e8d1af104504cd": {
     "views": []
    },
    "85a3102942564550a5059bb552cd8638": {
     "views": []
    },
    "85a9c24c37294b209456e6e0c43623e6": {
     "views": []
    },
    "85ee52e9fa024c319262c110513d52e8": {
     "views": []
    },
    "876afabb05ea492a90192ba668876a08": {
     "views": []
    },
    "88c27ec6c2954cfaba918181ac5a9782": {
     "views": []
    },
    "8b4fbca473a54694a0c92d218a6a5c71": {
     "views": []
    },
    "8b97b63d8d6446f19a001214fd96256c": {
     "views": []
    },
    "8ca9f29c0b044a7987568a2950dc6476": {
     "views": []
    },
    "90840292a4cb4b9ba113d6730f60494a": {
     "views": []
    },
    "91b7ae7178e74396ba92b04d178db87a": {
     "views": []
    },
    "95756a5fe1364d63ac3ac5d416be68b9": {
     "views": []
    },
    "95f0636f22784cada5c36b4ce8a23993": {
     "views": []
    },
    "98e3be046ca743578b8b137c7b6fc0cc": {
     "views": []
    },
    "9be7f243456b4fc2a4280607ae50aa1d": {
     "views": []
    },
    "9df96e5f0efc4a45bc6e1f4e6e09547d": {
     "views": []
    },
    "9e2064bbc4fd416291dff84a05d3f0c2": {
     "views": []
    },
    "9eb27c6a8b45440c808f9277778ab38e": {
     "views": []
    },
    "a09f0751f5734d9ebc304d9309b82643": {
     "views": []
    },
    "a29a770cfc564971ad3951234a8ceee5": {
     "views": []
    },
    "a3a0b177046047f4a248bb36eedf7bc4": {
     "views": []
    },
    "a3af9a22b0744c19b79fcba73910af90": {
     "views": []
    },
    "a4eee41e90a34ba2a668c9eb72969d1b": {
     "views": []
    },
    "a71f23a096eb4461a6224fd512dc744f": {
     "views": []
    },
    "a8efb9d02d7049ccadb9af44017e2913": {
     "views": []
    },
    "aa6601f4b198421590de0ffec62a7154": {
     "views": []
    },
    "ab1f231c04474814ab7ab3b0f4293e61": {
     "views": []
    },
    "aba9869e42984192a24912f1d2bdac73": {
     "views": []
    },
    "ac490c99a3794759b65895898a010879": {
     "views": []
    },
    "acd6e13c694d449fbcf05bd607a5f41a": {
     "views": []
    },
    "af58084a1a694b9a8585dade07324d41": {
     "views": []
    },
    "b04151a492114613ab7007ccc239383c": {
     "views": []
    },
    "b1b43451aa5e455aa3d85e657b07554b": {
     "views": []
    },
    "b36e2bb8166f472eab5a9bdde9b903c1": {
     "views": []
    },
    "b57b7e0a053544a8ae06f03573f804b5": {
     "views": []
    },
    "b7a048e6933e4b95946b6cde9ba494c0": {
     "views": []
    },
    "b865338ea9084a919c325a78088ff0be": {
     "views": []
    },
    "b8f008f58fb24ec9b1ac6282ebcf64ec": {
     "views": []
    },
    "ba51ef3681ef4a1ca79c8d9eec9b050e": {
     "views": []
    },
    "bba8d656a6024a9385a1849a4a6d3c21": {
     "views": []
    },
    "bbce7c540daa41178d9d7b6118a37db3": {
     "views": []
    },
    "bbdd1f20323b446aad40b6b8d7a5db85": {
     "views": []
    },
    "c12507eb6b6e48599df31765c4c23c91": {
     "views": []
    },
    "c45d15667ea24a1387e072eccdd1e878": {
     "views": []
    },
    "c577347f255c47ca837d33df76ea412a": {
     "views": []
    },
    "c7f6e71c4ad74848abe1f2ef4dbd8e3e": {
     "views": []
    },
    "c9a9b9a860bb4362b5f48ad296f92b30": {
     "views": []
    },
    "c9d93ff51d16405b851658433d544990": {
     "views": []
    },
    "ca1ff8c18d2f4d4795ffa303c638336d": {
     "views": []
    },
    "cda767438c244e94ad3804124f68812c": {
     "views": []
    },
    "d0704d4677c74f5d92da9e397ff3aabf": {
     "views": []
    },
    "d099b80be16d489b96c44c933f1899fd": {
     "views": []
    },
    "d2067fc44166448bb4c212a76ec7c7af": {
     "views": []
    },
    "d4002e7fef8343298b8b7ad9b0ab6ef1": {
     "views": []
    },
    "d4036d236e52493292dafb1808db6f7f": {
     "views": []
    },
    "d5aa7459992a4c4e94361941b338196a": {
     "views": []
    },
    "d62e3daaa7964ac1bc1f827b4c09b6f7": {
     "views": []
    },
    "d6be7c7398c54d26b1f6fe7f9c9f70f7": {
     "views": []
    },
    "dc397b005be1411786701f8543c119b0": {
     "views": []
    },
    "dc9f5764215949e88fbe70e918e9a9ef": {
     "views": []
    },
    "dcd2362705ea4beba077cbd24ac4e232": {
     "views": []
    },
    "df6ba392d2634312977302a993b7cddc": {
     "views": []
    },
    "e0af5547bcb048bf8a6432bffb1ec82e": {
     "views": []
    },
    "e314c25f9942436d9cbee3b4a892e516": {
     "views": []
    },
    "e36679dd9a7b427db1e16c3bbf47756c": {
     "views": []
    },
    "e52fbeee237c4429beab9665e83aa1c6": {
     "views": []
    },
    "e54d6cd9d2384a7d82c0716b4280066b": {
     "views": []
    },
    "e785a5272a8b402981f23d653af1f9cd": {
     "views": []
    },
    "e9517df8bf6b454dac46cef0e8486422": {
     "views": []
    },
    "ee9d3a22074747829dfb35df39358ee6": {
     "views": []
    },
    "f0ad7392dcd7420982e29b4f4fe939d5": {
     "views": []
    },
    "f0c68df7d9f9418e8d20f71474aa4b67": {
     "views": []
    },
    "f137d2bd9a4a49a0ab66bf628f6c2461": {
     "views": []
    },
    "f1ea1aec335644ed8ccd423b15a9b45e": {
     "views": []
    },
    "f21bbb679a324379b2ce6525e2c1f9bf": {
     "views": []
    },
    "f5020233f10e48cc8886eaa498f71d43": {
     "views": []
    },
    "f630bdb41afa438a9692e0ae3d4e0fd9": {
     "views": []
    },
    "f6de867fd4e541a091cfd176d42e2896": {
     "views": []
    },
    "f830e187537140309b08bfd8ef206186": {
     "views": []
    },
    "f914bbde463940d1ac169afbf9e6a91b": {
     "views": []
    },
    "fa6320ad3f4b435d8ce19036d9f9eb2d": {
     "views": []
    }
   },
   "version": "1.1.1"
  }
 },
 "nbformat": 4,
 "nbformat_minor": 0
}
