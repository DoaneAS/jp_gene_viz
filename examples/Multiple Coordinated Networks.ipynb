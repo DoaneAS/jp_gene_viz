{
 "cells": [
  {
   "cell_type": "markdown",
   "metadata": {},
   "source": [
    "# Multiple coordinated network displays (with expression heat maps)\n",
    "\n",
    "This notebook demonstrates the usage for the `multiple_network.MultipleNetworks`\n",
    "widget which displays a rectangular arrangment of any number of network widgets\n",
    "(`dNetwork.NetworkDisplay` instances) and network/heatmap widgets\n",
    "(`LExpression.LinkedExpressionNetwork` instances) in a coordinated manner.\n",
    "\n",
    "To create a multi-network display\n",
    "\n",
    "- Create the underlying widgets (without displaying them).\n",
    "- Optionally configure each widget individually.\n",
    "- Create a `multiple_network.MultipleNetworks` instance wrapping\n",
    "the underlying widgets in a specified rectangular arrangement.\n",
    "- Show the `multiple_network.MultipleNetworks` instance.\n",
    "\n",
    "The following interaction constructs a `multiple_network.MultipleNetworks`\n",
    "instance as outlined above.\n",
    "\n",
    "First we load the required modules and initialize the javascript support for the widgets."
   ]
  },
  {
   "cell_type": "code",
   "execution_count": null,
   "metadata": {
    "collapsed": true
   },
   "outputs": [],
   "source": [
    "# Uncomment to run without install (in binder, for example)\n",
    "import sys\n",
    "if \"..\" not in sys.path:\n",
    "    sys.path.append(\"..\")"
   ]
  },
  {
   "cell_type": "code",
   "execution_count": null,
   "metadata": {
    "collapsed": false
   },
   "outputs": [],
   "source": [
    "from jp_gene_viz import dNetwork\n",
    "dNetwork.load_javascript_support()"
   ]
  },
  {
   "cell_type": "markdown",
   "metadata": {},
   "source": [
    "## Create and configure underlying widgets\n",
    "\n",
    "Below we create three `dNetwork.display_network` widgets `N1`, `N2`, and `N3`.\n",
    "We name the widgets using variables so we can configure them later after they\n",
    "have been displayed."
   ]
  },
  {
   "cell_type": "code",
   "execution_count": null,
   "metadata": {
    "collapsed": false
   },
   "outputs": [],
   "source": [
    "N1 = dNetwork.display_network(\"network.tsv\", show=False)\n",
    "N2 = dNetwork.display_network(\"network2.tsv\", show=False)\n",
    "N3 = dNetwork.display_network(\"network.tsv\", show=False)"
   ]
  },
  {
   "cell_type": "code",
   "execution_count": null,
   "metadata": {
    "collapsed": true
   },
   "outputs": [],
   "source": [
    "from jp_gene_viz import multiple_network"
   ]
  },
  {
   "cell_type": "markdown",
   "metadata": {},
   "source": [
    "# Create a Multiple Networks widget instance\n",
    "\n",
    "The following creates a `multiple_network.MultipleNetworks` widget to contain\n",
    "the three underlying widgets.  The list of lists parameter to the widget constructor\n",
    "specifies the widgets to be included and also their rectangular layout in rows.\n",
    "\n",
    "Here\n",
    "\n",
    "```\n",
    "        [[N1, N2], \n",
    "         [N3]]\n",
    "```\n",
    "specifies that `N1` and `N2` should be displayed in the first row and `N3` in the\n",
    "last row."
   ]
  },
  {
   "cell_type": "code",
   "execution_count": null,
   "metadata": {
    "collapsed": true
   },
   "outputs": [],
   "source": [
    "M = multiple_network.MultipleNetworks(\n",
    "        [[N1, N2], \n",
    "         [N3]])"
   ]
  },
  {
   "cell_type": "markdown",
   "metadata": {
    "collapsed": false
   },
   "source": [
    "## Show the multiple network display and then configure the underlying networks\n",
    "\n",
    "The `show` method embeds the multiple network widget into the notebook.\n",
    "We defer customization interactions with the network until after the widget\n",
    "has been embedded to guarantee that the javascript components for the widget\n",
    "have been fully initialized in case the javascript components are modified by\n",
    "the customization."
   ]
  },
  {
   "cell_type": "code",
   "execution_count": null,
   "metadata": {
    "collapsed": false
   },
   "outputs": [],
   "source": [
    "M.show()\n",
    "\n",
    "# Configure the widgets after they have been fully displayed\n",
    "N1.title_html.value = \"First network\"\n",
    "N2.title_html.value = \"Second network\"\n",
    "N2.threshhold_slider.value = 0.4\n",
    "N2.apply_click(None)\n",
    "N3.title_html.value = \"just a copy of first network\""
   ]
  },
  {
   "cell_type": "markdown",
   "metadata": {},
   "source": [
    "## Coordination controls\n",
    "\n",
    "The `multiple_network.MultipleNetworks` widget provides a slider at the top\n",
    "which allows the user to adjust the widths of all network displays.\n",
    "\n",
    "The networks displayed in the array are initially shown in \"minimized\" form,\n",
    "with controls hidden.  The controls can revealed by checking the \"maximize\"\n",
    "checkbox labelled with <b>⋯</b> as described below:\n",
    "\n",
    "Each individual network component is adorned with some additional controls:\n",
    "\n",
    "- A \"difference others\" button labelled with <b>⊖</b>.  The action associated\n",
    "with this button removes from all <em>other</em> networks any edge currently\n",
    "displayed in the network owning the button.  (The network display owning the button\n",
    "is left unchanged).\n",
    "- An \"intersect others\" button labelled with <b>∧</b>.  The action associated\n",
    "with this button removes from all <em>other</em> networks any edge not currently\n",
    "displayed in the network owning the button.\n",
    "- A \"sync others\" button labelled with <b>⊨</b>.  The action associated with\n",
    "this button restricts the nodes of all other displayed networks to the nodes\n",
    "currently displayed by the network owning the button.  The layout for the\n",
    "network owning the button is also applied to all other networks.\n",
    "- A \"size\" slider which controls the height and width of the network\n",
    "display.\n",
    "- A \"maximize\" checkbox labelled with <b>⋯</b> which will display hidden\n",
    "controls for the network owning the checkbox when checked.\n",
    "\n",
    "## Multiple networks with heatmaps\n",
    "\n",
    "The `multiple_network.MultipleNetworks` widget accepts\n",
    "`LExpression.LinkedExpressionNetwork` instances \n",
    "which contain a network associated with an gene expression heat map as underlying\n",
    "widgets to display in the rectangular array.\n",
    "\n",
    "The following interaction creates a multi-network display\n",
    "with a network that is associated with a heat map on the bottom.\n",
    "\n",
    "<b>The heat map is hidden by default initially.  Check the \"maximize\"\n",
    "checkbox labelled <b>⋯</b> to show the heatmap for the\n",
    "`LExpression.LinkedExpressionNetwork` along with other controls."
   ]
  },
  {
   "cell_type": "code",
   "execution_count": null,
   "metadata": {
    "collapsed": true
   },
   "outputs": [],
   "source": [
    "from jp_gene_viz import LExpression"
   ]
  },
  {
   "cell_type": "code",
   "execution_count": null,
   "metadata": {
    "collapsed": false
   },
   "outputs": [],
   "source": [
    "# Create a linked network and heatmap.  Load the data.\n",
    "L = LExpression.LinkedExpressionNetwork()\n",
    "L.load_network(\"network.tsv\")\n",
    "L.load_heatmap(\"expr.tsv\")"
   ]
  },
  {
   "cell_type": "code",
   "execution_count": null,
   "metadata": {
    "collapsed": false
   },
   "outputs": [],
   "source": [
    "# Create a non-linked network.\n",
    "N = dNetwork.display_network(\"network2.tsv\", show=False)"
   ]
  },
  {
   "cell_type": "code",
   "execution_count": null,
   "metadata": {
    "collapsed": false
   },
   "outputs": [],
   "source": [
    "# Create a combined widget, positioning the linked network below.\n",
    "M2 = multiple_network.MultipleNetworks(\n",
    "        [[N], \n",
    "         [L]])\n",
    "M2.svg_width = 500\n",
    "\n",
    "# Display the combined widget.\n",
    "M2.show()\n",
    "\n",
    "# Customize the component widgets after displaying them.\n",
    "L.network.title_html.value = \"Linked network (click checkbox to show heatmap)\"\n",
    "L.network.threshhold_slider.value = 6.7\n",
    "L.network.apply_click(None)\n",
    "L.load_heatmap(\"expr.tsv\")\n",
    "\n",
    "N.title_html.value = \"Non-linked network\"\n",
    "N.threshhold_slider.value = 0.339\n",
    "N.apply_click(None)"
   ]
  },
  {
   "cell_type": "code",
   "execution_count": null,
   "metadata": {
    "collapsed": true
   },
   "outputs": [],
   "source": []
  }
 ],
 "metadata": {
  "kernelspec": {
   "display_name": "Python 2",
   "language": "python",
   "name": "python2"
  },
  "language_info": {
   "codemirror_mode": {
    "name": "ipython",
    "version": 2
   },
   "file_extension": ".py",
   "mimetype": "text/x-python",
   "name": "python",
   "nbconvert_exporter": "python",
   "pygments_lexer": "ipython2",
   "version": "2.7.10"
  }
 },
 "nbformat": 4,
 "nbformat_minor": 0
}
