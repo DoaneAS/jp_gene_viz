{
 "cells": [
  {
   "cell_type": "markdown",
   "metadata": {},
   "source": [
    "# Binding motif widget usage example"
   ]
  },
  {
   "cell_type": "code",
   "execution_count": 1,
   "metadata": {
    "collapsed": true
   },
   "outputs": [],
   "source": [
    "# allow import without install\n",
    "import sys\n",
    "if \"..\" not in sys.path:\n",
    "    sys.path.append(\"..\")\n",
    "\n",
    "from IPython.display import display\n",
    "from jp_gene_viz import motif_data"
   ]
  },
  {
   "cell_type": "markdown",
   "metadata": {},
   "source": [
    "### Read a *.meme file"
   ]
  },
  {
   "cell_type": "code",
   "execution_count": 2,
   "metadata": {
    "collapsed": false
   },
   "outputs": [
    {
     "name": "stderr",
     "output_type": "stream",
     "text": [
      "//anaconda/envs/py3conda/lib/python3.5/site-packages/ipykernel/__main__.py:3: DeprecationWarning: 'U' mode is deprecated\n",
      "  app.launch_new_instance()\n"
     ]
    },
    {
     "data": {
      "text/plain": [
       "<jp_gene_viz.motif_data.MotifCollection at 0x1074223c8>"
      ]
     },
     "execution_count": 2,
     "metadata": {},
     "output_type": "execute_result"
    }
   ],
   "source": [
    "C = motif_data.MotifCollection()\n",
    "# for extra safety \"rU\" reads with universal line ending support\n",
    "C.read_meme_file(open(\"mm9_em.meme\", \"rU\"))"
   ]
  },
  {
   "cell_type": "code",
   "execution_count": 3,
   "metadata": {
    "collapsed": false
   },
   "outputs": [
    {
     "data": {
      "text/plain": [
       "'ACGT'"
      ]
     },
     "execution_count": 3,
     "metadata": {},
     "output_type": "execute_result"
    }
   ],
   "source": [
    "C.letter_order"
   ]
  },
  {
   "cell_type": "code",
   "execution_count": 5,
   "metadata": {
    "collapsed": false
   },
   "outputs": [
    {
     "data": {
      "text/plain": [
       "['BatfIrf4Th17f_1',\n",
       " 'M1741_1.01',\n",
       " 'M2143_1.01',\n",
       " 'M0921_1.01',\n",
       " 'Prrx2',\n",
       " 'Sox9',\n",
       " 'Mafb',\n",
       " 'M0936_1.01',\n",
       " 'M1349_1.01',\n",
       " 'M5856_1.01',\n",
       " 'M0634_1.01',\n",
       " 'Trp73',\n",
       " 'M1709_1.01',\n",
       " 'Hoxa6',\n",
       " 'M0880_1.01',\n",
       " 'Zbtb1',\n",
       " 'M0629_1.01',\n",
       " 'M0959_1.01',\n",
       " 'M1321_1.01',\n",
       " 'Elf4']"
      ]
     },
     "execution_count": 5,
     "metadata": {},
     "output_type": "execute_result"
    }
   ],
   "source": [
    "motif_names = list(C.name_to_motif.keys())\n",
    "motif_names[:20]"
   ]
  },
  {
   "cell_type": "code",
   "execution_count": 6,
   "metadata": {
    "collapsed": true
   },
   "outputs": [],
   "source": [
    "Ebf1 = C[\"Ebf1\"]"
   ]
  },
  {
   "cell_type": "code",
   "execution_count": 7,
   "metadata": {
    "collapsed": false
   },
   "outputs": [
    {
     "data": {
      "application/javascript": [
       "\n",
       "// This is the javascript side to match js_proxy.py.\n",
       "// See js_proxy.py for an explanation of the command transfer\n",
       "// protocol.\n",
       "\n",
       "require([\"widgets/js/widget\", \"widgets/js/manager\", \"underscore\", \"jquery\"\n",
       "], function(widget, manager, _, $) {\n",
       "    //debugger;\n",
       "\n",
       "    var JSProxyView = widget.DOMWidgetView.extend({\n",
       "\n",
       "        render: function() {\n",
       "            var that = this;\n",
       "            that.on(\"displayed\", function() {\n",
       "                that.update();\n",
       "            });\n",
       "            // \"new\" keyword emulation\n",
       "            // http://stackoverflow.com/questions/17342497/dynamically-control-arguments-while-creating-objects-in-javascript\n",
       "            that.$el.New = function(klass, args) {\n",
       "                var obj = Object.create(klass.prototype);\n",
       "                return klass.apply(obj, args) || obj;\n",
       "            }\n",
       "        },\n",
       "\n",
       "        update: function(options) {\n",
       "            var that = this;\n",
       "            var commands = that.model.get(\"commands\");\n",
       "            if (commands.length >= 2) {\n",
       "                var command_counter = commands[0];\n",
       "                var command_list = commands[1];\n",
       "                var level = commands[2];\n",
       "                level = that.check_level(level);\n",
       "                var results = [];\n",
       "                _.each(command_list, function(command,i) {\n",
       "                    var result = that.execute_command(command);\n",
       "                    results[i] = that.json_safe(result, level);\n",
       "                });\n",
       "                that.model.set(\"commands\", []);\n",
       "                that.model.set(\"results\", [command_counter, results])\n",
       "                that.touch();\n",
       "            }\n",
       "        },\n",
       "\n",
       "        execute_command: function(command) {\n",
       "            var that = this;\n",
       "            var result = command;\n",
       "            if ($.isArray(command)) {\n",
       "                var indicator = command[0];\n",
       "                var remainder = command.slice();\n",
       "                remainder.shift();\n",
       "                if (indicator == \"element\") {\n",
       "                    result = that.$el;\n",
       "                } else if (indicator == \"window\") {\n",
       "                    result = window;\n",
       "                } else if (indicator == \"method\") {\n",
       "                    var target_desc = remainder.shift();\n",
       "                    var target = that.execute_command(target_desc);\n",
       "                    var name = remainder.shift();\n",
       "                    var args = remainder.map(that.execute_command, that);\n",
       "                    var method = target[name];\n",
       "                    if (method) {\n",
       "                        result = method.apply(target, args);\n",
       "                    } else {\n",
       "                        result = \"In \" + target + \" no such method \" + name;\n",
       "                    }\n",
       "                } else if (indicator == \"function\") {\n",
       "                    var function_desc = remainder.shift();\n",
       "                    var function_value = that.execute_command(function_desc);\n",
       "                    var args = remainder.map(that.execute_command, that);\n",
       "                    // Use \"that\" as the \"this\" value for function values?\n",
       "                    result = function_value.apply(that, args);\n",
       "                } else if (indicator == \"id\") {\n",
       "                    result = remainder[0];\n",
       "                } else if (indicator == \"list\") {\n",
       "                    result = remainder.map(that.execute_command, that);\n",
       "                } else if (indicator == \"dict\") {\n",
       "                    result = {}\n",
       "                    var desc = remainder[0];\n",
       "                    for (var key in desc) {\n",
       "                        var key_desc = desc[key];\n",
       "                        var val = that.execute_command(key_desc);\n",
       "                        result[key] = val;\n",
       "                    }\n",
       "                } else if (indicator == \"callback\") {\n",
       "                    var identifier = remainder.shift();\n",
       "                    var data = remainder.shift();\n",
       "                    var level = remainder.shift();\n",
       "                    // sanity check\n",
       "                    level = that.check_level(level);\n",
       "                    result = that.callback_factory(identifier, data, level);\n",
       "                } else if (indicator == \"get\") {\n",
       "                    var target_desc = remainder.shift();\n",
       "                    var target = that.execute_command(target_desc);\n",
       "                    var name = remainder.shift();\n",
       "                    result = target[name];\n",
       "                } else if (indicator == \"set\") {\n",
       "                    var target_desc = remainder.shift();\n",
       "                    var target = that.execute_command(target_desc);\n",
       "                    var name = remainder.shift();\n",
       "                    var value_desc = remainder.shift()\n",
       "                    var value = that.execute_command(value_desc);\n",
       "                    target[name] = value;\n",
       "                    result = target;\n",
       "                } else if (indicator == \"null\") {\n",
       "                    target_desc = remainder.shift();\n",
       "                    that.execute_command(target_desc);\n",
       "                    result = null;\n",
       "                } else {\n",
       "                    result = \"Unknown indicator \" + indicator;\n",
       "                }\n",
       "            }\n",
       "            return result;\n",
       "        },\n",
       "\n",
       "        check_level: function(level) {\n",
       "            if ((typeof level) != \"number\" || (level < 0)) {\n",
       "                level = 0;\n",
       "            } else if (level > 5) {\n",
       "                level = 5;\n",
       "            }\n",
       "            return level;\n",
       "        },\n",
       "\n",
       "        callback_factory: function(identifier, data, level) {\n",
       "            var that = this;\n",
       "            var handler = function () {\n",
       "                var payload = that.json_safe([identifier, data, arguments], level + 1);\n",
       "                that.model.set(\"callback_results\", payload);\n",
       "                that.touch();\n",
       "            };\n",
       "            return handler;\n",
       "        },\n",
       "\n",
       "        json_safe: function(val, depth) {\n",
       "            // maybe expand later as need arises\n",
       "            var that = this;\n",
       "            var ty = (typeof val);\n",
       "            if ((ty == \"number\") || (ty == \"string\") || (ty == \"boolean\")) {\n",
       "                return val;\n",
       "            }\n",
       "            if (!val) {\n",
       "                // translate all other falsies to None\n",
       "                return null;\n",
       "            }\n",
       "            if (((typeof depth) == \"number\") && (depth > 0)) {\n",
       "                if ($.isArray(val)) {\n",
       "                    var result = [];\n",
       "                    _.each(val, function(elt, i) {\n",
       "                        var r = that.json_safe(elt, depth-1);\n",
       "                        if (r != null) {\n",
       "                            result[i] = r;\n",
       "                        }\n",
       "                    });\n",
       "                    return result;\n",
       "                } else {\n",
       "                    var result = {};\n",
       "                    for (var key in val) {\n",
       "                        var jv = that.json_safe(val[key], depth-1);\n",
       "                        if (jv != null) {\n",
       "                            result[key] = jv;\n",
       "                        }\n",
       "                    }\n",
       "                    return result;\n",
       "                }\n",
       "            }\n",
       "            return null;\n",
       "        }\n",
       "\n",
       "    });\n",
       "\n",
       "    manager.WidgetManager.register_widget_view('JSProxyView', JSProxyView);\n",
       "});\n"
      ],
      "text/plain": [
       "<IPython.core.display.Javascript object>"
      ]
     },
     "metadata": {},
     "output_type": "display_data"
    },
    {
     "data": {
      "application/javascript": [
       "\n",
       "/*\n",
       "jQuery plugin for sequence motifs.\n",
       "\n",
       "$(canvas).sequence_motif(width, height, columns, options)\n",
       "\n",
       "Columns represent stacks of letters with from bottom to top.\n",
       "\n",
       "Structure follows: https://learn.jquery.com/plugins/basic-plugin-creation/\n",
       "*/\n",
       "\n",
       "(function ($) {\n",
       "    $.fn.sequence_motif = function (width, height, columns, options) {\n",
       "        debugger;\n",
       "        var that = this;\n",
       "        // Get setttings from options or default values.\n",
       "        var settings = $.extend({\n",
       "            \"letters\": {\"A\": \"green\", \"C\": \"blue\", \"T\": \"red\", \"G\": \"orange\"},\n",
       "            \"ylabel\": \"bits\",\n",
       "            \"leftlabel\": \"5'\",\n",
       "            \"rightlabel\": \"3'\",\n",
       "            \"x\": 0,\n",
       "            \"y\": 0,\n",
       "            \"bgcolor\": \"white\",\n",
       "            \"boundary\": \"cornsilk\",\n",
       "            \"border\": 8,\n",
       "            \"labelfont\": \"10px Arial\",\n",
       "            \"letterfont\": \"30px Arial\",\n",
       "            \"fontpixelheight\": 24,\n",
       "            \"yMaximumDefault\": 0,\n",
       "        }, options);\n",
       "        // collect stats on columns\n",
       "        var maxOffset = settings.yMaximumDefault;\n",
       "        var ncolumns = columns.length;\n",
       "        for (var ncolumn = 0; ncolumn < ncolumns; ncolumn++) {\n",
       "            var totalweight = 0.0;\n",
       "            var column = columns[ncolumn];\n",
       "            for (var nletter = 0; nletter < column.length; nletter++ ) {\n",
       "                var info = column[nletter];\n",
       "                var letter = info[0];\n",
       "                var weight = info[1];\n",
       "                totalweight += weight;\n",
       "            }\n",
       "            if (totalweight > maxOffset) {\n",
       "                maxOffset = totalweight;\n",
       "            }\n",
       "        }\n",
       "        var ctx = that[0].getContext(\"2d\");\n",
       "        ctx.save();\n",
       "        // draw the background\n",
       "        ctx.translate(settings.x, settings.y);\n",
       "        ctx.fillStyle = settings.bgcolor;\n",
       "        ctx.strokeStyle = settings.boundary;\n",
       "        ctx.fillRect(0, 0, width, height);\n",
       "        ctx.strokeRect(0, 0, width, height);\n",
       "        // draw the letters\n",
       "        var columnx = settings.border;\n",
       "        var columndelta = (width - settings.border)/ncolumns;\n",
       "        var yheight = height - settings.border;\n",
       "        ctx.font = settings.letterfont;\n",
       "        for (var ncolumn = 0; ncolumn < ncolumns; ncolumn++) {\n",
       "            var totalweight = 0.0;\n",
       "            var column = columns[ncolumn];\n",
       "            var lettery = yheight;\n",
       "            var nletters = column.length;\n",
       "            for (var nletter = 0; nletter < nletters; nletter++ ) {\n",
       "                var info = column[nletter];\n",
       "                var letter = info[0];\n",
       "                var weight = info[1];\n",
       "                totalweight += weight;\n",
       "                ctx.save()\n",
       "                ctx.fillStyle = settings.letters[letter];\n",
       "                ctx.translate(columnx, lettery);\n",
       "                var mt = ctx.measureText(letter);\n",
       "                var scaley = (yheight * weight) / (settings.fontpixelheight * maxOffset);\n",
       "                var letterwidth = mt.width;\n",
       "                var scalex = columndelta / letterwidth;\n",
       "                ctx.scale(scalex, scaley);\n",
       "                ctx.fillText(letter, 0, 0)\n",
       "                ctx.restore()\n",
       "                lettery -= (weight * yheight) / maxOffset;\n",
       "            }\n",
       "            ctx.save();\n",
       "            ctx.fillStyle = \"black\";\n",
       "            ctx.textAlign = \"center\";\n",
       "            ctx.font = settings.labelfont;\n",
       "            ctx.fillText(\"\" + (ncolumn + 1), columnx + columndelta/2, height);\n",
       "            ctx.restore();\n",
       "            columnx += columndelta;\n",
       "        }\n",
       "        // deaw the labels\n",
       "        ctx.save()\n",
       "        ctx.fillStyle = \"black\";\n",
       "        ctx.font = settings.labelfont;\n",
       "        ctx.textAlign = \"start\";\n",
       "        ctx.fillText(settings.leftlabel, 0, height);\n",
       "        var ymark = (\"\"+maxOffset).substring(0, 3);  // xxxx not quite right.\n",
       "        ctx.fillText(ymark, 0, settings.border);\n",
       "        ctx.textAlign = \"end\";\n",
       "        ctx.fillText(settings.rightlabel, width, height);\n",
       "        ctx.textAlign=\"center\";\n",
       "        ctx.translate(settings.border*0.7, height/2);\n",
       "        ctx.rotate(-Math.PI/2);\n",
       "        ctx.fillText(settings.ylabel, 0, 0);\n",
       "        ctx.restore()     \n",
       "        ctx.restore();\n",
       "        return that;\n",
       "    };\n",
       "\n",
       "    // example usage and test case: jQuery.fn.sequence_motif.example($(\"#canvas\"))\n",
       "    $.fn.sequence_motif.example = function (element) {\n",
       "        debugger;\n",
       "        var newcanvas = $('<canvas width=\"300\", height=\"300\"/>'); //.width(\"110px\").height(\"110px\");\n",
       "        var options = {\n",
       "            \"ylabel\": \"count\",\n",
       "            \"x\": 10,\n",
       "            \"y\": 10\n",
       "        };\n",
       "        // light grey fill for reference\n",
       "        var ctx = newcanvas[0].getContext(\"2d\");\n",
       "        ctx.fillStyle = \"#dddddd\";\n",
       "        ctx.fillRect(0, 0, 300, 300);\n",
       "        var columns = [\n",
       "        [[\"A\", 2], [\"C\", 3], [\"T\", 5]],\n",
       "        [[\"A\", 3], [\"C\", 7]],\n",
       "        [[\"T\", 10]],\n",
       "        [[\"A\", 3], [\"G\", 3], [\"T\", 4]],\n",
       "        [[\"A\", 1], [\"C\", 2], [\"G\", 7]],\n",
       "        ];\n",
       "        newcanvas.sequence_motif(190, 111, columns, options);\n",
       "        element.append(newcanvas);\n",
       "    };\n",
       "})(jQuery);\n"
      ],
      "text/plain": [
       "<IPython.core.display.Javascript object>"
      ]
     },
     "metadata": {},
     "output_type": "display_data"
    }
   ],
   "source": [
    "Ebf1_with_entropy = Ebf1.canvas()\n",
    "display(Ebf1_with_entropy)"
   ]
  },
  {
   "cell_type": "code",
   "execution_count": 8,
   "metadata": {
    "collapsed": true
   },
   "outputs": [],
   "source": [
    "Ebf1_no_entropy = Ebf1.canvas(entropy=False)\n",
    "display(Ebf1_no_entropy)"
   ]
  },
  {
   "cell_type": "code",
   "execution_count": 9,
   "metadata": {
    "collapsed": true
   },
   "outputs": [],
   "source": [
    "# display 20 randomly chosen motifs with entropy\n",
    "import random\n",
    "for i in range(20):\n",
    "    name = random.choice(motif_names)\n",
    "    mt = C[name]\n",
    "    c = mt.canvas(entropy=False)\n",
    "    display(c)\n",
    "    c.evaluate(c.element().after(\"<div>%s</div\" % name))\n",
    "    c = mt.canvas()\n",
    "    display(c)\n",
    "    c.evaluate(c.element().after(\"<div>%s with entropy</div\" % name))"
   ]
  },
  {
   "cell_type": "markdown",
   "metadata": {},
   "source": [
    "### Randomly assign motifs to a sample network\n",
    "\n",
    "For testing and debugging.\n",
    "\n",
    "Note: the motif names in the network file have an added suffix:\n",
    "`M5338_1.01_hg19` indicates a motif named `M5338_1.01` where the\n",
    "`_hg19` suffix is ignored in this context"
   ]
  },
  {
   "cell_type": "code",
   "execution_count": 11,
   "metadata": {
    "collapsed": false
   },
   "outputs": [
    {
     "name": "stdout",
     "output_type": "stream",
     "text": [
      "Regulator\tTarget\tWeight\tMotifs\n",
      "ifih1\taqp3\t-7.0\tM0888_1.01_hg19,M0949_1.01_hg19,Myb_hg19,M0389_1.01_hg19,M0909_1.01_hg19\n",
      "trps1\tsh3gl3\t-1.0\tSox8_hg19,M0310_1.01_hg19,M0647_1.01_hg19\n",
      "irf5\teno3\t-1.0\tM0958_1.01_hg19\n",
      "rora\tadam9\t1.0\tNP_032283.3_hg19,M5815_1.01_hg19,M1064_1.01_hg19,M6047_1.01_hg19\n",
      "ahr\tnlgn2\t8.0\tHoxc5_hg19,M2178_1.01_hg19,Foxd2_hg19,Arid2_hg19,Fezf1_hg19\n",
      "atf6\tadam8\t1.0\tM1350_1.01_hg19,M0667_1.01_hg19\n",
      "dnmt3a\tst3gal1\t2.0\tM0382_1.01_hg19,M0828_1.01_hg19,M5871_1.01_hg19,M0410_1.01_hg19\n",
      "ets1\t\n"
     ]
    }
   ],
   "source": [
    "from jp_gene_viz import getData\n",
    "n = getData.read_network(\"network.tsv\")\n",
    "out_file_name = \"network_with_motifs.tsv\"\n",
    "out_file = open(out_file_name, \"w\")\n",
    "out_file.write(\"Regulator\\tTarget\\tWeight\\tMotifs\\n\")\n",
    "ew = n.edge_weights\n",
    "for e in ew:\n",
    "    (r, t) = e\n",
    "    w = str(ew[e])\n",
    "    nmotifs = random.randint(0,5)\n",
    "    # add the ignored suffix here\n",
    "    motifs = set(random.choice(motif_names) + \"_hg19\" for i in range(nmotifs))\n",
    "    m = \",\".join(list(motifs))\n",
    "    out_file.write((\"\\t\".join([r, t, w, m])) + \"\\n\")\n",
    "out_file.close()\n",
    "print(open(out_file_name).read(500))"
   ]
  },
  {
   "cell_type": "markdown",
   "metadata": {},
   "source": [
    "### Load a visualization for the network and attach motif data"
   ]
  },
  {
   "cell_type": "code",
   "execution_count": 13,
   "metadata": {
    "collapsed": false
   },
   "outputs": [
    {
     "data": {
      "application/javascript": [
       "\n",
       "require([\"widgets/js/widget\", \"widgets/js/manager\"], function(widget, manager){\n",
       "    \n",
       "    var svgEventHandlerFactory = function(that) {\n",
       "        var svgEventHandler = function(e) {\n",
       "            //debugger;\n",
       "            var target = e.target;\n",
       "            var info = {};\n",
       "            for (var attr in e) {\n",
       "                var val = e[attr];\n",
       "                var ty = (typeof val);\n",
       "                if ((ty == \"number\") ||\n",
       "                    (ty == \"string\") ||\n",
       "                    (ty == \"boolean\")) {\n",
       "                    info[attr] = val;\n",
       "                }\n",
       "            }\n",
       "            info.name = target.ipy_name;\n",
       "            var ept = SVGEventLocation(that, e);\n",
       "            info.svgX = ept.x;\n",
       "            info.svgY = ept.y;\n",
       "            var json = JSON.stringify(info);\n",
       "            that.model.set(\"event\", json);\n",
       "            that.touch();\n",
       "        };\n",
       "        return svgEventHandler;\n",
       "    };\n",
       "\n",
       "    var SVGEventLocation = function(that, e) {\n",
       "        // http://stackoverflow.com/questions/10298658/mouse-position-inside-autoscaled-svg\n",
       "        var pt = that.reference_point;\n",
       "        var svg = that.$svg[0];\n",
       "        pt.x = e.clientX;\n",
       "        pt.y = e.clientY;\n",
       "        return pt.matrixTransform(svg.getScreenCTM().inverse());\n",
       "    }\n",
       "    \n",
       "    var SVGCanvasView = widget.DOMWidgetView.extend({\n",
       "        \n",
       "        render: function() {\n",
       "            var that = this;\n",
       "            var svg = that.svg_elt(\"svg\");\n",
       "            var eventHandler = svgEventHandlerFactory(that);\n",
       "            that.eventHandler = eventHandler;\n",
       "            that.named_elements = {};\n",
       "            svg.ipy_name = \"\";\n",
       "            that.$svg = $(svg);\n",
       "            that.reference_point = svg.createSVGPoint();\n",
       "            svg.setAttribute(\"preserveAspectRatio\", \"none\");\n",
       "            that.$el.append(that.$svg);\n",
       "            that.svg_parameters_changed();\n",
       "            that.commands_changed();\n",
       "            that.start_watch_event();\n",
       "            that.model.on(\"change:commands\", that.commands_changed, that);\n",
       "            that.model.on(\"change:viewBox\", that.svg_parameters_changed, that);\n",
       "            that.model.on(\"change:width\", that.svg_parameters_changed, that);\n",
       "            that.model.on(\"change:height\", that.svg_parameters_changed, that);\n",
       "            that.model.on(\"change:style\", that.svg_parameters_changed, that);\n",
       "            that.model.on(\"change:watch_event\", that.start_watch_event, that);\n",
       "            that.model.on(\"change:unwatch_event\", that.stop_watch_event, that);\n",
       "        },\n",
       "        \n",
       "        start_watch_event: function() {\n",
       "            //debugger;\n",
       "            var that = this;\n",
       "            var event_types = that.model.get(\"watch_event\");\n",
       "            if (event_types != \"\") {\n",
       "                that.$svg.on(event_types, that.eventHandler);\n",
       "                that.model.set(\"watch_event\", \"\");\n",
       "                that.touch();\n",
       "            }\n",
       "        },\n",
       "        \n",
       "        stop_watch_event: function() {\n",
       "            //debugger;\n",
       "            var that = this;\n",
       "            var event_types = that.model.get(\"unwatch_event\");\n",
       "            if (event_types != \"\") {\n",
       "                that.$svg.off(event_types);\n",
       "                that.model.set(\"watch_event\", \"\");\n",
       "                that.touch();\n",
       "            }\n",
       "        },\n",
       "        \n",
       "        commands_changed: function() {\n",
       "            var that = this;\n",
       "            var svg = that.$svg[0];\n",
       "            var commands = that.get_JSON(\"commands\")\n",
       "            for (var i=0; i<commands.length; i++) {\n",
       "                var command_dict = commands[i];\n",
       "                var indicator = command_dict[\"command\"];\n",
       "                var method = that[\"do_\"+indicator];\n",
       "                method(that, command_dict);\n",
       "            }\n",
       "        },\n",
       "        \n",
       "        do_add_element: function (that, info) {\n",
       "            //debugger;\n",
       "            var tag = info.tag;\n",
       "            var name = info.name;\n",
       "            var element = that.svg_elt(tag);\n",
       "            element.ipy_name = name;\n",
       "            var $element = $(element);\n",
       "            that.update_element($element, info);\n",
       "            // add event callbacks\n",
       "            that.$svg.append($element);\n",
       "            that.named_elements[name] = $element;\n",
       "        },\n",
       "        \n",
       "        do_change_element: function (that, info) {\n",
       "            var name = info.name;\n",
       "            var $element = that.named_elements[name];\n",
       "            if ($element) {\n",
       "                that.update_element($element, info);\n",
       "            } else {\n",
       "                console.warn(\"couldn't find element for \"+name);\n",
       "            }\n",
       "        },\n",
       "        \n",
       "        do_delete: function (that, info) {\n",
       "            var names = info.names;\n",
       "            for (var i=0; i<names.length; i++) {\n",
       "                var name = names[i];\n",
       "                var $element = that.named_elements[name];\n",
       "                if ($element) {\n",
       "                    $element.remove();\n",
       "                    delete that.named_elements[name];\n",
       "                }\n",
       "            }\n",
       "        },\n",
       "        \n",
       "        update_element: function($element, info) {\n",
       "            var element = $element[0];\n",
       "            var atts = info.atts;\n",
       "            var style = info.style;\n",
       "            var text = info.text;\n",
       "            if (atts) {\n",
       "                for (var att in atts) {\n",
       "                    element.setAttribute(att, atts[att]);\n",
       "                }\n",
       "            }\n",
       "            if (style) {\n",
       "                for (var styling in style) {\n",
       "                    element.style[styling] = style[styling];\n",
       "                }\n",
       "            }\n",
       "            if (text) {\n",
       "                $element.empty();\n",
       "                var node = document.createTextNode(text);\n",
       "                element.appendChild(node);\n",
       "            }\n",
       "        },\n",
       "        \n",
       "        do_empty: function (that, info) {\n",
       "            that.named_elements = {};\n",
       "            that.$svg.empty();\n",
       "        },\n",
       "        \n",
       "        svg_parameters_changed: function() {\n",
       "            var that = this;\n",
       "            var style_additions = that.get_JSON(\"style\");\n",
       "            var svg = that.$svg[0];\n",
       "            //debugger;\n",
       "            svg.setAttribute(\"viewBox\", that.model.get(\"viewBox\"));\n",
       "            svg.setAttribute(\"width\", that.model.get(\"width\"));\n",
       "            svg.setAttribute(\"height\", that.model.get(\"height\"));\n",
       "            for (var style_attr in style_additions) {\n",
       "                svg.style[style_attr] = style_additions[style_attr];\n",
       "            }\n",
       "        },\n",
       "        \n",
       "        get_JSON: function(name) {\n",
       "            var json = this.model.get(name);\n",
       "            return $.parseJSON(json);\n",
       "        },\n",
       "        \n",
       "        svg_elt: function(kind) {\n",
       "            return document.createElementNS('http://www.w3.org/2000/svg', kind);\n",
       "        }\n",
       "        \n",
       "    });\n",
       "    \n",
       "    manager.WidgetManager.register_widget_view('SVGCanvasView', SVGCanvasView);\n",
       "});\n"
      ],
      "text/plain": [
       "<IPython.core.display.Javascript object>"
      ]
     },
     "metadata": {},
     "output_type": "display_data"
    },
    {
     "name": "stdout",
     "output_type": "stream",
     "text": [
      "Reading network network_with_motifs.tsv\n",
      "Loading saved layout network_with_motifs.tsv.layout.json\n"
     ]
    },
    {
     "data": {
      "text/plain": [
       "<jp_gene_viz.dNetwork.NetworkDisplay at 0x10d4e7438>"
      ]
     },
     "execution_count": 13,
     "metadata": {},
     "output_type": "execute_result"
    }
   ],
   "source": [
    "from jp_gene_viz import dNetwork\n",
    "#reload(dNetwork)\n",
    "dNetwork.load_javascript_support()\n",
    "net_with_motifs = dNetwork.display_network(out_file_name)\n",
    "# Attach the motif collection populated above:\n",
    "net_with_motifs.motif_collection = C\n",
    "net_with_motifs"
   ]
  },
  {
   "cell_type": "code",
   "execution_count": null,
   "metadata": {
    "collapsed": true
   },
   "outputs": [],
   "source": []
  },
  {
   "cell_type": "code",
   "execution_count": null,
   "metadata": {
    "collapsed": true
   },
   "outputs": [],
   "source": []
  },
  {
   "cell_type": "code",
   "execution_count": null,
   "metadata": {
    "collapsed": true
   },
   "outputs": [],
   "source": []
  }
 ],
 "metadata": {
  "kernelspec": {
   "display_name": "Python 3",
   "language": "python",
   "name": "python3"
  },
  "language_info": {
   "codemirror_mode": {
    "name": "ipython",
    "version": 3
   },
   "file_extension": ".py",
   "mimetype": "text/x-python",
   "name": "python",
   "nbconvert_exporter": "python",
   "pygments_lexer": "ipython3",
   "version": "3.5.1"
  }
 },
 "nbformat": 4,
 "nbformat_minor": 0
}
