{
 "cells": [
  {
   "cell_type": "markdown",
   "metadata": {},
   "source": [
    "# Binding motif widget usage example"
   ]
  },
  {
   "cell_type": "code",
   "execution_count": 1,
   "metadata": {
    "collapsed": true
   },
   "outputs": [],
   "source": [
    "# allow import without install\n",
    "import sys\n",
    "if \"..\" not in sys.path:\n",
    "    sys.path.append(\"..\")\n",
    "\n",
    "from IPython.display import display\n",
    "from jp_gene_viz import motif_data"
   ]
  },
  {
   "cell_type": "markdown",
   "metadata": {},
   "source": [
    "### Read a *.meme file"
   ]
  },
  {
   "cell_type": "code",
   "execution_count": 2,
   "metadata": {
    "collapsed": false
   },
   "outputs": [
    {
     "data": {
      "text/plain": [
       "<jp_gene_viz.motif_data.MotifCollection at 0x1070c28d0>"
      ]
     },
     "execution_count": 2,
     "metadata": {},
     "output_type": "execute_result"
    }
   ],
   "source": [
    "C = motif_data.MotifCollection()\n",
    "# for extra safety \"rU\" reads with universal line ending support\n",
    "C.read_meme_file(open(\"mm9_em.meme\", \"rU\"))"
   ]
  },
  {
   "cell_type": "code",
   "execution_count": 3,
   "metadata": {
    "collapsed": false
   },
   "outputs": [
    {
     "data": {
      "text/plain": [
       "'ACGT'"
      ]
     },
     "execution_count": 3,
     "metadata": {},
     "output_type": "execute_result"
    }
   ],
   "source": [
    "C.letter_order"
   ]
  },
  {
   "cell_type": "code",
   "execution_count": 4,
   "metadata": {
    "collapsed": false
   },
   "outputs": [
    {
     "data": {
      "text/plain": [
       "['Ebf1',\n",
       " 'Ehf',\n",
       " 'M0178_1.01',\n",
       " 'M5865_1.01',\n",
       " 'Mitf',\n",
       " 'Hes1',\n",
       " 'Hes2',\n",
       " 'Bcl6',\n",
       " 'Hes5',\n",
       " 'Hes7',\n",
       " 'M3560_1.01',\n",
       " 'M1406_1.01',\n",
       " 'M0408_1.01',\n",
       " 'M0928_1.01',\n",
       " 'M0983_1.01',\n",
       " 'Cebpb',\n",
       " 'Cebpa',\n",
       " 'Cebpg',\n",
       " 'M0658_1.01',\n",
       " 'Cebpe']"
      ]
     },
     "execution_count": 4,
     "metadata": {},
     "output_type": "execute_result"
    }
   ],
   "source": [
    "motif_names = C.name_to_motif.keys()\n",
    "motif_names[:20]"
   ]
  },
  {
   "cell_type": "code",
   "execution_count": 5,
   "metadata": {
    "collapsed": true
   },
   "outputs": [],
   "source": [
    "Ebf1 = C[\"Ebf1\"]"
   ]
  },
  {
   "cell_type": "code",
   "execution_count": 6,
   "metadata": {
    "collapsed": false
   },
   "outputs": [
    {
     "data": {
      "application/javascript": [
       "\n",
       "// This is the javascript side to match js_proxy.py.\n",
       "// See js_proxy.py for an explanation of the command transfer\n",
       "// protocol.\n",
       "\n",
       "require([\"widgets/js/widget\", \"widgets/js/manager\", \"underscore\", \"jquery\"\n",
       "], function(widget, manager, _, $) {\n",
       "    //debugger;\n",
       "\n",
       "    var JSProxyView = widget.DOMWidgetView.extend({\n",
       "\n",
       "        render: function() {\n",
       "            var that = this;\n",
       "            that.on(\"displayed\", function() {\n",
       "                that.update();\n",
       "            });\n",
       "            // \"new\" keyword emulation\n",
       "            // http://stackoverflow.com/questions/17342497/dynamically-control-arguments-while-creating-objects-in-javascript\n",
       "            that.$el.New = function(klass, args) {\n",
       "                var obj = Object.create(klass.prototype);\n",
       "                return klass.apply(obj, args) || obj;\n",
       "            }\n",
       "        },\n",
       "\n",
       "        update: function(options) {\n",
       "            var that = this;\n",
       "            var commands = that.model.get(\"commands\");\n",
       "            if (commands.length >= 2) {\n",
       "                var command_counter = commands[0];\n",
       "                var command_list = commands[1];\n",
       "                var level = commands[2];\n",
       "                level = that.check_level(level);\n",
       "                var results = [];\n",
       "                _.each(command_list, function(command,i) {\n",
       "                    var result = that.execute_command(command);\n",
       "                    results[i] = that.json_safe(result, level);\n",
       "                });\n",
       "                that.model.set(\"commands\", []);\n",
       "                that.model.set(\"results\", [command_counter, results])\n",
       "                that.touch();\n",
       "            }\n",
       "        },\n",
       "\n",
       "        execute_command: function(command) {\n",
       "            var that = this;\n",
       "            var result = command;\n",
       "            if ($.isArray(command)) {\n",
       "                var indicator = command[0];\n",
       "                var remainder = command.slice();\n",
       "                remainder.shift();\n",
       "                if (indicator == \"element\") {\n",
       "                    result = that.$el;\n",
       "                } else if (indicator == \"window\") {\n",
       "                    result = window;\n",
       "                } else if (indicator == \"method\") {\n",
       "                    var target_desc = remainder.shift();\n",
       "                    var target = that.execute_command(target_desc);\n",
       "                    var name = remainder.shift();\n",
       "                    var args = remainder.map(that.execute_command, that);\n",
       "                    var method = target[name];\n",
       "                    if (method) {\n",
       "                        result = method.apply(target, args);\n",
       "                    } else {\n",
       "                        result = \"In \" + target + \" no such method \" + name;\n",
       "                    }\n",
       "                } else if (indicator == \"function\") {\n",
       "                    var function_desc = remainder.shift();\n",
       "                    var function_value = that.execute_command(function_desc);\n",
       "                    var args = remainder.map(that.execute_command, that);\n",
       "                    // Use \"that\" as the \"this\" value for function values?\n",
       "                    result = function_value.apply(that, args);\n",
       "                } else if (indicator == \"id\") {\n",
       "                    result = remainder[0];\n",
       "                } else if (indicator == \"list\") {\n",
       "                    result = remainder.map(that.execute_command, that);\n",
       "                } else if (indicator == \"dict\") {\n",
       "                    result = {}\n",
       "                    var desc = remainder[0];\n",
       "                    for (var key in desc) {\n",
       "                        var key_desc = desc[key];\n",
       "                        var val = that.execute_command(key_desc);\n",
       "                        result[key] = val;\n",
       "                    }\n",
       "                } else if (indicator == \"callback\") {\n",
       "                    var identifier = remainder.shift();\n",
       "                    var data = remainder.shift();\n",
       "                    var level = remainder.shift();\n",
       "                    // sanity check\n",
       "                    level = that.check_level(level);\n",
       "                    result = that.callback_factory(identifier, data, level);\n",
       "                } else if (indicator == \"get\") {\n",
       "                    var target_desc = remainder.shift();\n",
       "                    var target = that.execute_command(target_desc);\n",
       "                    var name = remainder.shift();\n",
       "                    result = target[name];\n",
       "                } else if (indicator == \"set\") {\n",
       "                    var target_desc = remainder.shift();\n",
       "                    var target = that.execute_command(target_desc);\n",
       "                    var name = remainder.shift();\n",
       "                    var value_desc = remainder.shift()\n",
       "                    var value = that.execute_command(value_desc);\n",
       "                    target[name] = value;\n",
       "                    result = target;\n",
       "                } else if (indicator == \"null\") {\n",
       "                    target_desc = remainder.shift();\n",
       "                    that.execute_command(target_desc);\n",
       "                    result = null;\n",
       "                } else {\n",
       "                    result = \"Unknown indicator \" + indicator;\n",
       "                }\n",
       "            }\n",
       "            return result;\n",
       "        },\n",
       "\n",
       "        check_level: function(level) {\n",
       "            if ((typeof level) != \"number\" || (level < 0)) {\n",
       "                level = 0;\n",
       "            } else if (level > 5) {\n",
       "                level = 5;\n",
       "            }\n",
       "            return level;\n",
       "        },\n",
       "\n",
       "        callback_factory: function(identifier, data, level) {\n",
       "            var that = this;\n",
       "            var handler = function () {\n",
       "                var payload = that.json_safe([identifier, data, arguments], level + 1);\n",
       "                that.model.set(\"callback_results\", payload);\n",
       "                that.touch();\n",
       "            };\n",
       "            return handler;\n",
       "        },\n",
       "\n",
       "        json_safe: function(val, depth) {\n",
       "            // maybe expand later as need arises\n",
       "            var that = this;\n",
       "            var ty = (typeof val);\n",
       "            if ((ty == \"number\") || (ty == \"string\") || (ty == \"boolean\")) {\n",
       "                return val;\n",
       "            }\n",
       "            if (!val) {\n",
       "                // translate all other falsies to None\n",
       "                return null;\n",
       "            }\n",
       "            if (((typeof depth) == \"number\") && (depth > 0)) {\n",
       "                if ($.isArray(val)) {\n",
       "                    var result = [];\n",
       "                    _.each(val, function(elt, i) {\n",
       "                        var r = that.json_safe(elt, depth-1);\n",
       "                        if (r != null) {\n",
       "                            result[i] = r;\n",
       "                        }\n",
       "                    });\n",
       "                    return result;\n",
       "                } else {\n",
       "                    var result = {};\n",
       "                    for (var key in val) {\n",
       "                        var jv = that.json_safe(val[key], depth-1);\n",
       "                        if (jv != null) {\n",
       "                            result[key] = jv;\n",
       "                        }\n",
       "                    }\n",
       "                    return result;\n",
       "                }\n",
       "            }\n",
       "            return null;\n",
       "        }\n",
       "\n",
       "    });\n",
       "\n",
       "    manager.WidgetManager.register_widget_view('JSProxyView', JSProxyView);\n",
       "});\n"
      ],
      "text/plain": [
       "<IPython.core.display.Javascript object>"
      ]
     },
     "metadata": {},
     "output_type": "display_data"
    },
    {
     "data": {
      "application/javascript": [
       "\n",
       "/*\n",
       "jQuery plugin for sequence motifs.\n",
       "\n",
       "$(canvas).sequence_motif(width, height, columns, options)\n",
       "\n",
       "Columns represent stacks of letters with from bottom to top.\n",
       "\n",
       "Structure follows: https://learn.jquery.com/plugins/basic-plugin-creation/\n",
       "*/\n",
       "\n",
       "(function ($) {\n",
       "    $.fn.sequence_motif = function (width, height, columns, options) {\n",
       "        debugger;\n",
       "        var that = this;\n",
       "        // Get setttings from options or default values.\n",
       "        var settings = $.extend({\n",
       "            \"letters\": {\"A\": \"green\", \"C\": \"blue\", \"T\": \"red\", \"G\": \"orange\"},\n",
       "            \"ylabel\": \"bits\",\n",
       "            \"leftlabel\": \"5'\",\n",
       "            \"rightlabel\": \"3'\",\n",
       "            \"x\": 0,\n",
       "            \"y\": 0,\n",
       "            \"bgcolor\": \"white\",\n",
       "            \"boundary\": \"cornsilk\",\n",
       "            \"border\": 8,\n",
       "            \"labelfont\": \"10px Arial\",\n",
       "            \"letterfont\": \"30px Arial\",\n",
       "            \"fontpixelheight\": 24,\n",
       "            \"yMaximumDefault\": 0,\n",
       "        }, options);\n",
       "        // collect stats on columns\n",
       "        var maxOffset = settings.yMaximumDefault;\n",
       "        var ncolumns = columns.length;\n",
       "        for (var ncolumn = 0; ncolumn < ncolumns; ncolumn++) {\n",
       "            var totalweight = 0.0;\n",
       "            var column = columns[ncolumn];\n",
       "            for (var nletter = 0; nletter < column.length; nletter++ ) {\n",
       "                var info = column[nletter];\n",
       "                var letter = info[0];\n",
       "                var weight = info[1];\n",
       "                totalweight += weight;\n",
       "            }\n",
       "            if (totalweight > maxOffset) {\n",
       "                maxOffset = totalweight;\n",
       "            }\n",
       "        }\n",
       "        var ctx = that[0].getContext(\"2d\");\n",
       "        ctx.save();\n",
       "        // draw the background\n",
       "        ctx.translate(settings.x, settings.y);\n",
       "        ctx.fillStyle = settings.bgcolor;\n",
       "        ctx.strokeStyle = settings.boundary;\n",
       "        ctx.fillRect(0, 0, width, height);\n",
       "        ctx.strokeRect(0, 0, width, height);\n",
       "        // draw the letters\n",
       "        var columnx = settings.border;\n",
       "        var columndelta = (width - settings.border)/ncolumns;\n",
       "        var yheight = height - settings.border;\n",
       "        ctx.font = settings.letterfont;\n",
       "        for (var ncolumn = 0; ncolumn < ncolumns; ncolumn++) {\n",
       "            var totalweight = 0.0;\n",
       "            var column = columns[ncolumn];\n",
       "            var lettery = yheight;\n",
       "            var nletters = column.length;\n",
       "            for (var nletter = 0; nletter < nletters; nletter++ ) {\n",
       "                var info = column[nletter];\n",
       "                var letter = info[0];\n",
       "                var weight = info[1];\n",
       "                totalweight += weight;\n",
       "                ctx.save()\n",
       "                ctx.fillStyle = settings.letters[letter];\n",
       "                ctx.translate(columnx, lettery);\n",
       "                var mt = ctx.measureText(letter);\n",
       "                var scaley = (yheight * weight) / (settings.fontpixelheight * maxOffset);\n",
       "                var letterwidth = mt.width;\n",
       "                var scalex = columndelta / letterwidth;\n",
       "                ctx.scale(scalex, scaley);\n",
       "                ctx.fillText(letter, 0, 0)\n",
       "                ctx.restore()\n",
       "                lettery -= (weight * yheight) / maxOffset;\n",
       "            }\n",
       "            ctx.save();\n",
       "            ctx.fillStyle = \"black\";\n",
       "            ctx.textAlign = \"center\";\n",
       "            ctx.font = settings.labelfont;\n",
       "            ctx.fillText(\"\" + (ncolumn + 1), columnx + columndelta/2, height);\n",
       "            ctx.restore();\n",
       "            columnx += columndelta;\n",
       "        }\n",
       "        // deaw the labels\n",
       "        ctx.save()\n",
       "        ctx.fillStyle = \"black\";\n",
       "        ctx.font = settings.labelfont;\n",
       "        ctx.textAlign = \"start\";\n",
       "        ctx.fillText(settings.leftlabel, 0, height);\n",
       "        var ymark = (\"\"+maxOffset).substring(0, 3);  // xxxx not quite right.\n",
       "        ctx.fillText(ymark, 0, settings.border);\n",
       "        ctx.textAlign = \"end\";\n",
       "        ctx.fillText(settings.rightlabel, width, height);\n",
       "        ctx.textAlign=\"center\";\n",
       "        ctx.translate(settings.border*0.7, height/2);\n",
       "        ctx.rotate(-Math.PI/2);\n",
       "        ctx.fillText(settings.ylabel, 0, 0);\n",
       "        ctx.restore()     \n",
       "        ctx.restore();\n",
       "        return that;\n",
       "    };\n",
       "\n",
       "    // example usage and test case: jQuery.fn.sequence_motif.example($(\"#canvas\"))\n",
       "    $.fn.sequence_motif.example = function (element) {\n",
       "        debugger;\n",
       "        var newcanvas = $('<canvas width=\"300\", height=\"300\"/>'); //.width(\"110px\").height(\"110px\");\n",
       "        var options = {\n",
       "            \"ylabel\": \"count\",\n",
       "            \"x\": 10,\n",
       "            \"y\": 10\n",
       "        };\n",
       "        // light grey fill for reference\n",
       "        var ctx = newcanvas[0].getContext(\"2d\");\n",
       "        ctx.fillStyle = \"#dddddd\";\n",
       "        ctx.fillRect(0, 0, 300, 300);\n",
       "        var columns = [\n",
       "        [[\"A\", 2], [\"C\", 3], [\"T\", 5]],\n",
       "        [[\"A\", 3], [\"C\", 7]],\n",
       "        [[\"T\", 10]],\n",
       "        [[\"A\", 3], [\"G\", 3], [\"T\", 4]],\n",
       "        [[\"A\", 1], [\"C\", 2], [\"G\", 7]],\n",
       "        ];\n",
       "        newcanvas.sequence_motif(190, 111, columns, options);\n",
       "        element.append(newcanvas);\n",
       "    };\n",
       "})(jQuery);\n"
      ],
      "text/plain": [
       "<IPython.core.display.Javascript object>"
      ]
     },
     "metadata": {},
     "output_type": "display_data"
    }
   ],
   "source": [
    "Ebf1_with_entropy = Ebf1.canvas()\n",
    "display(Ebf1_with_entropy)"
   ]
  },
  {
   "cell_type": "code",
   "execution_count": 7,
   "metadata": {
    "collapsed": true
   },
   "outputs": [],
   "source": [
    "Ebf1_no_entropy = Ebf1.canvas(entropy=False)\n",
    "display(Ebf1_no_entropy)"
   ]
  },
  {
   "cell_type": "code",
   "execution_count": 8,
   "metadata": {
    "collapsed": true
   },
   "outputs": [],
   "source": [
    "# display 20 randomly chosen motifs with entropy\n",
    "import random\n",
    "for i in xrange(20):\n",
    "    name = random.choice(motif_names)\n",
    "    mt = C[name]\n",
    "    c = mt.canvas(entropy=False)\n",
    "    display(c)\n",
    "    c.evaluate(c.element().after(\"<div>%s</div\" % name))\n",
    "    c = mt.canvas()\n",
    "    display(c)\n",
    "    c.evaluate(c.element().after(\"<div>%s with entropy</div\" % name))"
   ]
  },
  {
   "cell_type": "code",
   "execution_count": null,
   "metadata": {
    "collapsed": true
   },
   "outputs": [],
   "source": []
  }
 ],
 "metadata": {
  "kernelspec": {
   "display_name": "Python 2",
   "language": "python",
   "name": "python2"
  },
  "language_info": {
   "codemirror_mode": {
    "name": "ipython",
    "version": 2
   },
   "file_extension": ".py",
   "mimetype": "text/x-python",
   "name": "python",
   "nbconvert_exporter": "python",
   "pygments_lexer": "ipython2",
   "version": "2.7.10"
  }
 },
 "nbformat": 4,
 "nbformat_minor": 0
}
