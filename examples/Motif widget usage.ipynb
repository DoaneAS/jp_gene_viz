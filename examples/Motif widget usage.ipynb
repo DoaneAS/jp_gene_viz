{
 "cells": [
  {
   "cell_type": "markdown",
   "metadata": {},
   "source": [
    "# Binding motif widget usage example\n",
    "\n",
    "This notebook demonstrates how to load binding motif data, how to display motif logos,\n",
    "and how to associate motifs to regulatory relationships in regulatory network widgets."
   ]
  },
  {
   "cell_type": "code",
   "execution_count": null,
   "metadata": {
    "collapsed": true
   },
   "outputs": [],
   "source": [
    "# allow import without install in Binder\n",
    "import sys\n",
    "if \"..\" not in sys.path:\n",
    "    sys.path.append(\"..\")\n",
    "\n",
    "from IPython.display import display\n",
    "from jp_gene_viz import motif_data"
   ]
  },
  {
   "cell_type": "markdown",
   "metadata": {},
   "source": [
    "### Read a *.meme file"
   ]
  },
  {
   "cell_type": "code",
   "execution_count": null,
   "metadata": {
    "collapsed": false
   },
   "outputs": [],
   "source": [
    "C = motif_data.MotifCollection()\n",
    "# for extra safety \"rU\" reads with universal line ending support\n",
    "C.read_meme_file(open(\"mm9_em.meme\", \"rU\"))"
   ]
  },
  {
   "cell_type": "code",
   "execution_count": null,
   "metadata": {
    "collapsed": false
   },
   "outputs": [],
   "source": [
    "C.letter_order"
   ]
  },
  {
   "cell_type": "code",
   "execution_count": null,
   "metadata": {
    "collapsed": false
   },
   "outputs": [],
   "source": [
    "motif_names = list(C.name_to_motif.keys())\n",
    "motif_names[:20]"
   ]
  },
  {
   "cell_type": "code",
   "execution_count": null,
   "metadata": {
    "collapsed": true
   },
   "outputs": [],
   "source": [
    "# Choose a particular motif by name.\n",
    "Ebf1 = C[\"Ebf1\"]"
   ]
  },
  {
   "cell_type": "code",
   "execution_count": null,
   "metadata": {
    "collapsed": false
   },
   "outputs": [],
   "source": [
    "# Display the motif logo with entropy.\n",
    "Ebf1_with_entropy = Ebf1.canvas()\n",
    "display(Ebf1_with_entropy)"
   ]
  },
  {
   "cell_type": "code",
   "execution_count": null,
   "metadata": {
    "collapsed": true
   },
   "outputs": [],
   "source": [
    "# Display the motif logo without entropy.\n",
    "Ebf1_no_entropy = Ebf1.canvas(entropy=False)\n",
    "display(Ebf1_no_entropy)"
   ]
  },
  {
   "cell_type": "code",
   "execution_count": null,
   "metadata": {
    "collapsed": true
   },
   "outputs": [],
   "source": [
    "# display 10 randomly chosen motifs with and without entropy\n",
    "import random\n",
    "for i in range(10):\n",
    "    name = random.choice(motif_names)\n",
    "    mt = C[name]\n",
    "    c = mt.canvas(entropy=False)\n",
    "    display(c)\n",
    "    c.evaluate(c.element().after(\"<div>%s</div\" % name))\n",
    "    c = mt.canvas()\n",
    "    display(c)\n",
    "    c.evaluate(c.element().after(\"<div>%s with entropy</div\" % name))"
   ]
  },
  {
   "cell_type": "markdown",
   "metadata": {},
   "source": [
    "### Create a sample network data file with a motif column\n",
    "\n",
    "The interaction below assigns motifs to regulatory relationships\n",
    "in a regulatory network visualization.\n",
    "\n",
    "Note: the motif names in the network file have an added suffix:\n",
    "`M5338_1.01_hg19` indicates a motif named `M5338_1.01` where the\n",
    "`_hg19` suffix is ignored in this context"
   ]
  },
  {
   "cell_type": "code",
   "execution_count": null,
   "metadata": {
    "collapsed": false
   },
   "outputs": [],
   "source": [
    "# First create a (fake) network data file which includes the network motif\n",
    "# comma separated list as a fourth column.  For the fake data we assign motifs\n",
    "# randomly.\n",
    "from jp_gene_viz import getData\n",
    "n = getData.read_network(\"network.tsv\")\n",
    "out_file_name = \"network_with_motifs.tsv\"\n",
    "out_file = open(out_file_name, \"w\")\n",
    "out_file.write(\"Regulator\\tTarget\\tWeight\\tMotifs\\n\")\n",
    "ew = n.edge_weights\n",
    "for e in ew:\n",
    "    (r, t) = e\n",
    "    w = str(ew[e])\n",
    "    nmotifs = random.randint(0,5)\n",
    "    # add the ignored suffix here\n",
    "    motifs = set(random.choice(motif_names) + \"_hg19\" for i in range(nmotifs))\n",
    "    m = \",\".join(list(motifs))\n",
    "    out_file.write((\"\\t\".join([r, t, w, m])) + \"\\n\")\n",
    "out_file.close()\n",
    "\n",
    "# Display the first few rows of the faked out data file.\n",
    "print(open(out_file_name).read(500))"
   ]
  },
  {
   "cell_type": "markdown",
   "metadata": {},
   "source": [
    "### Load a visualization for the network and attach the motif collection"
   ]
  },
  {
   "cell_type": "code",
   "execution_count": null,
   "metadata": {
    "collapsed": false
   },
   "outputs": [],
   "source": [
    "# Load the implementation\n",
    "from jp_gene_viz import dNetwork\n",
    "#reload(dNetwork)\n",
    "dNetwork.load_javascript_support()\n",
    "\n",
    "# Read the network data file with the motif column.\n",
    "net_with_motifs = dNetwork.display_network(out_file_name)\n",
    "\n",
    "# Attach the motif collection populated above:\n",
    "net_with_motifs.motif_collection = C\n",
    "\n",
    "# display the network with motifs.\n",
    "net_with_motifs"
   ]
  },
  {
   "cell_type": "markdown",
   "metadata": {
    "collapsed": true
   },
   "source": [
    "### Mouse over the edges of the network to show associated motifs."
   ]
  }
 ],
 "metadata": {
  "kernelspec": {
   "display_name": "Python 2",
   "language": "python",
   "name": "python2"
  },
  "language_info": {
   "codemirror_mode": {
    "name": "ipython",
    "version": 2
   },
   "file_extension": ".py",
   "mimetype": "text/x-python",
   "name": "python",
   "nbconvert_exporter": "python",
   "pygments_lexer": "ipython2",
   "version": "2.7.10"
  }
 },
 "nbformat": 4,
 "nbformat_minor": 0
}
