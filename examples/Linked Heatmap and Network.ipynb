{
 "cells": [
  {
   "cell_type": "markdown",
   "metadata": {},
   "source": [
    "# A regulatory network widget linked with a heat-map\n",
    "\n",
    "This notebook shows how a regulatory network model visualization may be linked to\n",
    "a heatmap representing an array of gene expression values.\n",
    "\n",
    "Please see the [Combined widgets](../doc/Combined widgets.ipynb) documentation notebook\n",
    "for details of the heat-map and linkage controls."
   ]
  },
  {
   "cell_type": "code",
   "execution_count": null,
   "metadata": {
    "collapsed": false
   },
   "outputs": [],
   "source": [
    "from jp_gene_viz.dGraph import clr\n",
    "from jp_gene_viz import HMap\n",
    "from jp_gene_viz import dGraph\n",
    "\n",
    "# Heat map colors\n",
    "HMap.HeatMap.max_clr = clr(222, 111, 0)\n",
    "HMap.HeatMap.min_clr = clr(0, 222, 111)\n",
    "HMap.HeatMap.zero_clr = clr(100, 100, 100)\n",
    "# Network edge colors\n",
    "dGraph.WGraph.positive_edge_color = clr(222, 111, 0)\n",
    "dGraph.WGraph.negative_edge_color = clr(0, 222, 111)\n",
    "dGraph.WGraph.zero_edge_color = clr(100, 100, 100)\n",
    "# Network node colors\n",
    "dGraph.WGraph.positive_node_color = clr(222, 111, 0)\n",
    "dGraph.WGraph.negative_node_color = clr(0, 222, 111)\n",
    "dGraph.WGraph.zero_node_color = clr(100, 100, 100)"
   ]
  },
  {
   "cell_type": "code",
   "execution_count": null,
   "metadata": {
    "collapsed": false
   },
   "outputs": [],
   "source": [
    "from jp_gene_viz import LExpression"
   ]
  },
  {
   "cell_type": "code",
   "execution_count": null,
   "metadata": {
    "collapsed": false
   },
   "outputs": [],
   "source": [
    "LExpression.load_javascript_support()"
   ]
  },
  {
   "cell_type": "code",
   "execution_count": null,
   "metadata": {
    "collapsed": false
   },
   "outputs": [],
   "source": [
    "L = LExpression.LinkedExpressionNetwork()\n",
    "L.load_network(\"network.tsv\")\n",
    "L.load_heatmap(\"expr.tsv\")\n",
    "L.network.rectangle_color = \"#dddd55\"\n",
    "L.show()"
   ]
  },
  {
   "cell_type": "code",
   "execution_count": null,
   "metadata": {
    "collapsed": false
   },
   "outputs": [],
   "source": [
    "L.network.rectangle_color = \"yellow\""
   ]
  },
  {
   "cell_type": "code",
   "execution_count": null,
   "metadata": {
    "collapsed": true
   },
   "outputs": [],
   "source": []
  }
 ],
 "metadata": {
  "kernelspec": {
   "display_name": "Python 2",
   "language": "python",
   "name": "python2"
  },
  "language_info": {
   "codemirror_mode": {
    "name": "ipython",
    "version": 2
   },
   "file_extension": ".py",
   "mimetype": "text/x-python",
   "name": "python",
   "nbconvert_exporter": "python",
   "pygments_lexer": "ipython2",
   "version": "2.7.11"
  },
  "widgets": {
   "state": {
    "00000d17d99848c08ea5c4d1db592771": {
     "views": []
    },
    "003450b3b7c14009b97e14c9d4d7a5bf": {
     "views": []
    },
    "006d2fce17094f8eba64c621a8b80b1c": {
     "views": []
    },
    "00c764df1fbf42cc927e3267344fc843": {
     "views": []
    },
    "00de3149d2a44b3084257654418dc562": {
     "views": []
    },
    "0108a9a414c64e27823b555f3a7cce3f": {
     "views": []
    },
    "01d00c74c95d48aa9bb4fbf6290dff6d": {
     "views": []
    },
    "029ad64e59a0456db773c948d5a0cf4e": {
     "views": []
    },
    "02fe8b67e6ed4788b57c003942376732": {
     "views": []
    },
    "031c2a060c2441f28367e43a6fea52aa": {
     "views": []
    },
    "0395a7c88fcd4048b71b20ace5e71836": {
     "views": []
    },
    "045dd5915e7d40a5b7fab605ff3bc1f0": {
     "views": []
    },
    "05458eddfc0040b5bf7cebe6ea1b1c9a": {
     "views": []
    },
    "059bc42ddd28432c9e6e2991060119b8": {
     "views": []
    },
    "071dc7f13fd84bf48072ac7b0049a85c": {
     "views": []
    },
    "0897dfd368364588b66ce5c219463df6": {
     "views": []
    },
    "08bde38a874b46ad80ac9b9875e59104": {
     "views": []
    },
    "093d46d071884ca2a7b476f29ab56c13": {
     "views": []
    },
    "09d4c7c6c7b54fce912a2d61aa482f11": {
     "views": []
    },
    "09ee5dbab7654432a34cb40b87f3fc7d": {
     "views": []
    },
    "0a0df2532ea94529883328513728407c": {
     "views": []
    },
    "0a30cc969ddb45c7a04f0ffe99019b26": {
     "views": []
    },
    "0a395586f8f048448b6be6c322348cca": {
     "views": []
    },
    "0a7558a05c5b48a19afd1a4fb56e51fb": {
     "views": [
      {
       "cell_index": 4
      }
     ]
    },
    "0ae9ee7a9225415cb49371c0bd8f34ad": {
     "views": []
    },
    "0b67c20c702b4807a1179b9215dfe924": {
     "views": []
    },
    "0c1bb36263bb4f93abd773717e571376": {
     "views": []
    },
    "0c4c345497af46f4a2d41b613110e881": {
     "views": []
    },
    "0d03e080303641b6a9fbbd3631aca1bf": {
     "views": []
    },
    "0d18c1c9f6d049999ab495636f9241bc": {
     "views": []
    },
    "0de7fde3123549a186891dcc95f2e64b": {
     "views": []
    },
    "0e0785554f8c44ac865d14ae3a74c6f1": {
     "views": []
    },
    "0ebc7b2eab5145c98e468d544a67af85": {
     "views": []
    },
    "0f5ee8061d1f47f593a08a8f3f4f24d3": {
     "views": []
    },
    "0f7fe9f8e5ec4c2884fcb11c9cc1ae67": {
     "views": []
    },
    "0fd5e064c474452eb754724ec83f3464": {
     "views": []
    },
    "1005cfb703a64f3a88dd6f0c712e38a9": {
     "views": []
    },
    "1032bdc0d2ca401e97a9dc413f73bb80": {
     "views": []
    },
    "1054f261724b4ac583d6e0752b61dec2": {
     "views": []
    },
    "1082ea0cb3fc4ea599e9c1873ca057aa": {
     "views": []
    },
    "1086c03aa6cd4dba82c8e75c2987528d": {
     "views": []
    },
    "118bd4f5a6bf478dac90127506f00232": {
     "views": []
    },
    "11afe7b3164344e9a73cd44a6b905bea": {
     "views": []
    },
    "11e0610491f44d8dbc09ca0fa04d9b39": {
     "views": []
    },
    "1287f918fc624c149a3ca81a0180acee": {
     "views": []
    },
    "1318c58b5a314246a196c3b70faa279a": {
     "views": []
    },
    "14147ca8a5644ab5adb2ed101d47d41b": {
     "views": []
    },
    "143c13bde5ab494aa48a4fa99f37b6f6": {
     "views": []
    },
    "14e9b3d0dde0454faed0c32137f149d6": {
     "views": []
    },
    "14fb677f0cfc4c14876a73ae36d689ac": {
     "views": []
    },
    "150a7c9ba5bd432b8ae6d1de1953df96": {
     "views": []
    },
    "15a174c2aa7a42d2a74873d71a35f170": {
     "views": []
    },
    "162b40ddc08549608ed9aac1c00ddf69": {
     "views": []
    },
    "16a42efb6f54496f8081c3ef742e68aa": {
     "views": []
    },
    "1794fd5bd44f4c519316a57413f7b0cc": {
     "views": []
    },
    "179d7cdc81094560853e421b7a9d8bf1": {
     "views": []
    },
    "1802762b369040e58c9a958c0775949a": {
     "views": []
    },
    "1925b20c15cd4199bbae866aea641818": {
     "views": []
    },
    "19604e27e40a47c6b68322526e14ae0c": {
     "views": []
    },
    "19a56861728b47459c0536aa5584c246": {
     "views": []
    },
    "1a26dee092d14469aef5c20e508879f0": {
     "views": []
    },
    "1a8f2297893b4a1399c1c27531d4a991": {
     "views": []
    },
    "1b47015562794604b40dab6c1aba7560": {
     "views": []
    },
    "1b48d332f15e464b8b29aeca207f77e9": {
     "views": []
    },
    "1c450d63c25a495da056a26a98f1569f": {
     "views": []
    },
    "1c5c98cb4ebe499a9b94bd61b5bd7a56": {
     "views": []
    },
    "1d1a54d39ac24d2f92b211a577854b9d": {
     "views": []
    },
    "1d3eba3a1863493f992ceb66948eeba1": {
     "views": []
    },
    "1d5e48da6cb84f0abe035cd0f8e79b80": {
     "views": []
    },
    "1ddb7522e9aa41238415ffada059974c": {
     "views": []
    },
    "1de0262d3f294c1581a06e0ad49fe16a": {
     "views": []
    },
    "1e8601f246a74077961667892fb7c707": {
     "views": []
    },
    "1f280e96e6fe4184a43c5195d09a5860": {
     "views": []
    },
    "206f0e2c618d4fb3bd2c8591a64205b7": {
     "views": []
    },
    "207fc52e37d44ea898d7a07d3d26f959": {
     "views": []
    },
    "20c33a6e4fd6496aafa58d7f15aea316": {
     "views": []
    },
    "211bd6e92a6243329662678c2c04502a": {
     "views": []
    },
    "215a6aa4473b424ea192fdd523e26b6f": {
     "views": []
    },
    "21f787e62e56441b931b9648ed697b02": {
     "views": []
    },
    "235cafe310814f099b8e5dbfb1e7c4a4": {
     "views": []
    },
    "25a1c87a3f9043b5bd5e1a2eabb095c2": {
     "views": []
    },
    "272ecd4cf4974546b3e708b7c5200bc4": {
     "views": []
    },
    "2739ff08bff84c2ab4b433d4009fcfe6": {
     "views": []
    },
    "275bac6d6a764f56b968e55217067d17": {
     "views": []
    },
    "27df37b54d0b4b15acaa08d9f95a3f63": {
     "views": []
    },
    "27e544accfea49d385534af124fe6035": {
     "views": []
    },
    "2810152c22294c8c983ac2dd17721477": {
     "views": []
    },
    "282247571ad44253bda85a78f418e964": {
     "views": []
    },
    "2950b31aa06449f1b8f189f5b443a521": {
     "views": []
    },
    "2a480e385dc445d982522b120d0be1cc": {
     "views": []
    },
    "2a80935e0fbc4416bfe2dccb97c7c4b2": {
     "views": []
    },
    "2b5570db198c4333be85286291a3e693": {
     "views": []
    },
    "2bae55207a384047a98fb9b182ba4dba": {
     "views": []
    },
    "2cc79bab383b451fb860a593a8d1dc66": {
     "views": []
    },
    "2d7507400351498f94ac86431935afc0": {
     "views": []
    },
    "2ddb86082463455db032f78471c6122f": {
     "views": []
    },
    "2e14ede451ca4322ae5f3d946415617c": {
     "views": []
    },
    "2e5b4c0ddbef4e68a5d10d7801610e14": {
     "views": []
    },
    "2f606446e2be4599a281ac1a4bd40165": {
     "views": []
    },
    "2ff2d7032a3c44f7a2ec45c7663875cb": {
     "views": []
    },
    "301b5d03c9e64ecd82ff23888f5ec8a2": {
     "views": []
    },
    "30ed5f5ef61d410c8044e1f97a15df14": {
     "views": []
    },
    "32029e2f735949d1b51377947ac52b25": {
     "views": []
    },
    "323d8d3c8838491a8f852d21f6a69388": {
     "views": []
    },
    "332c125b702446899779014d51ac1bca": {
     "views": []
    },
    "333e3d5c8d9744fb9802a97f41dae607": {
     "views": []
    },
    "339cb76bf61e4227872b8295df048a6d": {
     "views": []
    },
    "33bc500285874d5b9adb06a2c9fba267": {
     "views": []
    },
    "33e848bb9feb4eec8aeb346b9974c723": {
     "views": []
    },
    "33ec1b797c3c4325af49617326c983ac": {
     "views": []
    },
    "340bcc98143f4500beae5103a1f8ea41": {
     "views": []
    },
    "34630b19123645789a717f7e78f86ec9": {
     "views": []
    },
    "34a531b855fe4bada4be5ffdc4b3457f": {
     "views": []
    },
    "35048918499841e988281dc9ea993e6a": {
     "views": []
    },
    "369812b79bce474db9595732597b5dad": {
     "views": []
    },
    "36a8711c8c3649979bde26c715d4c354": {
     "views": []
    },
    "36c4c99808464a2e892b73d025e4336a": {
     "views": []
    },
    "370728a43ed14f298b1bd65db0e9d2d0": {
     "views": []
    },
    "3784167317a14ea680b6bbd5f2542ac6": {
     "views": []
    },
    "379873394111421891b34443aaf46cb8": {
     "views": []
    },
    "386c9be772604ecdb7afbf64b21d3094": {
     "views": []
    },
    "38e99519617546a4be5fbed1da357339": {
     "views": []
    },
    "3abc005436314fd1ba0b1bdac19efdc5": {
     "views": []
    },
    "3b6aec99870d461da83055d746bd565e": {
     "views": []
    },
    "3c0eacbff93341ceb648fc6f72c488a0": {
     "views": []
    },
    "3c6f7975b0cc499281956be5273b8263": {
     "views": []
    },
    "3ca614d6b1c34e8c951b2ebbcf32cf6f": {
     "views": []
    },
    "3cba416182be46d69dca80e6bcff4116": {
     "views": []
    },
    "3cf4c5e006f8498c9b81aad1927a6208": {
     "views": []
    },
    "3d16f76e976d470582afc03312ae4079": {
     "views": []
    },
    "3d37e047873d4fef8ff089b809662801": {
     "views": []
    },
    "3dc5971d040a45e9ac372d94b95d3a45": {
     "views": []
    },
    "3e49288de91c4b05b6f82d9e2e5f365f": {
     "views": []
    },
    "3e55949409744deb916fbf4c4c4dda2a": {
     "views": []
    },
    "3e59f87fbfac48afb6cfff21338d9bf8": {
     "views": []
    },
    "3f66a12c6a4b4699b2aacec740c291dc": {
     "views": []
    },
    "3ffa2cf8a8334a009b4a8140d4f0c356": {
     "views": []
    },
    "40018812d4834329afe30c9e2bd825e5": {
     "views": []
    },
    "40677a0091124e01956f36759b926d2e": {
     "views": []
    },
    "40adb7f6a74843219548312f857af1fc": {
     "views": []
    },
    "410104830a1b4abc9d070bd0787c2ae1": {
     "views": []
    },
    "4143c94dfc2a45a4a2d940a49fd6693b": {
     "views": []
    },
    "424b43322b094d0aa00f932db485cf63": {
     "views": []
    },
    "426e18c7b38a4a4281b08dd41c7074fe": {
     "views": []
    },
    "42e08d69317348b897a7a9f350f7d5a5": {
     "views": []
    },
    "433a876af96c4e3fb1687208e7003cfa": {
     "views": []
    },
    "43740c146a04403eb3860bbfa53abcfe": {
     "views": []
    },
    "43e563ac435e4293a888a2a9edb5b008": {
     "views": []
    },
    "43e5db333bc8462baa835193dcc9a5bb": {
     "views": []
    },
    "4425bae0deab4c01815c3863d5337415": {
     "views": []
    },
    "4466e6bd8b9b45bbb8b2ddb8bc189815": {
     "views": []
    },
    "4486803eb94e4b64b471d04a6c24d7b9": {
     "views": []
    },
    "44b7e5e3c32540d7a2efec81f524d1c8": {
     "views": []
    },
    "44f80357fe4949f3959ff659c2b7036e": {
     "views": []
    },
    "454b3291fe214f15849987110889dec4": {
     "views": []
    },
    "46a115f8f93d486fb42a37f792f3edcb": {
     "views": []
    },
    "46a5005410ee4813b6499a409175f6b0": {
     "views": []
    },
    "46de7f530a414a8489efe25cf778e39f": {
     "views": []
    },
    "47ded1eb920348fd9f113704867fe87f": {
     "views": []
    },
    "47ec0039c4b3402092618e9d132350ae": {
     "views": []
    },
    "486dac0b8a7b408791bb6512bd8f7c99": {
     "views": []
    },
    "487bdc0da40143e4b1e5e1ccd082217b": {
     "views": []
    },
    "487c09e2794e4c33b2b59c4875013443": {
     "views": []
    },
    "48e2bea7d25a4ce4b74470cca36104bb": {
     "views": []
    },
    "4936ad87636f4566b5867d54599dacc7": {
     "views": []
    },
    "4968729800e344fcbd7d236d767dcd19": {
     "views": []
    },
    "49c5e1a7550f4c919f9948a0051d569c": {
     "views": []
    },
    "4a3c929be530439da30d8f76c2631902": {
     "views": []
    },
    "4aa6e68dc0064198afd1c9b3f3993694": {
     "views": []
    },
    "4ae691a78b73479aba34e7d7e6ba4ad4": {
     "views": []
    },
    "4b2e600f0b0b44a08c907fa308e436dd": {
     "views": []
    },
    "4cbe7a34b02d458da32d98650b083e28": {
     "views": []
    },
    "4ccacaa0640e4463b477b5fca2951d6a": {
     "views": []
    },
    "4d4733317bce42bb9d769813b06b5736": {
     "views": []
    },
    "4dabf354c1a2438fbbadd88178982c50": {
     "views": []
    },
    "4e2a2d1399aa4ce9b9a24f9a8b21b551": {
     "views": []
    },
    "4e7691c75c644681bc3c9a7f53785d78": {
     "views": []
    },
    "4e9a43fdf52d4bdcabbe37b534898913": {
     "views": []
    },
    "4eac4238e57f4f04946e66f61820afd7": {
     "views": []
    },
    "4ee049272ac348218c07e4344dfc5d14": {
     "views": []
    },
    "4f3497cb3d874268b28716f0b77fdd76": {
     "views": []
    },
    "4fcf46a6cbc544bfb11171695be94ef7": {
     "views": []
    },
    "4fd00fb6dd0541ed95ee50ceec82c3fd": {
     "views": []
    },
    "50423e0c5d534b18946003eaafff6e05": {
     "views": []
    },
    "505f2df90cda4e788f5dca814f9be959": {
     "views": []
    },
    "50bc63be4fad47c4b6089a41ec303b77": {
     "views": []
    },
    "5188c4f6b34e456e9b1384c56365538d": {
     "views": []
    },
    "51fc6b160d604115bf58deba59f9ea3f": {
     "views": []
    },
    "52117ad220394615b673374837ad6861": {
     "views": []
    },
    "521ba81aa662472186c35e76fc23b4ff": {
     "views": []
    },
    "532d74e58df94079a84314accbf6a428": {
     "views": []
    },
    "5520ae72801248869de7a3c48c1837d2": {
     "views": []
    },
    "5561bbff14a04c649eb027643c3684f6": {
     "views": []
    },
    "55d8044ecaea41b8be283fd9c1513cf7": {
     "views": []
    },
    "55e0a489a1f74e379364600e5ed4d595": {
     "views": []
    },
    "562f92a66f574d53b3c76d9bca17250b": {
     "views": []
    },
    "56c3e2c21e28414bb6c41b8f11b2307d": {
     "views": []
    },
    "57d4452d61174bdfae31ee4121c2ca47": {
     "views": []
    },
    "57f68355a6f64ffb97857bd036701d18": {
     "views": []
    },
    "585f8a00fa814beba5e98607c0d6f402": {
     "views": []
    },
    "58879b2dae92482e8730ed10b411a939": {
     "views": []
    },
    "58d8dfc9a8db4160a997217562a29983": {
     "views": []
    },
    "596a82bb7d054dde9128300b8590a2a3": {
     "views": []
    },
    "59742f0bf5004b2bac70edd412433a2d": {
     "views": []
    },
    "59cd62326b904bfc84bde325e6f8e4cd": {
     "views": []
    },
    "5a2a88c73af641e28a2fae9f46bdae2f": {
     "views": []
    },
    "5a9767d0ea974973939aaf3de176d3db": {
     "views": []
    },
    "5bf8759724cd49cf9481e6367b7e2e68": {
     "views": []
    },
    "5cbebca4527940f78f4a263db1ceb32e": {
     "views": []
    },
    "5cd774bf1a5b43a2baaaeb1ab51190ca": {
     "views": []
    },
    "5ea7712d078d4fb782e46537d8deb60c": {
     "views": []
    },
    "5eca8b5059d84f4985d29391ee5f585f": {
     "views": []
    },
    "5f8a3e3ad8a7445db76f7735b6cb0f09": {
     "views": []
    },
    "5fd2151c9fe24186ad446151e95288ac": {
     "views": []
    },
    "5fe08f23e23f43f8b11d6cac2996834e": {
     "views": []
    },
    "613db9263f2b42be8058f824803198ef": {
     "views": []
    },
    "614eb5e7febd46ae8e2bc03f7bd49959": {
     "views": []
    },
    "62085fae66044d0f8345a88508633df3": {
     "views": []
    },
    "62861102417e4a8fbdaa3b458ebf03f6": {
     "views": []
    },
    "6301b3abdd28480cb776902b153cbf4a": {
     "views": []
    },
    "63359d44c8ef460cb9e42ed0a2cb9b00": {
     "views": []
    },
    "6401bb8b636d48a5b6cd873a244b1650": {
     "views": []
    },
    "65118e40f07447dba7f57cd52ecb8992": {
     "views": []
    },
    "654462055ac1438685b2dd227804951e": {
     "views": []
    },
    "65d4f5fe543140d2b1ad7d4595c3e8a9": {
     "views": []
    },
    "66f094c0b9574fec870bc33b9c139f48": {
     "views": []
    },
    "66f3ea03a1bb4109970341f80494f2e5": {
     "views": []
    },
    "66fd0f25bb8b4571a11dbcfc2727bd9f": {
     "views": []
    },
    "67542139d83b41b0b06b913d6e196290": {
     "views": []
    },
    "67c68cf5f19f4fa793ac69708e7f7deb": {
     "views": []
    },
    "682be6ef94f948f5bc35740bbf5e5247": {
     "views": []
    },
    "68fc6fa8a9c84b438289f040ad009a5a": {
     "views": []
    },
    "6907a79c59544105a41af3a66d362b3f": {
     "views": []
    },
    "698b8730ee19400ea443baac1b1215b5": {
     "views": []
    },
    "69c3c5c8b6254f8eb6f975a96a6a4f23": {
     "views": []
    },
    "6a459cd9e89048cda8b7088ddd60425e": {
     "views": []
    },
    "6afc2ea52b98435382903bb7c98bf52e": {
     "views": []
    },
    "6bdfd97d193548d3a3ddb6dd5d6270c8": {
     "views": []
    },
    "6cc358dbe3e049fc8a930ce1f0582c30": {
     "views": []
    },
    "6d0cbaa30e16436bbcfdc14ef67ca530": {
     "views": []
    },
    "6d0fb420efa24d3fb7b0d4948b196913": {
     "views": []
    },
    "6d5140f5d430425287cda6f77f3e29e5": {
     "views": []
    },
    "6e27f1e9aa224b5c9feef148e04ff4fa": {
     "views": []
    },
    "6fbd4b9ff58044be8abca820b67ca8c2": {
     "views": []
    },
    "70761a695ca843bb9f3b3435ece73faa": {
     "views": []
    },
    "71d47c2c63ba4f53930ebbf3f793e686": {
     "views": []
    },
    "71f6e73972184879b24f09211bdf5c0c": {
     "views": []
    },
    "725d3b1a08b34f6095483ece442d8e70": {
     "views": []
    },
    "7275140f181d407db10251484b53ee0c": {
     "views": []
    },
    "72ac6a5d640d465ea398d530095e8211": {
     "views": []
    },
    "7315285119c04a11a38691b4e75182d8": {
     "views": []
    },
    "732d84c7f20140859522fdd57406e30d": {
     "views": []
    },
    "73c076b5641a4daa96c445298c1280ca": {
     "views": []
    },
    "73e0331db9404123a9d8955eee79334c": {
     "views": []
    },
    "7418862479e449b9a8efb87dbaf7353f": {
     "views": []
    },
    "744e51112cfd404880c181df9edd6dee": {
     "views": []
    },
    "7516ba98f1f3489686bd9c98ad7165b9": {
     "views": []
    },
    "75c2288657be4449b05839405b5ef204": {
     "views": []
    },
    "7683eaa317fd4113bac0d3bd9dd6e662": {
     "views": []
    },
    "76aacbda87514cbd862a941a0faba19e": {
     "views": []
    },
    "77a3203ece1342fb9fdef55ac4d4a195": {
     "views": []
    },
    "786c86f8a0f742a9bedfadbf1eceacfa": {
     "views": []
    },
    "794437758c9f4ea9bdfd16ae40987d0b": {
     "views": []
    },
    "79770d2ce3ad44b1b705a53cf180edc7": {
     "views": []
    },
    "7aee3dd4ff594210a3d176611537adb7": {
     "views": []
    },
    "7b279a2cfe744fa480286d71c76df45d": {
     "views": []
    },
    "7b4f9fbf8aa74d8c818de4e502eb5b5f": {
     "views": []
    },
    "7c4e15e8dac04a9da20100d89867a92e": {
     "views": []
    },
    "7c96221bd73e48b7a13558b22196369e": {
     "views": []
    },
    "7cde12a8ea3747539dbfce5a3f563a1c": {
     "views": []
    },
    "7db036d21dc8458fb8f30953dca52d32": {
     "views": []
    },
    "7db75d74b107476f98ac6684df3482a9": {
     "views": []
    },
    "7ddce5a3ed1b41c8bbadf6b80c73d59a": {
     "views": []
    },
    "7e3d6d2f1179403a83261f3b4808a9e2": {
     "views": []
    },
    "7f3560aeb955463d8763e43e6b0227ad": {
     "views": []
    },
    "7f4755ae8d3a4c088988eba47496dde6": {
     "views": []
    },
    "7f8e43d8a0f34b859d50d05bfe95f157": {
     "views": []
    },
    "7fb7c12d455e4485a20df278cfdc0b25": {
     "views": []
    },
    "80746102fc644daa9c006cf534e5ec03": {
     "views": []
    },
    "813469419dba468796af86516d16c5ba": {
     "views": []
    },
    "81b9df4de5cb4828a265b027f843ccfe": {
     "views": []
    },
    "8315526e5c2b445a994a28c80c28a1ce": {
     "views": []
    },
    "831e672105fb40399e70432aff872a6b": {
     "views": []
    },
    "8322c1997aeb4e0d8ee51257d92e3cb5": {
     "views": []
    },
    "8357ae81182d4beab990a28d371603aa": {
     "views": []
    },
    "83807345c2054bd6a9b26c685652c350": {
     "views": []
    },
    "83e9acf55f8a4e2e88f1222196ca803e": {
     "views": []
    },
    "8539aff209ee419187289d286eff991e": {
     "views": []
    },
    "854eaadc03dc48b48faa439958615f9c": {
     "views": []
    },
    "8625d6afa0f94dc5a348fb5ec73561e8": {
     "views": []
    },
    "87d87ca007ff4bd6853425f52d0d7be4": {
     "views": []
    },
    "88072f95ca884b1ab463803eae666a96": {
     "views": []
    },
    "88b66ba5a9584008bd046a325e56e894": {
     "views": []
    },
    "8925bb51601d4854a64c23ab67d5819f": {
     "views": []
    },
    "897eef13ac254959945a6a48b0371233": {
     "views": []
    },
    "89a3104a611541858e5f0c11d48fba31": {
     "views": []
    },
    "89f2f6de08314f4f8ad07686e8a271da": {
     "views": []
    },
    "8a1c959f22f642789dfeb2476b61f4ad": {
     "views": []
    },
    "8a2fe734698f41818de4c6130c081168": {
     "views": []
    },
    "8ab1a9d4d39e46188b2fd10759b73e7d": {
     "views": []
    },
    "8abc8e0f289b4606a805a6d95571173c": {
     "views": []
    },
    "8bba608d99e149bc82313cbe6b27c72b": {
     "views": []
    },
    "8bbea4bf6a604e18b9495d68bbcc3745": {
     "views": []
    },
    "8c7ce195c15e4cd88e172779af6e2f98": {
     "views": []
    },
    "8cdc1a04542d421f8dda22bfc53a7a4d": {
     "views": []
    },
    "8cdcec933904429bbc0a7a428bc4dd00": {
     "views": []
    },
    "8eab2e41b4184425b9059326a7f6effb": {
     "views": []
    },
    "8eacfb11acfd4e4ab48104488f983b41": {
     "views": []
    },
    "8eec0dc15bc64f048c3588196701e5c2": {
     "views": []
    },
    "8f22ae20f9d440ea946b3dbe49027cb3": {
     "views": []
    },
    "8ff9fbc12340427a89db37da9a469153": {
     "views": []
    },
    "905fcab414584c0f831ee66f782cfa2c": {
     "views": []
    },
    "90de28bc78ca41068bf2580ed4a0e6db": {
     "views": []
    },
    "9120fbdf11b247e688516dba8564313f": {
     "views": []
    },
    "92f50b9126fc438db0867702e7d970cb": {
     "views": []
    },
    "93706466f6b745e2aee1040cf8ec9174": {
     "views": []
    },
    "93983b93a31b4680aa7510c5af3d28fb": {
     "views": []
    },
    "94220d65e0aa4a059a5a0bdffbb4fc82": {
     "views": []
    },
    "94ab4a128dd240ff8d4fffd1410204d1": {
     "views": []
    },
    "950236d227ce4d4cb130d1171ccdfd99": {
     "views": []
    },
    "952006cecdb944308cbcd69f10be6301": {
     "views": []
    },
    "95292f6f97304e0fb2320be8b5eebd61": {
     "views": []
    },
    "954f67adcba24e168a80bbcd40391b5a": {
     "views": []
    },
    "9581c24689864f7ba4c3fa413550a3de": {
     "views": []
    },
    "95d7deb2ac2f4a268ef86b5cf43c6e36": {
     "views": []
    },
    "9696ca71a75e437790009f9bad1fea4c": {
     "views": []
    },
    "96b6bf50e5af478cadf1e73cf363cde7": {
     "views": []
    },
    "96c92b3157d749249dc86aad17c8710a": {
     "views": []
    },
    "974ddea33d274168a7ded0ff1ad8b0b9": {
     "views": []
    },
    "98101f71912d4c6d806b880263c95c60": {
     "views": []
    },
    "98573385193245dd9853830ae241803b": {
     "views": []
    },
    "986e0f3ff3df42a6925ed8825665a938": {
     "views": []
    },
    "98b726a9ddcd458897a6af3018ce20aa": {
     "views": []
    },
    "9927b2ce13724053a89852073e3d56d5": {
     "views": []
    },
    "9939b88ec77745bf861650d0198a296d": {
     "views": []
    },
    "99a35da321eb4d3682a8cb3d25cb5871": {
     "views": []
    },
    "99bb2f65c0874ff1965683ce911c2ecb": {
     "views": []
    },
    "99bd10d652b449d19f9e554c8f282364": {
     "views": []
    },
    "99eabbfe20384973a67a441555487ede": {
     "views": []
    },
    "9ab235effb324ea1b54b290333856548": {
     "views": []
    },
    "9b01aa7b29b347ddb0890514f0dc7086": {
     "views": []
    },
    "9b15fc2f91de4f19b546011abd9d8a4d": {
     "views": []
    },
    "9b161948cd94418aab5a3dd8d4c6eb2f": {
     "views": []
    },
    "9b7a4cdea4294066a56d4d13a25165d4": {
     "views": []
    },
    "9c6da21bc57348be8c754e930b28ab03": {
     "views": []
    },
    "9c7ed81593aa414db2c9b1ddc717ae9b": {
     "views": []
    },
    "9d1e09acf0704fe1942fdbba2cb8babb": {
     "views": []
    },
    "9d34c04e94b7471ba240d4869d36cab7": {
     "views": []
    },
    "9eab39fe787c46bcbd324355b49a2324": {
     "views": []
    },
    "9eb5e91f18ee4c1992cda383e6cf2b44": {
     "views": []
    },
    "a13064a82672450591d625bd5da81872": {
     "views": []
    },
    "a2553fd1642e430fb2dc40d28e6d332c": {
     "views": []
    },
    "a330efc0dc9a4d54a238e88c726ded3b": {
     "views": []
    },
    "a39c9c3a966e4e9daf4699ace25d6186": {
     "views": []
    },
    "a57b409a7f4f4434a88cdbcfafa757b6": {
     "views": []
    },
    "a5a133be7e924c56af9154338a65284e": {
     "views": []
    },
    "a5ef7cf91d07464cbacc6bf0108456ba": {
     "views": []
    },
    "a7a042c2a588456ea8c4173de7e684ad": {
     "views": []
    },
    "a8614d86f4cb4fc19b6f96521fe7f32a": {
     "views": []
    },
    "a8ba339be33945a7904314661a0b374b": {
     "views": []
    },
    "a8d0519afae344c9b242c8c7d8cfac22": {
     "views": []
    },
    "a9f082d3d11b4c2bb17e212e73aa8186": {
     "views": []
    },
    "aa4a1e6aad464d65b60497f8a6ace07f": {
     "views": []
    },
    "ad3df75cb07a436181b60fd7d868e661": {
     "views": []
    },
    "ada4f9ff79d545e8916febb9f455d508": {
     "views": []
    },
    "adb15946439d49d6bb9484d6e2d29b04": {
     "views": []
    },
    "ae38dd6a433048a2b8544c1f418b9ae7": {
     "views": []
    },
    "aeda95e30d614097821ef5965c0641c5": {
     "views": []
    },
    "af24eefb10e045ddb4dde756d4426d75": {
     "views": []
    },
    "af908f53aed744e0a6246d072d1c65d4": {
     "views": []
    },
    "b032081b92344dcc8f8aa97a8130d87d": {
     "views": []
    },
    "b0435e82a2c849bf9a2e0ba877d8f17e": {
     "views": []
    },
    "b055b756bf674cfca3e2e7620410a5ea": {
     "views": []
    },
    "b08efb9c6b8544bb8460593112b4ac18": {
     "views": []
    },
    "b09087089b6444ae8f9af0a6a3a01c6b": {
     "views": []
    },
    "b0ed9570e2ad4a1bad984383250441b8": {
     "views": []
    },
    "b129aa553c4a4f53932340f33d8a829d": {
     "views": []
    },
    "b16bb649cad94aba84c80f57c7db88d6": {
     "views": []
    },
    "b1b03049a5b64ae387000befd9611ff6": {
     "views": []
    },
    "b1c0d379b9224c8886b0d1685da41eae": {
     "views": []
    },
    "b29caa5e4a49484bbf17bb2c94b5000e": {
     "views": []
    },
    "b2c3cb62ef7e46d1b4e4a5d50a41e1b0": {
     "views": []
    },
    "b3102f2fe3e04cffbf5446f9ff826629": {
     "views": []
    },
    "b3c4ffce95064e2db1a51a4818b8e2c8": {
     "views": []
    },
    "b4061513d8804b15816255299354db3a": {
     "views": []
    },
    "b40c046a120b4d73a1cc425be19a3a8c": {
     "views": []
    },
    "b442cc004881423abfc75e2176ccd29e": {
     "views": []
    },
    "b625695b4d01445eb0ff9a59f7d0535d": {
     "views": []
    },
    "b6787f20afd74df4abd6366132b0d00f": {
     "views": []
    },
    "b67a574ed7704c68a646cfc69a0638b7": {
     "views": []
    },
    "b6e77fdd7f1a4cf6afa5ec44fda8f800": {
     "views": []
    },
    "b81d2059bd884b50a5ebf93ebeec33d8": {
     "views": []
    },
    "b838340a5f6247e3aac74f72b01cbe44": {
     "views": []
    },
    "b9b558e9a1ec4eae94da7d2c757cd29d": {
     "views": []
    },
    "bad573bc282440b9b9fff5ec147e1b74": {
     "views": []
    },
    "bb332bbe797340eb9f739feeb04385c6": {
     "views": []
    },
    "bb595762786644639d60d31d59f4feb7": {
     "views": []
    },
    "bbf6db08d48344b2a465babd3809d6c6": {
     "views": []
    },
    "bbf71c88f16c4dd59d06f428d5b6225f": {
     "views": []
    },
    "bc98d7637f9f408abb5c2ea049b1dbab": {
     "views": []
    },
    "bd34d511a45f43fea3c5862e1c6d63f7": {
     "views": []
    },
    "bd3dd9cf0c51477c9fe786285129ca45": {
     "views": []
    },
    "bd5d0b79cc74446eacb415cc6e8d8a96": {
     "views": []
    },
    "bd79c56c73de431d8f4de142d99d24da": {
     "views": []
    },
    "be5384a23d3141fb97c2f1060b7790e5": {
     "views": []
    },
    "be7c81016eaa4ea1a05c2e425416c7e8": {
     "views": []
    },
    "bf7e1ec3667241299d81ba9a6b78c200": {
     "views": []
    },
    "c05086dd32ce4bff8ec8d0af4ce9c98e": {
     "views": []
    },
    "c07ef6250289412b8235fc9c78df0c29": {
     "views": []
    },
    "c08b5234677049168368f9f1803ca031": {
     "views": []
    },
    "c0b8e16777c7496fb42c548096b15017": {
     "views": []
    },
    "c3b3f98ce5f94b1c80da17d9a03a01ab": {
     "views": []
    },
    "c3d169132a434b1ca36fce9989e72d55": {
     "views": []
    },
    "c45237b1143246fab324b055c06990d5": {
     "views": []
    },
    "c4a35f897f984120a6ca0adf223799ed": {
     "views": []
    },
    "c52c41252fe94833bc094070116de363": {
     "views": []
    },
    "c59f417c6ae84c97a383cc3bf67e2601": {
     "views": []
    },
    "c61a2eac56284d22aaf76aa19efdce30": {
     "views": []
    },
    "c6842bfdaa724341a69f8c22170879ea": {
     "views": []
    },
    "c7a103656d9b45b7b0dedcba893cca41": {
     "views": []
    },
    "c8755b2ebf3f4c30b112a53c779ce3aa": {
     "views": []
    },
    "c88c27521ac443a997a79923de61727a": {
     "views": []
    },
    "c9ae67fc76ff4e9da023a5eafa331bcc": {
     "views": []
    },
    "ca345238f73e4de9be86451a28245fe1": {
     "views": []
    },
    "ca35f9d185a54e4ba79dbfa25da4b245": {
     "views": []
    },
    "ca58d12b7a7a4e638e14de6c7a0ee483": {
     "views": []
    },
    "ca58fbcdc782455e8b1fd0facb9abfae": {
     "views": []
    },
    "ca63ef5b54674f32a647cdb138bf09d4": {
     "views": []
    },
    "ca90b5bbeaa24dbaac8160a836db9f78": {
     "views": []
    },
    "ca9368e040144dc38e419b83d7588b7e": {
     "views": []
    },
    "cabaa8f5725643c8b00d704c6c6ac235": {
     "views": []
    },
    "cb9caee5f5f3443ca2f0e7e365f7827b": {
     "views": []
    },
    "cba2771c7e5149fcaca86d5d7d144d51": {
     "views": []
    },
    "cbb1e24f7b7c40919497d47972f6338c": {
     "views": []
    },
    "cc8e3d464dd34d7b95e405938fa533ec": {
     "views": []
    },
    "cce769a7aa3f46119747d2e73209028b": {
     "views": []
    },
    "cd516d9e79b54888a957cce307bbdee3": {
     "views": []
    },
    "ce0052c761c44b69970ead17c7356a53": {
     "views": []
    },
    "cea19b37d8cf4930824d0bd2d173b9ff": {
     "views": []
    },
    "cf7e462d06e84fe5b13100650e2d57ce": {
     "views": []
    },
    "cfb4cb852fbd434fa495d01069fb2b35": {
     "views": []
    },
    "d05b5db42ef3461889005a88efb19b57": {
     "views": []
    },
    "d076c3f4583e4e59af6c165e9573c82f": {
     "views": []
    },
    "d08f377d68874ef7ace09ed842c35fb1": {
     "views": []
    },
    "d0eac7279c084554ae1a4ea19d0cc5e4": {
     "views": []
    },
    "d19a4f07ff39463b9c5396dfcb2b28f9": {
     "views": []
    },
    "d2314409fa2f4906a5b6b72d4f2b8ece": {
     "views": []
    },
    "d2c01f8f55f64e589d77248db0b25f79": {
     "views": []
    },
    "d2e1c178c15845e799d005954cef6e79": {
     "views": []
    },
    "d333ab11b30b4940969afb8cf931a745": {
     "views": []
    },
    "d56b4de4e5ce48fa9115b4d6d833423b": {
     "views": []
    },
    "d59dd202775b46d0823068a07c7d6843": {
     "views": []
    },
    "d5ff7f4c2b174d9ba3daebf2e3c9e39f": {
     "views": []
    },
    "d6003cd8d721442da95482e96588eed7": {
     "views": []
    },
    "d608634b0e1c4c579d2833dbb9f797ac": {
     "views": []
    },
    "d7331e91c87a45a6a1b619bb89854b7c": {
     "views": []
    },
    "d7831f9122584c8bb6b6fb12b020560c": {
     "views": []
    },
    "d9b5bdee91824fe0ad6cf13d1ca3ab21": {
     "views": []
    },
    "da7a85ffd01b4b9db756f598449af78c": {
     "views": []
    },
    "db93bb73ebb04fe0b1545cb9b21713c1": {
     "views": []
    },
    "db95d3a60c4c4b689181d4a3e701a34b": {
     "views": []
    },
    "dbb63dd40693485fa5d627504e50131e": {
     "views": []
    },
    "dbf7c0b9e86d4679a7e8ac163eb54f2c": {
     "views": []
    },
    "dc07a3c1f7b04d6fb65f525797ddee26": {
     "views": []
    },
    "dc36a99710a14fc89b8e225d032fe286": {
     "views": []
    },
    "dc5fce4a270e48cd93c5093878509a61": {
     "views": []
    },
    "dd00d3f817b940ea83bea140b9302521": {
     "views": []
    },
    "dd33da1a6bbe41449e9440f55a3a1293": {
     "views": []
    },
    "dd529a5d7a5c4b45b15728156bfaf650": {
     "views": []
    },
    "dde3f1b83d6a4c1db26e128709e5db34": {
     "views": []
    },
    "ddf8558de711441288f97b27e90d39d3": {
     "views": []
    },
    "de06a23a4d2f4b69832e8c436f2e4cb3": {
     "views": []
    },
    "de30edc49ce647159183f1084112f8f3": {
     "views": []
    },
    "deb93cc5d66b415488ef9135fca8e64e": {
     "views": []
    },
    "df76bd7fae624b5e9b693b223220877d": {
     "views": []
    },
    "dfd5bc984aa445f29b0437be555c9570": {
     "views": []
    },
    "e082929582a1495981f6ad55476bad4f": {
     "views": []
    },
    "e0971effdfc54886b297b42f29c96a46": {
     "views": []
    },
    "e11c72effac041c2a95065592f8ef77c": {
     "views": []
    },
    "e2801f33cfb9474ea58a8b114e13a277": {
     "views": []
    },
    "e2a00ab8e6264e7b8d6acc4523b4a477": {
     "views": []
    },
    "e2c08c747b78479598d4b5b1a7c2e15b": {
     "views": []
    },
    "e35cdfe48b7d41cd87d40091be8e63be": {
     "views": []
    },
    "e366cd9094b3403c8594145bff1c21be": {
     "views": []
    },
    "e3d3a71756bb493597aae670a89f8055": {
     "views": []
    },
    "e46f5d4128d14cc583240a45c379309f": {
     "views": []
    },
    "e558ef16f06142a6a9479faa315946ac": {
     "views": []
    },
    "e6802b8a96794c8780849904bbf72073": {
     "views": []
    },
    "e70cf3ccbab04e4ca47deeb512bc2fdf": {
     "views": []
    },
    "e779346159df473788e51575b1e6103a": {
     "views": []
    },
    "e7fe76762b3e4faf842917da139c27fb": {
     "views": []
    },
    "e802634041394c25920b31fe671269c1": {
     "views": []
    },
    "e86290861f64434b9018fff7c76f6bbd": {
     "views": []
    },
    "e8ad93d01f3c4b34a43450d8e64187b5": {
     "views": []
    },
    "e92b752990a447e0a6e48692a22855fb": {
     "views": []
    },
    "e9b03cc41e774bfd932699fae82c9b23": {
     "views": []
    },
    "ea8ac70335b64bfaa25b999ee6ac4a9a": {
     "views": []
    },
    "ec48c41450774122b5ce50f2c023c2b2": {
     "views": []
    },
    "ecc245e0b4b6406fa05f50303f17998f": {
     "views": []
    },
    "ecda6fb4f67b408095397b629dcc0936": {
     "views": []
    },
    "ed06cfa2101a40d5b30ec9a3e0ae5665": {
     "views": []
    },
    "ed0d6b94f04147c88700466e16fa19b0": {
     "views": []
    },
    "ed6af833e1f54426ad4fcece41bf90ec": {
     "views": []
    },
    "ed6c6f88d2134b0780b68172a69aa257": {
     "views": []
    },
    "edf2b498b1f145b18c0b08f709870097": {
     "views": []
    },
    "ee313fd320b04d73adbc8e9a13f17d0e": {
     "views": []
    },
    "ee3c70704a6a4463b45e92598aed84f2": {
     "views": []
    },
    "ee47e70b709e46f681315771f1169e69": {
     "views": []
    },
    "f00c7618301549229e043beb44986f0c": {
     "views": []
    },
    "f060e8cc744d4cc7ad4659fe56c19e81": {
     "views": []
    },
    "f13cfbee94c4408597259ae5b28a8d7b": {
     "views": []
    },
    "f2674761221049cc8c27cd472d84a139": {
     "views": []
    },
    "f2755387930f4ee39720a46fb773f3f0": {
     "views": []
    },
    "f28f13b019d04f939097728fb2640e49": {
     "views": []
    },
    "f2b9452493c8488eb288a81907991049": {
     "views": []
    },
    "f2e00406f6284728bc2e48cc6256cb35": {
     "views": []
    },
    "f3ffc09f41744b999bfb09dc085c94a7": {
     "views": []
    },
    "f40d1c22c52e4f09a992e4a8325b73b8": {
     "views": []
    },
    "f423d31f11764aaa9f500170b1e336b4": {
     "views": []
    },
    "f59f34960cfc440f8f0ed1fb8b12553f": {
     "views": []
    },
    "f5a7128172dd4565904db2896f2e4cad": {
     "views": []
    },
    "f6162a8a1d604cc89d121e2ecb160c64": {
     "views": []
    },
    "f6ac27b2bb0f407da7f4dc1d6098182e": {
     "views": []
    },
    "f7425c285c9246bc9c3b229b0d1cb59a": {
     "views": []
    },
    "f842c0a8ccef4d6d828c179060e827ef": {
     "views": []
    },
    "f8d13e00b02c427da9e4aba2ce40c064": {
     "views": []
    },
    "f9f96c8675d64e1e91824e8716fc697d": {
     "views": []
    },
    "fa35cccde07f43d1b17c051e2e27e302": {
     "views": []
    },
    "faa38651b6654d6db9a7c7fb69c243ca": {
     "views": []
    },
    "fae0d87340464af3af819eed5c22ab03": {
     "views": []
    },
    "fc67bb4025824b2783654d2432ae5538": {
     "views": []
    },
    "fcfd810858f143d6a6e2331fb0311f47": {
     "views": []
    },
    "fd361fcc5fc94cedaad489e378785c53": {
     "views": []
    },
    "fdda6fcd4b8843fba04561ffb956c6aa": {
     "views": []
    },
    "fe308cfc260b4fe29e2d4bb7a99a5a8f": {
     "views": []
    },
    "fff33c4668524092b7128bdaaae7a14a": {
     "views": []
    }
   },
   "version": "1.1.1"
  }
 },
 "nbformat": 4,
 "nbformat_minor": 0
}
