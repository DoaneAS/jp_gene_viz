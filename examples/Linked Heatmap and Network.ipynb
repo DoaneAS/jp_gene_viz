{
 "cells": [
  {
   "cell_type": "markdown",
   "metadata": {},
   "source": [
    "# A regulatory network widget linked with a heat-map\n",
    "\n",
    "This notebook shows how a regulatory network model visualization may be linked to\n",
    "a heatmap representing an array of gene expression values.\n",
    "\n",
    "Please see the [Combined widgets](../doc/Combined widgets.ipynb) documentation notebook\n",
    "for details of the heat-map and linkage controls."
   ]
  },
  {
   "cell_type": "code",
   "execution_count": null,
   "metadata": {
    "collapsed": false
   },
   "outputs": [],
   "source": [
    "from jp_gene_viz import LExpression"
   ]
  },
  {
   "cell_type": "code",
   "execution_count": null,
   "metadata": {
    "collapsed": false
   },
   "outputs": [],
   "source": [
    "LExpression.load_javascript_support()"
   ]
  },
  {
   "cell_type": "code",
   "execution_count": null,
   "metadata": {
    "collapsed": false
   },
   "outputs": [],
   "source": [
    "L = LExpression.LinkedExpressionNetwork()\n",
    "L.show()\n",
    "L.load_network(\"network.tsv\")\n",
    "L.load_heatmap(\"expr.tsv\")"
   ]
  },
  {
   "cell_type": "code",
   "execution_count": null,
   "metadata": {
    "collapsed": true
   },
   "outputs": [],
   "source": []
  }
 ],
 "metadata": {
  "kernelspec": {
   "display_name": "Python 2",
   "language": "python",
   "name": "python2"
  },
  "language_info": {
   "codemirror_mode": {
    "name": "ipython",
    "version": 2
   },
   "file_extension": ".py",
   "mimetype": "text/x-python",
   "name": "python",
   "nbconvert_exporter": "python",
   "pygments_lexer": "ipython2",
   "version": "2.7.10"
  },
  "widgets": {
   "state": {
    "003608a444a442e3934cb74a2a7cd699": {
     "views": []
    },
    "0157fb808d974b15be246c969147d8fb": {
     "views": []
    },
    "0529ea56b80e4028a8a0badf0677bd19": {
     "views": []
    },
    "056828ca98524e0288b55bf135b133bd": {
     "views": []
    },
    "0689c3a660d14053aee5d3aa0194a047": {
     "views": []
    },
    "06eede5757f0491ba552021d26d3fc30": {
     "views": []
    },
    "07000b75684d4148a77288fe9bdab0ca": {
     "views": []
    },
    "0771852d98424c1ba0dfe45aa07c87ae": {
     "views": []
    },
    "09c8533cbafd4ee7b255986c2a63f56d": {
     "views": []
    },
    "0a9795a6baba493cade23e7c5dcfc1fe": {
     "views": []
    },
    "0ba39f001d7e45778b9e8cb1928c687e": {
     "views": []
    },
    "0c7c4f040ee440389968ea72053b6ede": {
     "views": []
    },
    "0ce3737349864ccab518ceb2a9226992": {
     "views": []
    },
    "0d57ab7573144d8c8d102fc095284c28": {
     "views": []
    },
    "107e3a84e37940a2bce0c5e5568f3566": {
     "views": []
    },
    "1251d82b4c7440c58b92423824f2d16d": {
     "views": []
    },
    "12ccf4440ac74401969a0bc42c2f4c0a": {
     "views": []
    },
    "13760cf3ae5545b5a7cab8acd39eb503": {
     "views": []
    },
    "13a1abbd48d343da95fb9f08d4c0087b": {
     "views": []
    },
    "141fc71f2f914a888c98c7ebd69038f6": {
     "views": []
    },
    "1443ca1c0e9b49f09007283cdc5e137b": {
     "views": []
    },
    "1593bd1f5dca463f9dc783e04f839734": {
     "views": []
    },
    "169fb503629f4e46bc8a05eb65284ccc": {
     "views": []
    },
    "16d99e7563aa4a3092334bae794146bf": {
     "views": []
    },
    "177bbdc10d834355a9a0d2f43afdbe7b": {
     "views": []
    },
    "1789bcfc330b47feaeb987078c8e0346": {
     "views": []
    },
    "1790f4293f7c417f8a43817202955f01": {
     "views": []
    },
    "1822490e35c744b68e5620230a38e1b0": {
     "views": []
    },
    "19667b297b4c417a8ad56fd969b1ea62": {
     "views": []
    },
    "19caf53ac0fa487993c1a29135e0440b": {
     "views": []
    },
    "19cf65709c5a4d5db953c42567fcdd04": {
     "views": []
    },
    "1a21ce935b8d456bbbf30618c1f0e62a": {
     "views": []
    },
    "1b1381d6ab4845cbb4b5e9ba7ef5ff2f": {
     "views": []
    },
    "1bdcaa0a02044433ba817340028ce92f": {
     "views": []
    },
    "1bebaebadcd941c3b1b7fb0e5ba6dad2": {
     "views": []
    },
    "1cd2a3747394459bbe5d1d94b3204b8d": {
     "views": []
    },
    "1d0b6589e13044c6a5cb637a9c562d93": {
     "views": []
    },
    "1d4def6bbe57459086351a90c653113a": {
     "views": []
    },
    "1db7ace7d6eb484b9c06798062be7a25": {
     "views": []
    },
    "1dc04f2d657d4809bac7956f2a286253": {
     "views": []
    },
    "1dceef9b374f44ad8e75c3d0563090fa": {
     "views": []
    },
    "1df88fc7febb44359dc674ea7f344d04": {
     "views": []
    },
    "1f9861723c6b4bc080284dac7296b918": {
     "views": []
    },
    "1f9d1f7f1d92416ca1d0d75140718086": {
     "views": []
    },
    "1fed3f3fd4cf4dd1ba021b313fa3a1aa": {
     "views": []
    },
    "2516cef68c904bf2b936fdf33eb5111e": {
     "views": []
    },
    "258a8c146c524a18a0333c2a213dabb9": {
     "views": []
    },
    "27da2748f8214cf38b96b54476ab6685": {
     "views": []
    },
    "27dd77e130b34cae8fb724c25587c8b3": {
     "views": []
    },
    "28efaacc36cc40ffbeb853a4373f3daa": {
     "views": []
    },
    "2c269e53fc644729972c4254b583dd05": {
     "views": []
    },
    "2c7b87a696e34d86bf0753bae397d964": {
     "views": []
    },
    "2ca43ab549bc4c9e96bedf5966834e6e": {
     "views": []
    },
    "2cad7824163646719e569d8189e98c2e": {
     "views": []
    },
    "2ce3deeebf4d4f2f8e35e70d033f131c": {
     "views": []
    },
    "2e1781bc2f444d758274fe6e0e7b8990": {
     "views": []
    },
    "2f663d1a966540b3b3151c91f72b3399": {
     "views": []
    },
    "304bfdd4f42c4a33a17797e350e379d4": {
     "views": []
    },
    "3081fe4b52984da4b3883429e0f21c9c": {
     "views": []
    },
    "324ba868452143bca0d9b8f96e5a6867": {
     "views": []
    },
    "32a3899a03a64cc681b5057d2bda3360": {
     "views": []
    },
    "33c0618c4f024a2c9b8400ae03d6ff56": {
     "views": []
    },
    "34f52d5154fe480daea391462e9bcb6f": {
     "views": []
    },
    "359fdf5e56c04bfe8a83f03cb613a7d4": {
     "views": []
    },
    "35a0f7f667284f958af0d04af0c29dbd": {
     "views": []
    },
    "35c0e22d7dad40798444f34914a8e8be": {
     "views": []
    },
    "35c93cb3f21b4f39a32a1604b4e428dd": {
     "views": []
    },
    "36f44b00aca44afea461cfea78a1bb36": {
     "views": []
    },
    "3aadb9f323044aa9aa41e78ae8156f50": {
     "views": []
    },
    "3b009ec8b31f4691a47e2ba27225cb74": {
     "views": []
    },
    "3b7ee7e068cb4f3f95849d9d1446e00e": {
     "views": []
    },
    "3cd7a32fbef9472a9e0c09ac665f3363": {
     "views": []
    },
    "3d3fce17448243ee9c7cf4db8c5a021b": {
     "views": []
    },
    "3d9c51877754492ea5874e0bb932dd9d": {
     "views": []
    },
    "3f1c3d4b17eb46e383c0ceaa64c1608a": {
     "views": []
    },
    "3f549319a29249e393a91474bcf31954": {
     "views": []
    },
    "3fcf39efa851495bacc1e35d74790ab3": {
     "views": []
    },
    "4148d450f399497d948803760eaf6804": {
     "views": []
    },
    "4287028c53674497bf2b4690a110506b": {
     "views": []
    },
    "4356b7667da045708520569a3655d3d2": {
     "views": []
    },
    "4357b2cbe4674906bd086033f4d30e65": {
     "views": []
    },
    "44d45e6f549549429348e18e130c8ed9": {
     "views": []
    },
    "48764a0ff9df4016ae3a04574d75c46a": {
     "views": []
    },
    "48c7d262cf8d441797ad89654f08cb28": {
     "views": []
    },
    "48d7381ea83a4d2492f45d77c184bec7": {
     "views": []
    },
    "49e1ac4a6eed4aa59078c240276e9e23": {
     "views": []
    },
    "4a4143065f2940c59bb07dcc0affadb8": {
     "views": []
    },
    "4c48bcf164f84d22a9c4f548a0772880": {
     "views": []
    },
    "501d31fd2cca481f936413f879d375a6": {
     "views": []
    },
    "50759c298217461e935347d4a941563f": {
     "views": []
    },
    "50a4213128ef4604a273e3c8501a5c37": {
     "views": []
    },
    "5234f3d224cd48dcb9d0a4901a9fa1b0": {
     "views": []
    },
    "52a37d98891e42c382b6a5b356396b95": {
     "views": []
    },
    "5410987cf05940a49c9053995422b84d": {
     "views": []
    },
    "543feb22de794696b8a05ca870cf5740": {
     "views": []
    },
    "5496bdc914f54ecabe1aa93683751c49": {
     "views": []
    },
    "54fed7a7c4104888b48fceb87706f5e9": {
     "views": []
    },
    "55bd6a68498244e4a640bb7a4c6c7c52": {
     "views": []
    },
    "569289da9e854a4d97e7da1afda2a933": {
     "views": []
    },
    "5748fc94500e4ba58842792068d6dda3": {
     "views": []
    },
    "58537cdb42064a2589ad720fec853a18": {
     "views": []
    },
    "5afc05d7cfcd417d9a17d59b03977000": {
     "views": []
    },
    "5c29b8448e7242d2b1553cae2534e8c8": {
     "views": []
    },
    "5c3f6b3ea5544384a2b5eac7aaa9eca8": {
     "views": []
    },
    "5c978e5fb3864031b989c82efa9bfb7e": {
     "views": []
    },
    "5d81374584a04369bdc3c0710e8bd97b": {
     "views": []
    },
    "5d85dc43817a458d9d11abb5c9d96a0f": {
     "views": []
    },
    "5da2ccfdfc9f40078af1cbaf51838959": {
     "views": []
    },
    "5f1a5ecf1cef46de8b83df118a1d8158": {
     "views": []
    },
    "5f7a019dfbd145da8c02861ca9b35dd2": {
     "views": []
    },
    "60481a1b43d842019e22e3e1a8f6bb70": {
     "views": []
    },
    "6071d2c691cb46fb8092f1dcb6cc77b9": {
     "views": []
    },
    "6148571925f8420d9c4dbc641005b985": {
     "views": []
    },
    "6290a253550d43fb82420a19a0a6cdfa": {
     "views": []
    },
    "641a4f2f7e174f6cbbcef97f2f7a31e4": {
     "views": []
    },
    "652673a003f64fa3922fa27a0668f0b1": {
     "views": []
    },
    "6605b135bc1349d39031814d83ec25e3": {
     "views": []
    },
    "67a1a81f4c4a43c9b3093d2c102b820d": {
     "views": []
    },
    "684d007b83eb489b8bc6e3c9e09a7770": {
     "views": []
    },
    "68a26c1ca55e4681bd51384bd703eb04": {
     "views": []
    },
    "696ddf6e30fc4de590ec0e5d445f33a5": {
     "views": []
    },
    "698ca6f4078440a38421364686070b28": {
     "views": []
    },
    "6a20310995c54d669e5f5998bb3196ae": {
     "views": []
    },
    "6a72a41aaa704b529034d366a53cb0c3": {
     "views": []
    },
    "6af2c29f26f74380a6000a9391cc7927": {
     "views": []
    },
    "6b86c23a1f94461696ae7bfbc9742d5d": {
     "views": []
    },
    "6c0277a4acd445ae9964a49159c137a1": {
     "views": []
    },
    "6c625aecef9f45a2bd90390e4b97d6e6": {
     "views": []
    },
    "6c6986d2b4ec491fbdabe056d5608fb8": {
     "views": []
    },
    "6ebb239495a24cf4965f9d7bd41f8d7e": {
     "views": []
    },
    "6edca2835f414afba80b9a75a8500bb4": {
     "views": []
    },
    "700276532869429ead19d58959556e33": {
     "views": []
    },
    "7002fa6f7e6f4280b28e70ed672427de": {
     "views": []
    },
    "701889a83f4e41189077767092547dc7": {
     "views": []
    },
    "705bdc62d1d74b3dbd5059c728f0e4b2": {
     "views": []
    },
    "71f7fc1ff3774831a5bd0e305279821b": {
     "views": []
    },
    "722337ad74704556b18ec042ebe43aaf": {
     "views": []
    },
    "7230fdf168d5400486b0b4c974eb0213": {
     "views": []
    },
    "739c56e4d75e4b8bbb71092a5aa6ab4c": {
     "views": []
    },
    "739d367f18384bb08f25476977c17246": {
     "views": []
    },
    "73c081cdacc948c884a25899b80382ce": {
     "views": []
    },
    "73d8ac9da35b4cd3a98b8c2a963fd16a": {
     "views": []
    },
    "74341249e323449ea76e21ab57541a3c": {
     "views": []
    },
    "76040f581b2c415cad2e16b6dee48528": {
     "views": []
    },
    "784bdd0e97a54e6a8ba8b9a0dee549e0": {
     "views": []
    },
    "799f5c9916424424a3dcd090a56b03a9": {
     "views": []
    },
    "79c3a1ed80424c8f985c78757525bbc8": {
     "views": []
    },
    "79cf44b0f47e42eb8517737fc9dc28e7": {
     "views": []
    },
    "7babe65b085c4699a14589fe94efa912": {
     "views": []
    },
    "7dd9d13a3d37417589d909a1a2556312": {
     "views": []
    },
    "81161ed834c44d9e818a465704911779": {
     "views": []
    },
    "8214402c37f44e3782be32866ced3f8f": {
     "views": []
    },
    "82e98150530846db929bb5340d99120d": {
     "views": []
    },
    "830e8898daa04817b58ae874d6875b1e": {
     "views": []
    },
    "836e825e44f140adbd9377ef7f2f4d42": {
     "views": []
    },
    "8381e9b9f2ad4e58a9050cf43b446862": {
     "views": []
    },
    "84175f0b2b174599b15d6d713fd97f85": {
     "views": []
    },
    "84c824faef2a4c338a9c16ac8778ea28": {
     "views": []
    },
    "86f05fbb79e64757b0c10482dfe014be": {
     "views": []
    },
    "8718f1ed66214b4fb6d1f2100216ae1a": {
     "views": []
    },
    "87a3ab8c52644e8aa4f3132da201208c": {
     "views": []
    },
    "87bcaf8322994b64b2c64a050e84573f": {
     "views": []
    },
    "89c630b61995495aa4e929cd3855f007": {
     "views": []
    },
    "8a135ad654cd442494e1dc4dbd3222b4": {
     "views": []
    },
    "8ac9a1c164754c618de61a0d08a2cdd8": {
     "views": []
    },
    "8c3ef2b38bd94e77992f6db9c1348a9f": {
     "views": []
    },
    "8cdfe5be047249eba8c05fd11458e97f": {
     "views": []
    },
    "901c778eb8814e15bb91946fc903b62f": {
     "views": []
    },
    "90c9c759c7ce42688d6e6ea14df81569": {
     "views": []
    },
    "917f17cd7b964b9da857de1e3572f5f8": {
     "views": []
    },
    "932661908f484bab98eb26418503884a": {
     "views": []
    },
    "9469111e61b94e88844cf966c61242bc": {
     "views": []
    },
    "9486a76b09674538a5b1acb354cd619f": {
     "views": []
    },
    "95046b9f87e1470cab924f1fd1424e29": {
     "views": []
    },
    "9549b5c8d80b4f37b65b282752128e77": {
     "views": []
    },
    "95a96747b90049f08a80cd0aa801e2c5": {
     "views": []
    },
    "969167363d474c5aa9554c75041568af": {
     "views": []
    },
    "97558a98dc8841548f2655b4f3f4c5af": {
     "views": [
      {
       "cell_index": 3
      }
     ]
    },
    "97595b299420407d9083f5350573c74f": {
     "views": []
    },
    "99832c40dc8041bd9bc36f2fa5a590b9": {
     "views": []
    },
    "9a736b7348a04420b6d0a3d1088625de": {
     "views": []
    },
    "9bdfadbe8afe473aab32f3d2be5637d4": {
     "views": []
    },
    "9d094b5757c24e6e86a7cf30aa3d7286": {
     "views": []
    },
    "a05288c299fc492cb16f809f64ea880b": {
     "views": []
    },
    "a2af786f55bd4ee08afefa40e2d7239d": {
     "views": []
    },
    "a2bed87663874dac9d9eda36b4313e1d": {
     "views": []
    },
    "a2d41487df1d43f09d1eada3ca2bd8ce": {
     "views": []
    },
    "a2f9c4930e284f5fb2dbbf563671f557": {
     "views": []
    },
    "a450c490d0504236912b7ac63e478bf3": {
     "views": []
    },
    "a4529a7fdfdd45d89a2fe5e410f38416": {
     "views": []
    },
    "a5e5027011794f278589d8a3c344c56b": {
     "views": []
    },
    "a68d4333c412444ea23ffb5b9da9d33d": {
     "views": []
    },
    "a6950c70fa0f44f5984923435f8cc419": {
     "views": []
    },
    "a6d47087e53540719bd4cf7a64f37c7f": {
     "views": []
    },
    "a8bda0869c2742c4bac5b351435286ea": {
     "views": []
    },
    "a8de525dfd8847d08070a667690e51a1": {
     "views": []
    },
    "a9793adf06694b67a6e4555d8abfe701": {
     "views": []
    },
    "aa107d650b7246b09f85b4f7d10ea78f": {
     "views": []
    },
    "ad6b10dce09d4378bfcde6bf7f430164": {
     "views": []
    },
    "af66239a14404e83995a640b80418177": {
     "views": []
    },
    "afa9bdd6c4c24482a88d896bf61e878a": {
     "views": []
    },
    "b012416f822b47d2b6f8dd10eda7521f": {
     "views": []
    },
    "b081e9fe3c61468bbd2b7965d7b3e50d": {
     "views": []
    },
    "b1928bdea9d64a46a6cfed118edf8de2": {
     "views": []
    },
    "b1cb396b55f241428c3a99cb4695b157": {
     "views": []
    },
    "b281880b79e94831b201d35927220a61": {
     "views": []
    },
    "b2aaa90d054b41b4938b89757670261f": {
     "views": []
    },
    "b39ece40ae674547ae92c135048be70f": {
     "views": []
    },
    "b4eae01cba8c4fbc88810f288f05d833": {
     "views": []
    },
    "b54fcfa87d634252a5a7ca75abdf0b81": {
     "views": []
    },
    "b622dbf325434f28b5ec42dc85c24050": {
     "views": []
    },
    "b62af6e740ed484a874cf996d1fc1bbb": {
     "views": []
    },
    "b7d361d3f5d2489080fce9b2b5a8744c": {
     "views": []
    },
    "b7d8e82ff66e49189afc5ad3e95f46f1": {
     "views": []
    },
    "b8229e3ab98940b78f067d35d07b2ac8": {
     "views": []
    },
    "b98bcbc6fbcf47b990d0395f6c1c0335": {
     "views": []
    },
    "b999eb5159fb47d1a2f4ef87d0053053": {
     "views": []
    },
    "b9dcfd7d1f6e45ef91ae8e0734b40292": {
     "views": []
    },
    "ba79e19915de478e8da64d6c017597d7": {
     "views": []
    },
    "bb5e8abf4a0f4976a8984c925587ec8c": {
     "views": []
    },
    "bc1d18727ee9405693bcf4ca23084d05": {
     "views": []
    },
    "bc41c19deba14a378e94ba5f55d87c04": {
     "views": []
    },
    "bc71f7bdba1d4b968628f78d3b732509": {
     "views": []
    },
    "bcaa429624ff4499b1f5539b5a96fbba": {
     "views": []
    },
    "bfc18e5f77334d6b83f9d82e537249c2": {
     "views": []
    },
    "c0fad7bb4a0c44d3ae551e38f96e28c3": {
     "views": []
    },
    "c321e123af45432eb7ac6823f832dd54": {
     "views": []
    },
    "c42c80b860c54e53a097241a4049b6ed": {
     "views": []
    },
    "c4b0728489974aaaaa3efc1f293f1a05": {
     "views": []
    },
    "c4b481efb2f241508bf167edede532c0": {
     "views": []
    },
    "c578a5f341f74d0999cee1ea190710c5": {
     "views": []
    },
    "c66186a0a349434b92aa373954ee2225": {
     "views": []
    },
    "c7ba76c90c8a490eafc788e5e0f5ba5b": {
     "views": []
    },
    "c8622e97b42c46d593cb37690ceadde7": {
     "views": []
    },
    "c8699f8532124774afdcb6a0bcc15bc2": {
     "views": []
    },
    "c89fb55425464e05b2989766acf387e7": {
     "views": []
    },
    "c938097ab2824632b4f877ed25167628": {
     "views": []
    },
    "cac0f1523e404076a6c772844cd222be": {
     "views": []
    },
    "cae98cff1ced4ad1a9eb4b521e0c7536": {
     "views": []
    },
    "cb0ce55e0b1d456c8ec5124d58121aac": {
     "views": []
    },
    "cbeb7af1b4954d8892f1bba1b465d6c1": {
     "views": []
    },
    "cc57765dbeb0495280aaa561a46208c5": {
     "views": []
    },
    "cccd3c09cbba4b439f69a763fa8ca7bf": {
     "views": []
    },
    "cdcc4d8d8bdc4296803223e4a3d28f25": {
     "views": []
    },
    "cef8a172ff1448e3a5b95bf629e6e832": {
     "views": []
    },
    "cf7bec3a5a5141b8815680bddb0aa3c2": {
     "views": []
    },
    "d0413ad6a6ed4544a874047e0313589a": {
     "views": []
    },
    "d07ccc84f96f4b1c9e9c417dfe26e3d0": {
     "views": []
    },
    "d14c90e73e0f40efa9139c8d3cd90e00": {
     "views": []
    },
    "d1773334ba9147b5b87c39061b3c0bfa": {
     "views": []
    },
    "d1f1ce98b37e446dadd622cddcc6142e": {
     "views": []
    },
    "d2347f434ba441fcbae28772f4124226": {
     "views": []
    },
    "d278b347f8784bc8a59924e29e7ff546": {
     "views": []
    },
    "d2c432cef8c1418da29254559634ab0a": {
     "views": []
    },
    "d2d751daa53a45cb9f47913ffcf821b0": {
     "views": []
    },
    "d3424273321442bcbe36a2ec555f27d9": {
     "views": []
    },
    "d44b4be168c84fc5adde19aa64806fa5": {
     "views": []
    },
    "d4fca6adf84b44c7abbf9b8abccb0a97": {
     "views": []
    },
    "d6882426af9a42fa9c0995d8189c1ba1": {
     "views": []
    },
    "d6baf9a7c56c4b6396c53ffceecaa15b": {
     "views": []
    },
    "d7a6c6e4149a4c96bc916cdb1a993964": {
     "views": []
    },
    "d80621c893c34de6adc8d272191818cf": {
     "views": []
    },
    "d8f06853a1204f0880e982506ac1bac9": {
     "views": []
    },
    "d90644736a4f4146895d8555e65edc5d": {
     "views": []
    },
    "da7388ac006a4be582bc257cdb9c7f2f": {
     "views": []
    },
    "db01995274cb474da161a3c36fe95792": {
     "views": []
    },
    "db596c84d3934d99b00ac2b9614af5e3": {
     "views": []
    },
    "db993fdd5a2f4e9d85cc9ddfb4e03bbc": {
     "views": []
    },
    "dbb9f852cff5445fbbda779cd004a6e1": {
     "views": []
    },
    "dbee187daa424bce8e64b3c0e6aed450": {
     "views": []
    },
    "dc28598b443e4860ac06d0374125a9ca": {
     "views": []
    },
    "dcaceaa7b7824e8997e1da617390774b": {
     "views": []
    },
    "dcbf777b309e4fae9f80d5ba7989ec80": {
     "views": []
    },
    "df9e83ee242c45dfb37170fb07453ef3": {
     "views": []
    },
    "dfb22b9e873f4b96b31492694d371783": {
     "views": []
    },
    "dff116249b614052bfb1d86835303be9": {
     "views": []
    },
    "e12e7c67cf304314959336b06094b4c9": {
     "views": []
    },
    "e1437c780237473281eadf96d33d0230": {
     "views": []
    },
    "e1773d1a2b0b4d75af488803442842a0": {
     "views": []
    },
    "e297d9f1677f4d8e930346a1514e9105": {
     "views": []
    },
    "e30b5e2acaa445f7823dba6c2b4c165c": {
     "views": []
    },
    "e30d6cd17a0544719d78ebe3fd4a168f": {
     "views": []
    },
    "e38323794b2e456eb9917dbf6375a35a": {
     "views": []
    },
    "e41418eedba24b94a330a21de9e712bc": {
     "views": []
    },
    "e70ff8c800a74187a330c6f851aca499": {
     "views": []
    },
    "e9ce2fc9e0694a9bb78b4429cbff529a": {
     "views": []
    },
    "ea4e8814b63c48fe9fd67f103bd79949": {
     "views": []
    },
    "eaab609ec5914fe3aa32c8c2b61a9908": {
     "views": []
    },
    "eb196a508e1444ba9a80809380f708f2": {
     "views": []
    },
    "ee0689b20bc04a47b10e08616f9c34b8": {
     "views": []
    },
    "eeff0b4c3e104f5c95b3a95d0e7b9ee9": {
     "views": []
    },
    "ef95d4b76a5146a38e61cb5f46143e65": {
     "views": []
    },
    "eff296ecc4fb4ff884870377b15e6001": {
     "views": []
    },
    "f096173bcbdb49dab911058ae2680311": {
     "views": []
    },
    "f12d18d24c81449fbbe685f1f79eaae7": {
     "views": []
    },
    "f13c624d45464dd1bbb59c0905fd2eff": {
     "views": []
    },
    "f160ddbf279c47d18504b57de846ab70": {
     "views": []
    },
    "f205d94dbe0e4907869cc5a98dd8082a": {
     "views": []
    },
    "f3094db7b33b43a0883408fe99de517e": {
     "views": []
    },
    "f3278152b9cf4eb4b213ca41d348f116": {
     "views": []
    },
    "f38f247fb185498494c89b2e00da3d54": {
     "views": []
    },
    "f552df0f40694fe99f72b8f817c2336d": {
     "views": []
    },
    "f626c67ddc714a27b2e697c9ec30c96c": {
     "views": []
    },
    "f72e359df1b54bddb74b345e036bac47": {
     "views": []
    },
    "f74970ad6624487797cef8a531008aa4": {
     "views": []
    },
    "f74e0adaab074f58894278c0be0ebbe5": {
     "views": []
    },
    "f7ca4b392b984dd29f1a714b641e900d": {
     "views": []
    },
    "f7e04f1cdf364c4aabd5d9034085db9d": {
     "views": []
    },
    "f876bfe0cf204693bd261c5759ef5146": {
     "views": []
    },
    "f8877adce7a547abbbce5ba6d2e21cc5": {
     "views": []
    },
    "f9f58d530c164f2abbad8dfb2c94f710": {
     "views": []
    },
    "f9f791180923474b96c4b68ad062f1a6": {
     "views": []
    },
    "fd889f07c61043ab9c71ebc2b02a6738": {
     "views": []
    },
    "febd3f75c28744e4adc043d016d63f43": {
     "views": []
    },
    "ff8b8bc001ba4969aca723f472694333": {
     "views": []
    },
    "ff8f3e3df4584e4489c740f974673aae": {
     "views": []
    }
   },
   "version": "1.1.1"
  }
 },
 "nbformat": 4,
 "nbformat_minor": 0
}
