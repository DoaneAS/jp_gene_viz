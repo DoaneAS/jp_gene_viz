{
 "cells": [
  {
   "cell_type": "markdown",
   "metadata": {},
   "source": [
    "### A diagram using cytoscape\n",
    "\n",
    "The following exercise demonstrates how to create\n",
    "a diagram using `cytoscape.js` with `js_proxy` making\n",
    "use of complex styling features.\n",
    "\n",
    "The diagram is combined with other ipywidget controls\n",
    "to provide additional interactivity"
   ]
  },
  {
   "cell_type": "code",
   "execution_count": null,
   "metadata": {
    "collapsed": true
   },
   "outputs": [],
   "source": [
    "from jp_gene_viz import js_proxy\n",
    "from jp_gene_viz import js_context\n",
    "\n",
    "import ipywidgets as widgets\n",
    "from IPython.display import display\n",
    "\n",
    "import warnings\n",
    "# ignore deprecation warning from traitlets...\n",
    "warnings.filterwarnings(\"ignore\",category=DeprecationWarning)"
   ]
  },
  {
   "cell_type": "code",
   "execution_count": null,
   "metadata": {
    "collapsed": false
   },
   "outputs": [],
   "source": [
    "js_context.load_if_not_loaded([\"cytoscape.js\"])\n",
    "js_proxy.load_javascript_support()"
   ]
  },
  {
   "cell_type": "code",
   "execution_count": null,
   "metadata": {
    "collapsed": false
   },
   "outputs": [],
   "source": [
    "# cytoscape styling for nodes and edges and parent nodes.\n",
    "style = [\n",
    "    {\n",
    "      \"selector\": 'node',\n",
    "      \"css\": {\n",
    "        'content': 'data(label)',\n",
    "        'text-valign': 'center',\n",
    "        'text-halign': 'center',\n",
    "        'text-wrap': 'wrap',\n",
    "        'text-max-width': 80,\n",
    "        'text-valign': 'center',\n",
    "        'color': 'white',\n",
    "        'text-outline-width': 2,\n",
    "        'text-outline-color': '#888',\n",
    "            \"background-color\": \"cyan\"\n",
    "      }\n",
    "    },\n",
    "    {\n",
    "      \"selector\": '$node > node',\n",
    "      \"css\": {\n",
    "        'padding-top': '10px',\n",
    "        'padding-left': '10px',\n",
    "        'padding-bottom': '10px',\n",
    "        'padding-right': '10px',\n",
    "        'text-valign': 'top',\n",
    "        'text-halign': 'left',\n",
    "        'background-color': '#bbb'\n",
    "      }\n",
    "    },\n",
    "    {\n",
    "      \"selector\": 'edge',\n",
    "      \"css\": {\n",
    "        'target-arrow-shape': 'triangle',\n",
    "        \"line-color\": \"red\",\n",
    "        'target-arrow-color': 'red',\n",
    "      }\n",
    "    },\n",
    "    {\n",
    "      \"selector\": ':selected',\n",
    "      \"css\": {\n",
    "        'background-color': 'black',\n",
    "        'line-color': 'black',\n",
    "        'target-arrow-color': 'black',\n",
    "        'source-arrow-color': 'black'\n",
    "      }\n",
    "    }]"
   ]
  },
  {
   "cell_type": "code",
   "execution_count": null,
   "metadata": {
    "collapsed": false
   },
   "outputs": [],
   "source": [
    "def nodedesc(ident, label, parent=None, pos=None):\n",
    "    data = { \"id\": ident, \"label\": label}\n",
    "    if pos:\n",
    "        (x, y) = pos\n",
    "        position = {\"x\": x, \"y\": y}\n",
    "    if parent:\n",
    "        data[\"parent\"] = parent\n",
    "    result = {\"data\": data}\n",
    "    if pos:\n",
    "        result[\"position\"] = position\n",
    "    return result\n",
    "\n",
    "def edgedesc(source, target):\n",
    "    ident = source+target\n",
    "    return {\"data\": {\"id\": ident, \"source\": source, \"target\": target}}\n",
    "\n",
    "def makeNetwork(w, with_proxy=False, layout=\"preset\"):\n",
    "    #w = js_proxy.ProxyWidget()\n",
    "    elt = w.element()\n",
    "    w(elt.empty())\n",
    "    window = w.window()\n",
    "    cytoscape = window.cytoscape\n",
    "    jQuery = window.jQuery\n",
    "    w(elt.height(800).width(800))\n",
    "    w(elt._set(\"target\", \n",
    "               jQuery(\"<div></div>\").\n",
    "               height(800).\n",
    "               width(800).\n",
    "               #html(\"cytoscape target div\").\n",
    "               appendTo(elt)\n",
    "              ))\n",
    "    nodes = [{\"data\": {\"id\": \"n\", \"label\": \"cytoscape\"}}]\n",
    "    #style= 'node { content: data(id); }'\n",
    "    nodes = []\n",
    "    edges = []\n",
    "    nodes.append(nodedesc(\"ip\", \"IPython\"))\n",
    "    nodes.append(nodedesc(\"py\", \"Python widget\"))\n",
    "    nodes.append(nodedesc(\"jv\", \"Javacript view\"))\n",
    "    nodes.append(nodedesc(\"jp\", \"Javascript plugin\"))\n",
    "    if with_proxy:\n",
    "        nodes.append(nodedesc(\"jspw\", \"js_proxy widget\", \"py\", (400,300)))\n",
    "        nodes.append(nodedesc(\"jspv\", \"js_proxy_view\", \"jv\", (400, 450)))\n",
    "        edges.append(edgedesc(\"jspw\", \"jspv\"))\n",
    "        edges.append(edgedesc(\"jspv\", \"jspw\"))\n",
    "    x = 0\n",
    "    for component in [\"picker\", \"network\", \"heatmap\"]:\n",
    "        x = x + 200\n",
    "        letter = component[0]\n",
    "        nc = letter + \"c\"\n",
    "        nw = letter + \"w\"\n",
    "        nv = letter + \"v\"\n",
    "        np = letter + \"p\"\n",
    "        nodes.append(nodedesc(nc, component+\" config\", \"ip\", (x, 150)))\n",
    "        if not with_proxy:\n",
    "            nodes.append(nodedesc(nw, component+\" widget\", \"py\", (x, 300)))\n",
    "            nodes.append(nodedesc(nv, component+\" view\", \"jv\", (x, 450)))\n",
    "        nodes.append(nodedesc(np, component+\" plugin\", \"jp\", (x, 600)))\n",
    "        if not with_proxy:\n",
    "            for (a,b) in [(nc, nw), (nw,nv), (nv,np)]:\n",
    "                edges.append(edgedesc(a, b))\n",
    "                edges.append(edgedesc(b, a))\n",
    "        else:\n",
    "            for (a,b) in [(nc, \"jspw\"), (\"jspv\", np)]:\n",
    "                edges.append(edgedesc(a, b))\n",
    "                edges.append(edgedesc(b, a))\n",
    "    elements = {\"nodes\": nodes, \"edges\": edges}\n",
    "    #elements = {\n",
    "    #                \"nodes\":[{ \"data\": { \"id\": \"n\", \"label\": \"cytoscape.js\" }} ]\n",
    "    #            }\n",
    "    descriptor = {\n",
    "        \"container\": elt.target._get(0),\n",
    "        \"style\": style, \n",
    "        \"elements\": elements,\n",
    "        \"layout\": {\"name\": layout, \"padding\": 5}\n",
    "    }\n",
    "    w(elt.width(\"200px\").height(\"200px\"))\n",
    "    w(cytoscape(descriptor))\n",
    "    w.flush()\n",
    "    return (w, descriptor)\n",
    "\n",
    "class Diagram(object):\n",
    "    \n",
    "    def __init__(self):\n",
    "        w = self.widget = js_proxy.ProxyWidget()\n",
    "        c = self.check = widgets.Checkbox(description=\"with js_proxy\", value=False)\n",
    "        c.on_trait_change(self.draw, \"value\")\n",
    "        options = [\"preset\", \"cose\"]\n",
    "        d = self.dropdown = widgets.Dropdown(options=options, value=options[0])\n",
    "        d.on_trait_change(self.draw, \"value\")\n",
    "        a = self.assembly = widgets.VBox(children=[c, d, w])\n",
    "        # force the assembly to be big enough\n",
    "        a.height = 950\n",
    "        self.draw()\n",
    "        display(self.assembly)\n",
    "        \n",
    "    def draw(self, *ignored_arguments):\n",
    "        makeNetwork(self.widget, self.check.value, self.dropdown.value)"
   ]
  },
  {
   "cell_type": "code",
   "execution_count": null,
   "metadata": {
    "collapsed": false
   },
   "outputs": [],
   "source": [
    "# Old way:\n",
    "#w = js_proxy.ProxyWidget()\n",
    "#dummy = makeNetwork(w, True)\n",
    "#display(w)\n",
    "\n",
    "# New way:\n",
    "D = Diagram()"
   ]
  },
  {
   "cell_type": "code",
   "execution_count": null,
   "metadata": {
    "collapsed": true
   },
   "outputs": [],
   "source": []
  }
 ],
 "metadata": {
  "kernelspec": {
   "display_name": "Python 2",
   "language": "python",
   "name": "python2"
  },
  "language_info": {
   "codemirror_mode": {
    "name": "ipython",
    "version": 2
   },
   "file_extension": ".py",
   "mimetype": "text/x-python",
   "name": "python",
   "nbconvert_exporter": "python",
   "pygments_lexer": "ipython2",
   "version": "2.7.10"
  },
  "widgets": {
   "state": {
    "0b2e460169ac4d899222bac04a6848fd": {
     "views": []
    },
    "19c049aa001d44df9fea19ca9c894131": {
     "views": []
    },
    "27c6e46561ae421fa5d8d0127b848285": {
     "views": []
    },
    "2b05647ff11c4837b5e32e2bbe977804": {
     "views": []
    },
    "486e6335bc1241449c2c8b819ee17534": {
     "views": []
    },
    "74f33c329f384d63803a0108ef36d10e": {
     "views": []
    },
    "7cf0a1ba09234018a995adbf8654e5ff": {
     "views": []
    },
    "a080ac485f6948219a0646fd302e4e82": {
     "views": []
    },
    "aec42ab72b134c71856fbfdb2233f69d": {
     "views": []
    },
    "b5f2fae1f5ef409eaadb182473ea8ceb": {
     "views": [
      {
       "cell_index": 5
      }
     ]
    },
    "cd40701490524cab88b26876f6f977f8": {
     "views": []
    },
    "ced029ee415f45c2b6305974ae09cbf0": {
     "views": []
    },
    "dafb166500d8416a9f81a6efe5b2445f": {
     "views": []
    },
    "dd4cf3b80f9e4314be640cecd95a48dd": {
     "views": []
    },
    "f396be1b5a144039bcfd6c626af1706d": {
     "views": []
    },
    "fa6ede397cda4430a94dfa0b0d372e22": {
     "views": []
    }
   },
   "version": "1.1.1"
  }
 },
 "nbformat": 4,
 "nbformat_minor": 0
}
